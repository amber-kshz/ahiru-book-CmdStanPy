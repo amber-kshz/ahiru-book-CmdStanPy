{
 "cells": [
  {
   "cell_type": "code",
   "execution_count": 1,
   "metadata": {},
   "outputs": [],
   "source": [
    "import numpy as np\n",
    "from cmdstanpy import CmdStanModel\n",
    "from matplotlib import pyplot as plt"
   ]
  },
  {
   "cell_type": "code",
   "execution_count": 2,
   "metadata": {},
   "outputs": [],
   "source": [
    "rng = np.random.RandomState(42)\n",
    "\n",
    "N1 = 30\n",
    "N2 = 20\n",
    "Y1 = rng.normal(loc=0.0, scale=5, size=N1)\n",
    "Y2 = rng.normal(loc=1.0, scale=4, size=N2)"
   ]
  },
  {
   "cell_type": "code",
   "execution_count": 3,
   "metadata": {},
   "outputs": [],
   "source": [
    "# for stan\n",
    "data = {\n",
    "    \"N1\": N1,\n",
    "    \"N2\": N2,\n",
    "    \"Y1\": Y1,\n",
    "    \"Y2\": Y2\n",
    "}"
   ]
  },
  {
   "cell_type": "code",
   "execution_count": 4,
   "metadata": {},
   "outputs": [
    {
     "data": {
      "image/png": "[encoded data removed]",
      "text/plain": [
       "<Figure size 432x288 with 1 Axes>"
      ]
     },
     "metadata": {
      "needs_background": "light"
     },
     "output_type": "display_data"
    }
   ],
   "source": [
    "ax = plt.subplot(111)\n",
    "ax.boxplot([Y1, Y2], widths=[0.8, 0.8])\n",
    "ax.plot(np.ones_like(Y1) + rng.normal(0, 0.05, len(Y1)), Y1, 'o')\n",
    "ax.plot(2*np.ones_like(Y2) + rng.normal(0, 0.05, len(Y2)), Y2, 'o')\n",
    "plt.show()"
   ]
  },
  {
   "cell_type": "markdown",
   "metadata": {},
   "source": [
    "# Model with common standard deviation"
   ]
  },
  {
   "cell_type": "code",
   "execution_count": 5,
   "metadata": {},
   "outputs": [
    {
     "name": "stderr",
     "output_type": "stream",
     "text": [
      "INFO:cmdstanpy:found newer exe file, not recompiling\n",
      "INFO:cmdstanpy:compiled model file: /workdir/Chap04/model/ex3\n"
     ]
    },
    {
     "name": "stdout",
     "output_type": "stream",
     "text": [
      "CmdStanModel: name=ex3\n",
      "\t stan_file=/workdir/Chap04/model/ex3.stan\n",
      "\t exe_file=/workdir/Chap04/model/ex3\n",
      "\t compiler_optons=stanc_options=None, cpp_options=None\n"
     ]
    }
   ],
   "source": [
    "model3 = CmdStanModel(stan_file=\"model/ex3.stan\")\n",
    "print(model3)"
   ]
  },
  {
   "cell_type": "code",
   "execution_count": 6,
   "metadata": {},
   "outputs": [
    {
     "name": "stderr",
     "output_type": "stream",
     "text": [
      "INFO:cmdstanpy:start chain 1\n",
      "INFO:cmdstanpy:start chain 2\n",
      "INFO:cmdstanpy:start chain 3\n",
      "INFO:cmdstanpy:start chain 4\n",
      "INFO:cmdstanpy:finish chain 4\n",
      "INFO:cmdstanpy:finish chain 2\n",
      "INFO:cmdstanpy:finish chain 1\n",
      "INFO:cmdstanpy:finish chain 3\n"
     ]
    }
   ],
   "source": [
    "fit3 = model3.sample(data=data)"
   ]
  },
  {
   "cell_type": "code",
   "execution_count": 7,
   "metadata": {},
   "outputs": [
    {
     "data": {
      "text/html": [
       "<div>\n",
       "<style scoped>\n",
       "    .dataframe tbody tr th:only-of-type {\n",
       "        vertical-align: middle;\n",
       "    }\n",
       "\n",
       "    .dataframe tbody tr th {\n",
       "        vertical-align: top;\n",
       "    }\n",
       "\n",
       "    .dataframe thead th {\n",
       "        text-align: right;\n",
       "    }\n",
       "</style>\n",
       "<table border=\"1\" class=\"dataframe\">\n",
       "  <thead>\n",
       "    <tr style=\"text-align: right;\">\n",
       "      <th></th>\n",
       "      <th>Mean</th>\n",
       "      <th>MCSE</th>\n",
       "      <th>StdDev</th>\n",
       "      <th>5%</th>\n",
       "      <th>50%</th>\n",
       "      <th>95%</th>\n",
       "      <th>N_Eff</th>\n",
       "      <th>N_Eff/s</th>\n",
       "      <th>R_hat</th>\n",
       "    </tr>\n",
       "    <tr>\n",
       "      <th>name</th>\n",
       "      <th></th>\n",
       "      <th></th>\n",
       "      <th></th>\n",
       "      <th></th>\n",
       "      <th></th>\n",
       "      <th></th>\n",
       "      <th></th>\n",
       "      <th></th>\n",
       "      <th></th>\n",
       "    </tr>\n",
       "  </thead>\n",
       "  <tbody>\n",
       "    <tr>\n",
       "      <th>lp__</th>\n",
       "      <td>-97.199800</td>\n",
       "      <td>0.032711</td>\n",
       "      <td>1.315060</td>\n",
       "      <td>-99.85500</td>\n",
       "      <td>-96.850500</td>\n",
       "      <td>-95.800100</td>\n",
       "      <td>1616.21</td>\n",
       "      <td>11971.9</td>\n",
       "      <td>1.005460</td>\n",
       "    </tr>\n",
       "    <tr>\n",
       "      <th>mu1</th>\n",
       "      <td>-0.933802</td>\n",
       "      <td>0.013509</td>\n",
       "      <td>0.831324</td>\n",
       "      <td>-2.30702</td>\n",
       "      <td>-0.937769</td>\n",
       "      <td>0.441309</td>\n",
       "      <td>3787.05</td>\n",
       "      <td>28052.2</td>\n",
       "      <td>1.000370</td>\n",
       "    </tr>\n",
       "    <tr>\n",
       "      <th>mu2</th>\n",
       "      <td>-0.120246</td>\n",
       "      <td>0.017490</td>\n",
       "      <td>0.994293</td>\n",
       "      <td>-1.74542</td>\n",
       "      <td>-0.141278</td>\n",
       "      <td>1.502720</td>\n",
       "      <td>3231.66</td>\n",
       "      <td>23938.2</td>\n",
       "      <td>1.001470</td>\n",
       "    </tr>\n",
       "    <tr>\n",
       "      <th>sigma</th>\n",
       "      <td>4.438130</td>\n",
       "      <td>0.008519</td>\n",
       "      <td>0.475284</td>\n",
       "      <td>3.73786</td>\n",
       "      <td>4.398040</td>\n",
       "      <td>5.286940</td>\n",
       "      <td>3112.34</td>\n",
       "      <td>23054.4</td>\n",
       "      <td>0.999933</td>\n",
       "    </tr>\n",
       "  </tbody>\n",
       "</table>\n",
       "</div>"
      ],
      "text/plain": [
       "            Mean      MCSE    StdDev        5%        50%        95%    N_Eff  \\\n",
       "name                                                                            \n",
       "lp__  -97.199800  0.032711  1.315060 -99.85500 -96.850500 -95.800100  1616.21   \n",
       "mu1    -0.933802  0.013509  0.831324  -2.30702  -0.937769   0.441309  3787.05   \n",
       "mu2    -0.120246  0.017490  0.994293  -1.74542  -0.141278   1.502720  3231.66   \n",
       "sigma   4.438130  0.008519  0.475284   3.73786   4.398040   5.286940  3112.34   \n",
       "\n",
       "       N_Eff/s     R_hat  \n",
       "name                      \n",
       "lp__   11971.9  1.005460  \n",
       "mu1    28052.2  1.000370  \n",
       "mu2    23938.2  1.001470  \n",
       "sigma  23054.4  0.999933  "
      ]
     },
     "execution_count": 7,
     "metadata": {},
     "output_type": "execute_result"
    }
   ],
   "source": [
    "fit3.summary()"
   ]
  },
  {
   "cell_type": "code",
   "execution_count": 8,
   "metadata": {},
   "outputs": [
    {
     "name": "stdout",
     "output_type": "stream",
     "text": [
      "P[mu1 < mu2] : 0.74025\n"
     ]
    }
   ],
   "source": [
    "sample_mu1 = fit3.stan_variable(\"mu1\")\n",
    "sample_mu2 = fit3.stan_variable(\"mu2\")\n",
    "\n",
    "print(\"P[mu1 < mu2] :\", (sample_mu1 < sample_mu2).sum() / len(sample_mu1))"
   ]
  },
  {
   "cell_type": "markdown",
   "metadata": {},
   "source": [
    "# Model with (possibly) different standard deviations"
   ]
  },
  {
   "cell_type": "code",
   "execution_count": 9,
   "metadata": {},
   "outputs": [
    {
     "name": "stderr",
     "output_type": "stream",
     "text": [
      "INFO:cmdstanpy:found newer exe file, not recompiling\n",
      "INFO:cmdstanpy:compiled model file: /workdir/Chap04/model/ex5\n"
     ]
    },
    {
     "name": "stdout",
     "output_type": "stream",
     "text": [
      "CmdStanModel: name=ex5\n",
      "\t stan_file=/workdir/Chap04/model/ex5.stan\n",
      "\t exe_file=/workdir/Chap04/model/ex5\n",
      "\t compiler_optons=stanc_options=None, cpp_options=None\n"
     ]
    }
   ],
   "source": [
    "model5 = CmdStanModel(stan_file=\"model/ex5.stan\")\n",
    "print(model5)"
   ]
  },
  {
   "cell_type": "code",
   "execution_count": 10,
   "metadata": {},
   "outputs": [
    {
     "name": "stderr",
     "output_type": "stream",
     "text": [
      "INFO:cmdstanpy:start chain 1\n",
      "INFO:cmdstanpy:start chain 2\n",
      "INFO:cmdstanpy:start chain 3\n",
      "INFO:cmdstanpy:start chain 4\n",
      "INFO:cmdstanpy:finish chain 2\n",
      "INFO:cmdstanpy:finish chain 3\n",
      "INFO:cmdstanpy:finish chain 1\n",
      "INFO:cmdstanpy:finish chain 4\n"
     ]
    }
   ],
   "source": [
    "fit5 = model5.sample(data=data)"
   ]
  },
  {
   "cell_type": "code",
   "execution_count": 11,
   "metadata": {},
   "outputs": [
    {
     "data": {
      "text/html": [
       "<div>\n",
       "<style scoped>\n",
       "    .dataframe tbody tr th:only-of-type {\n",
       "        vertical-align: middle;\n",
       "    }\n",
       "\n",
       "    .dataframe tbody tr th {\n",
       "        vertical-align: top;\n",
       "    }\n",
       "\n",
       "    .dataframe thead th {\n",
       "        text-align: right;\n",
       "    }\n",
       "</style>\n",
       "<table border=\"1\" class=\"dataframe\">\n",
       "  <thead>\n",
       "    <tr style=\"text-align: right;\">\n",
       "      <th></th>\n",
       "      <th>Mean</th>\n",
       "      <th>MCSE</th>\n",
       "      <th>StdDev</th>\n",
       "      <th>5%</th>\n",
       "      <th>50%</th>\n",
       "      <th>95%</th>\n",
       "      <th>N_Eff</th>\n",
       "      <th>N_Eff/s</th>\n",
       "      <th>R_hat</th>\n",
       "    </tr>\n",
       "    <tr>\n",
       "      <th>name</th>\n",
       "      <th></th>\n",
       "      <th></th>\n",
       "      <th></th>\n",
       "      <th></th>\n",
       "      <th></th>\n",
       "      <th></th>\n",
       "      <th></th>\n",
       "      <th></th>\n",
       "      <th></th>\n",
       "    </tr>\n",
       "  </thead>\n",
       "  <tbody>\n",
       "    <tr>\n",
       "      <th>lp__</th>\n",
       "      <td>-96.063800</td>\n",
       "      <td>0.032406</td>\n",
       "      <td>1.430640</td>\n",
       "      <td>-98.78110</td>\n",
       "      <td>-95.758200</td>\n",
       "      <td>-94.393700</td>\n",
       "      <td>1949.04</td>\n",
       "      <td>12907.5</td>\n",
       "      <td>1.002800</td>\n",
       "    </tr>\n",
       "    <tr>\n",
       "      <th>mu1</th>\n",
       "      <td>-0.948125</td>\n",
       "      <td>0.013532</td>\n",
       "      <td>0.865476</td>\n",
       "      <td>-2.33776</td>\n",
       "      <td>-0.957393</td>\n",
       "      <td>0.472273</td>\n",
       "      <td>4090.28</td>\n",
       "      <td>27087.9</td>\n",
       "      <td>0.999691</td>\n",
       "    </tr>\n",
       "    <tr>\n",
       "      <th>mu2</th>\n",
       "      <td>-0.123400</td>\n",
       "      <td>0.015511</td>\n",
       "      <td>0.955944</td>\n",
       "      <td>-1.69612</td>\n",
       "      <td>-0.105767</td>\n",
       "      <td>1.425650</td>\n",
       "      <td>3798.28</td>\n",
       "      <td>25154.2</td>\n",
       "      <td>0.999878</td>\n",
       "    </tr>\n",
       "    <tr>\n",
       "      <th>sigma1</th>\n",
       "      <td>4.703740</td>\n",
       "      <td>0.009986</td>\n",
       "      <td>0.637394</td>\n",
       "      <td>3.80644</td>\n",
       "      <td>4.636650</td>\n",
       "      <td>5.840040</td>\n",
       "      <td>4074.25</td>\n",
       "      <td>26981.8</td>\n",
       "      <td>0.999478</td>\n",
       "    </tr>\n",
       "    <tr>\n",
       "      <th>sigma2</th>\n",
       "      <td>4.301150</td>\n",
       "      <td>0.013001</td>\n",
       "      <td>0.773772</td>\n",
       "      <td>3.24300</td>\n",
       "      <td>4.188670</td>\n",
       "      <td>5.751500</td>\n",
       "      <td>3542.11</td>\n",
       "      <td>23457.7</td>\n",
       "      <td>1.000340</td>\n",
       "    </tr>\n",
       "  </tbody>\n",
       "</table>\n",
       "</div>"
      ],
      "text/plain": [
       "             Mean      MCSE    StdDev        5%        50%        95%  \\\n",
       "name                                                                    \n",
       "lp__   -96.063800  0.032406  1.430640 -98.78110 -95.758200 -94.393700   \n",
       "mu1     -0.948125  0.013532  0.865476  -2.33776  -0.957393   0.472273   \n",
       "mu2     -0.123400  0.015511  0.955944  -1.69612  -0.105767   1.425650   \n",
       "sigma1   4.703740  0.009986  0.637394   3.80644   4.636650   5.840040   \n",
       "sigma2   4.301150  0.013001  0.773772   3.24300   4.188670   5.751500   \n",
       "\n",
       "          N_Eff  N_Eff/s     R_hat  \n",
       "name                                \n",
       "lp__    1949.04  12907.5  1.002800  \n",
       "mu1     4090.28  27087.9  0.999691  \n",
       "mu2     3798.28  25154.2  0.999878  \n",
       "sigma1  4074.25  26981.8  0.999478  \n",
       "sigma2  3542.11  23457.7  1.000340  "
      ]
     },
     "execution_count": 11,
     "metadata": {},
     "output_type": "execute_result"
    }
   ],
   "source": [
    "fit5.summary()"
   ]
  },
  {
   "cell_type": "code",
   "execution_count": 12,
   "metadata": {},
   "outputs": [
    {
     "name": "stdout",
     "output_type": "stream",
     "text": [
      "P[mu1 < mu2] : 0.746\n"
     ]
    }
   ],
   "source": [
    "sample_mu1 = fit5.stan_variable(\"mu1\")\n",
    "sample_mu2 = fit5.stan_variable(\"mu2\")\n",
    "\n",
    "print(\"P[mu1 < mu2] :\", (sample_mu1 < sample_mu2).mean())"
   ]
  }
 ],
 "metadata": {
  "kernelspec": {
   "display_name": "Python 3",
   "language": "python",
   "name": "python3"
  },
  "language_info": {
   "codemirror_mode": {
    "name": "ipython",
    "version": 3
   },
   "file_extension": ".py",
   "mimetype": "text/x-python",
   "name": "python",
   "nbconvert_exporter": "python",
   "pygments_lexer": "ipython3",
   "version": "3.8.2"
  }
 },
 "nbformat": 4,
 "nbformat_minor": 4
}
