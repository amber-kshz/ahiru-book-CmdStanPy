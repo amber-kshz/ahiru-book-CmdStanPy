{
 "cells": [
  {
   "cell_type": "markdown",
   "metadata": {},
   "source": [
    "\"Hello world\" from https://cmdstanpy.readthedocs.io/en/latest/getting_started.html."
   ]
  },
  {
   "cell_type": "code",
   "execution_count": 1,
   "metadata": {},
   "outputs": [],
   "source": [
    "import os\n",
    "from cmdstanpy import CmdStanModel"
   ]
  },
  {
   "cell_type": "markdown",
   "metadata": {},
   "source": [
    "# Specify a Stan model"
   ]
  },
  {
   "cell_type": "code",
   "execution_count": 2,
   "metadata": {},
   "outputs": [
    {
     "name": "stderr",
     "output_type": "stream",
     "text": [
      "INFO:cmdstanpy:compiling stan program, exe file: /workdir/HelloWorld/model/bernoulli\n",
      "INFO:cmdstanpy:compiler options: stanc_options=None, cpp_options=None\n",
      "INFO:cmdstanpy:compiled model file: /workdir/HelloWorld/model/bernoulli\n"
     ]
    },
    {
     "name": "stdout",
     "output_type": "stream",
     "text": [
      "CmdStanModel: name=bernoulli\n",
      "\t stan_file=/workdir/HelloWorld/model/bernoulli.stan\n",
      "\t exe_file=/workdir/HelloWorld/model/bernoulli\n",
      "\t compiler_optons=stanc_options=None, cpp_options=None\n"
     ]
    }
   ],
   "source": [
    "bernoulli_stan = \"model/bernoulli.stan\"\n",
    "bernoulli_model = CmdStanModel(stan_file=bernoulli_stan)\n",
    "print(bernoulli_model)"
   ]
  },
  {
   "cell_type": "code",
   "execution_count": 3,
   "metadata": {},
   "outputs": [
    {
     "name": "stdout",
     "output_type": "stream",
     "text": [
      "data {\n",
      "   int<lower=0> N;\n",
      "   int<lower=0,upper=1> y[N];\n",
      " }\n",
      "\n",
      " parameters {\n",
      "   real<lower=0,upper=1> theta;\n",
      " }\n",
      "\n",
      " model {\n",
      "   theta ~ beta(1,1);  // uniform prior on interval 0,1\n",
      "   y ~ bernoulli(theta);\n",
      " }\n",
      "\n"
     ]
    }
   ],
   "source": [
    "print(bernoulli_model.code())"
   ]
  },
  {
   "cell_type": "markdown",
   "metadata": {},
   "source": [
    "# Run the HMC-NUTS sampler"
   ]
  },
  {
   "cell_type": "code",
   "execution_count": 4,
   "metadata": {},
   "outputs": [
    {
     "name": "stderr",
     "output_type": "stream",
     "text": [
      "INFO:cmdstanpy:start chain 1\n",
      "INFO:cmdstanpy:start chain 2\n",
      "INFO:cmdstanpy:start chain 3\n",
      "INFO:cmdstanpy:start chain 4\n",
      "INFO:cmdstanpy:finish chain 1\n",
      "INFO:cmdstanpy:finish chain 2\n",
      "INFO:cmdstanpy:finish chain 3\n",
      "INFO:cmdstanpy:finish chain 4\n"
     ]
    }
   ],
   "source": [
    "bernoulli_data = \"data/bernoulli.data.json\"\n",
    "bern_fit = bernoulli_model.sample(data=bernoulli_data)"
   ]
  },
  {
   "cell_type": "markdown",
   "metadata": {},
   "source": [
    "# Access the sample"
   ]
  },
  {
   "cell_type": "code",
   "execution_count": 5,
   "metadata": {},
   "outputs": [
    {
     "name": "stdout",
     "output_type": "stream",
     "text": [
      "CmdStanMCMC: model=bernoulli chains=4['method=sample', 'algorithm=hmc', 'adapt', 'engaged=1']\n",
      " csv_files:\n",
      "\t/tmp/tmp9rie2sdo/bernoulli-202009181130-1-cjm39snw.csv\n",
      "\t/tmp/tmp9rie2sdo/bernoulli-202009181130-2-hkyqtr79.csv\n",
      "\t/tmp/tmp9rie2sdo/bernoulli-202009181130-3-gg952dw6.csv\n",
      "\t/tmp/tmp9rie2sdo/bernoulli-202009181130-4-x90z8xdt.csv\n",
      " output_files:\n",
      "\t/tmp/tmp9rie2sdo/bernoulli-202009181130-1-cjm39snw-stdout.txt\n",
      "\t/tmp/tmp9rie2sdo/bernoulli-202009181130-2-hkyqtr79-stdout.txt\n",
      "\t/tmp/tmp9rie2sdo/bernoulli-202009181130-3-gg952dw6-stdout.txt\n",
      "\t/tmp/tmp9rie2sdo/bernoulli-202009181130-4-x90z8xdt-stdout.txt\n"
     ]
    }
   ],
   "source": [
    "print(bern_fit)"
   ]
  },
  {
   "cell_type": "code",
   "execution_count": 6,
   "metadata": {},
   "outputs": [
    {
     "name": "stdout",
     "output_type": "stream",
     "text": [
      "<class 'numpy.ndarray'>\n",
      "(1000, 4, 8)\n"
     ]
    }
   ],
   "source": [
    "print(type(bern_fit.draws()))\n",
    "print(bern_fit.draws().shape)"
   ]
  },
  {
   "cell_type": "code",
   "execution_count": 7,
   "metadata": {},
   "outputs": [
    {
     "name": "stdout",
     "output_type": "stream",
     "text": [
      "(1000, 8)\n",
      "[-7.01866   0.97922   0.946019  1.        3.        0.        7.58466\n",
      "  0.166322]\n"
     ]
    }
   ],
   "source": [
    "chain_1 = bern_fit.draws()[:,0,:]\n",
    "print(chain_1.shape)\n",
    "print(chain_1[0])"
   ]
  },
  {
   "cell_type": "code",
   "execution_count": 8,
   "metadata": {},
   "outputs": [
    {
     "data": {
      "text/plain": [
       "array([0.166322 , 0.190068 , 0.190068 , ..., 0.101882 , 0.0874855,\n",
       "       0.255023 ])"
      ]
     },
     "execution_count": 8,
     "metadata": {},
     "output_type": "execute_result"
    }
   ],
   "source": [
    "bern_fit.stan_variable(\"theta\")"
   ]
  },
  {
   "cell_type": "markdown",
   "metadata": {},
   "source": [
    "# Summarize the results"
   ]
  },
  {
   "cell_type": "code",
   "execution_count": 9,
   "metadata": {},
   "outputs": [
    {
     "data": {
      "text/html": [
       "<div>\n",
       "<style scoped>\n",
       "    .dataframe tbody tr th:only-of-type {\n",
       "        vertical-align: middle;\n",
       "    }\n",
       "\n",
       "    .dataframe tbody tr th {\n",
       "        vertical-align: top;\n",
       "    }\n",
       "\n",
       "    .dataframe thead th {\n",
       "        text-align: right;\n",
       "    }\n",
       "</style>\n",
       "<table border=\"1\" class=\"dataframe\">\n",
       "  <thead>\n",
       "    <tr style=\"text-align: right;\">\n",
       "      <th></th>\n",
       "      <th>Mean</th>\n",
       "      <th>MCSE</th>\n",
       "      <th>StdDev</th>\n",
       "      <th>5%</th>\n",
       "      <th>50%</th>\n",
       "      <th>95%</th>\n",
       "      <th>N_Eff</th>\n",
       "      <th>N_Eff/s</th>\n",
       "      <th>R_hat</th>\n",
       "    </tr>\n",
       "    <tr>\n",
       "      <th>name</th>\n",
       "      <th></th>\n",
       "      <th></th>\n",
       "      <th></th>\n",
       "      <th></th>\n",
       "      <th></th>\n",
       "      <th></th>\n",
       "      <th></th>\n",
       "      <th></th>\n",
       "      <th></th>\n",
       "    </tr>\n",
       "  </thead>\n",
       "  <tbody>\n",
       "    <tr>\n",
       "      <th>lp__</th>\n",
       "      <td>-7.308900</td>\n",
       "      <td>0.021391</td>\n",
       "      <td>0.771717</td>\n",
       "      <td>-8.881520</td>\n",
       "      <td>-7.004040</td>\n",
       "      <td>-6.750350</td>\n",
       "      <td>1301.52</td>\n",
       "      <td>13146.7</td>\n",
       "      <td>1.00170</td>\n",
       "    </tr>\n",
       "    <tr>\n",
       "      <th>theta</th>\n",
       "      <td>0.245598</td>\n",
       "      <td>0.003255</td>\n",
       "      <td>0.121789</td>\n",
       "      <td>0.073755</td>\n",
       "      <td>0.230689</td>\n",
       "      <td>0.471147</td>\n",
       "      <td>1399.90</td>\n",
       "      <td>14140.4</td>\n",
       "      <td>1.00007</td>\n",
       "    </tr>\n",
       "  </tbody>\n",
       "</table>\n",
       "</div>"
      ],
      "text/plain": [
       "           Mean      MCSE    StdDev        5%       50%       95%    N_Eff  \\\n",
       "name                                                                         \n",
       "lp__  -7.308900  0.021391  0.771717 -8.881520 -7.004040 -6.750350  1301.52   \n",
       "theta  0.245598  0.003255  0.121789  0.073755  0.230689  0.471147  1399.90   \n",
       "\n",
       "       N_Eff/s    R_hat  \n",
       "name                     \n",
       "lp__   13146.7  1.00170  \n",
       "theta  14140.4  1.00007  "
      ]
     },
     "execution_count": 9,
     "metadata": {},
     "output_type": "execute_result"
    }
   ],
   "source": [
    "bern_fit.summary()"
   ]
  },
  {
   "cell_type": "code",
   "execution_count": 10,
   "metadata": {},
   "outputs": [
    {
     "name": "stderr",
     "output_type": "stream",
     "text": [
      "INFO:cmdstanpy:Processing csv files: /tmp/tmp9rie2sdo/bernoulli-202009181130-1-cjm39snw.csv, /tmp/tmp9rie2sdo/bernoulli-202009181130-2-hkyqtr79.csv, /tmp/tmp9rie2sdo/bernoulli-202009181130-3-gg952dw6.csv, /tmp/tmp9rie2sdo/bernoulli-202009181130-4-x90z8xdt.csv\n",
      "\n",
      "Checking sampler transitions treedepth.\n",
      "Treedepth satisfactory for all transitions.\n",
      "\n",
      "Checking sampler transitions for divergences.\n",
      "No divergent transitions found.\n",
      "\n",
      "Checking E-BFMI - sampler transitions HMC potential energy.\n",
      "E-BFMI satisfactory for all transitions.\n",
      "\n",
      "Effective sample size satisfactory.\n",
      "\n",
      "Split R-hat values satisfactory all parameters.\n",
      "\n",
      "Processing complete, no problems detected.\n"
     ]
    },
    {
     "name": "stdout",
     "output_type": "stream",
     "text": [
      "Processing csv files: /tmp/tmp9rie2sdo/bernoulli-202009181130-1-cjm39snw.csv, /tmp/tmp9rie2sdo/bernoulli-202009181130-2-hkyqtr79.csv, /tmp/tmp9rie2sdo/bernoulli-202009181130-3-gg952dw6.csv, /tmp/tmp9rie2sdo/bernoulli-202009181130-4-x90z8xdt.csv\n",
      "\n",
      "Checking sampler transitions treedepth.\n",
      "Treedepth satisfactory for all transitions.\n",
      "\n",
      "Checking sampler transitions for divergences.\n",
      "No divergent transitions found.\n",
      "\n",
      "Checking E-BFMI - sampler transitions HMC potential energy.\n",
      "E-BFMI satisfactory for all transitions.\n",
      "\n",
      "Effective sample size satisfactory.\n",
      "\n",
      "Split R-hat values satisfactory all parameters.\n",
      "\n",
      "Processing complete, no problems detected.\n"
     ]
    }
   ],
   "source": [
    "print(bern_fit.diagnose())"
   ]
  }
 ],
 "metadata": {
  "kernelspec": {
   "display_name": "Python 3",
   "language": "python",
   "name": "python3"
  },
  "language_info": {
   "codemirror_mode": {
    "name": "ipython",
    "version": 3
   },
   "file_extension": ".py",
   "mimetype": "text/x-python",
   "name": "python",
   "nbconvert_exporter": "python",
   "pygments_lexer": "ipython3",
   "version": "3.8.2"
  }
 },
 "nbformat": 4,
 "nbformat_minor": 4
}
