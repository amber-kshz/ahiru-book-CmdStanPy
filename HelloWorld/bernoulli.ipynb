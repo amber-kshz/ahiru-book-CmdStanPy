{
 "cells": [
  {
   "cell_type": "markdown",
   "metadata": {},
   "source": [
    "\"Hello world\" from https://cmdstanpy.readthedocs.io/en/latest/getting_started.html."
   ]
  },
  {
   "cell_type": "code",
   "execution_count": 1,
   "metadata": {},
   "outputs": [],
   "source": [
    "import os\n",
    "from cmdstanpy import CmdStanModel"
   ]
  },
  {
   "cell_type": "markdown",
   "metadata": {},
   "source": [
    "# Specify a Stan model"
   ]
  },
  {
   "cell_type": "code",
   "execution_count": 2,
   "metadata": {},
   "outputs": [
    {
     "name": "stderr",
     "output_type": "stream",
     "text": [
      "INFO:cmdstanpy:compiling stan program, exe file: /workdir/HelloWorld/bernoulli\n",
      "INFO:cmdstanpy:compiler options: stanc_options=None, cpp_options=None\n",
      "INFO:cmdstanpy:compiled model file: /workdir/HelloWorld/bernoulli\n"
     ]
    },
    {
     "name": "stdout",
     "output_type": "stream",
     "text": [
      "CmdStanModel: name=bernoulli\n",
      "\t stan_file=/workdir/HelloWorld/bernoulli.stan\n",
      "\t exe_file=/workdir/HelloWorld/bernoulli\n",
      "\t compiler_optons=stanc_options=None, cpp_options=None\n"
     ]
    }
   ],
   "source": [
    "bernoulli_stan = \"bernoulli.stan\"\n",
    "bernoulli_model = CmdStanModel(stan_file=bernoulli_stan)\n",
    "print(bernoulli_model)"
   ]
  },
  {
   "cell_type": "code",
   "execution_count": 3,
   "metadata": {},
   "outputs": [
    {
     "name": "stdout",
     "output_type": "stream",
     "text": [
      "data {\n",
      "   int<lower=0> N;\n",
      "   int<lower=0,upper=1> y[N];\n",
      " }\n",
      "\n",
      " parameters {\n",
      "   real<lower=0,upper=1> theta;\n",
      " }\n",
      "\n",
      " model {\n",
      "   theta ~ beta(1,1);  // uniform prior on interval 0,1\n",
      "   y ~ bernoulli(theta);\n",
      " }\n",
      "\n"
     ]
    }
   ],
   "source": [
    "print(bernoulli_model.code())"
   ]
  },
  {
   "cell_type": "markdown",
   "metadata": {},
   "source": [
    "# Run the HMC-NUTS sampler"
   ]
  },
  {
   "cell_type": "code",
   "execution_count": 4,
   "metadata": {},
   "outputs": [
    {
     "name": "stderr",
     "output_type": "stream",
     "text": [
      "INFO:cmdstanpy:start chain 1\n",
      "INFO:cmdstanpy:start chain 2\n",
      "INFO:cmdstanpy:start chain 3\n",
      "INFO:cmdstanpy:start chain 4\n",
      "INFO:cmdstanpy:finish chain 4\n",
      "INFO:cmdstanpy:finish chain 3\n",
      "INFO:cmdstanpy:finish chain 1\n",
      "INFO:cmdstanpy:finish chain 2\n"
     ]
    }
   ],
   "source": [
    "bernoulli_data = \"bernoulli.data.json\"\n",
    "bern_fit = bernoulli_model.sample(data=bernoulli_data)"
   ]
  },
  {
   "cell_type": "markdown",
   "metadata": {},
   "source": [
    "# Access the sample"
   ]
  },
  {
   "cell_type": "code",
   "execution_count": 5,
   "metadata": {},
   "outputs": [
    {
     "name": "stdout",
     "output_type": "stream",
     "text": [
      "CmdStanMCMC: model=bernoulli chains=4['method=sample', 'algorithm=hmc', 'adapt', 'engaged=1']\n",
      " csv_files:\n",
      "\t/tmp/tmpv5bmbkl7/bernoulli-202009071218-1-l9lbcuul.csv\n",
      "\t/tmp/tmpv5bmbkl7/bernoulli-202009071218-2-tbjarfwl.csv\n",
      "\t/tmp/tmpv5bmbkl7/bernoulli-202009071218-3-pbkbp_sp.csv\n",
      "\t/tmp/tmpv5bmbkl7/bernoulli-202009071218-4-bex2jo3r.csv\n",
      " output_files:\n",
      "\t/tmp/tmpv5bmbkl7/bernoulli-202009071218-1-l9lbcuul-stdout.txt\n",
      "\t/tmp/tmpv5bmbkl7/bernoulli-202009071218-2-tbjarfwl-stdout.txt\n",
      "\t/tmp/tmpv5bmbkl7/bernoulli-202009071218-3-pbkbp_sp-stdout.txt\n",
      "\t/tmp/tmpv5bmbkl7/bernoulli-202009071218-4-bex2jo3r-stdout.txt\n"
     ]
    }
   ],
   "source": [
    "print(bern_fit)"
   ]
  },
  {
   "cell_type": "code",
   "execution_count": 6,
   "metadata": {},
   "outputs": [
    {
     "name": "stdout",
     "output_type": "stream",
     "text": [
      "<class 'numpy.ndarray'>\n",
      "(1000, 4, 8)\n"
     ]
    }
   ],
   "source": [
    "print(type(bern_fit.draws()))\n",
    "print(bern_fit.draws().shape)"
   ]
  },
  {
   "cell_type": "code",
   "execution_count": 7,
   "metadata": {},
   "outputs": [
    {
     "name": "stdout",
     "output_type": "stream",
     "text": [
      "(1000, 8)\n",
      "[-6.94729   1.        0.877741  2.        3.        0.        7.13831\n",
      "  0.333836]\n"
     ]
    }
   ],
   "source": [
    "chain_1 = bern_fit.draws()[:,0,:]\n",
    "print(chain_1.shape)\n",
    "print(chain_1[0])"
   ]
  },
  {
   "cell_type": "code",
   "execution_count": 8,
   "metadata": {},
   "outputs": [
    {
     "data": {
      "text/plain": [
       "array([0.333836, 0.325655, 0.325609, ..., 0.458539, 0.184211, 0.25901 ])"
      ]
     },
     "execution_count": 8,
     "metadata": {},
     "output_type": "execute_result"
    }
   ],
   "source": [
    "bern_fit.stan_variable(\"theta\")"
   ]
  },
  {
   "cell_type": "markdown",
   "metadata": {},
   "source": [
    "# Summarize the results"
   ]
  },
  {
   "cell_type": "code",
   "execution_count": 9,
   "metadata": {},
   "outputs": [
    {
     "data": {
      "text/html": [
       "<div>\n",
       "<style scoped>\n",
       "    .dataframe tbody tr th:only-of-type {\n",
       "        vertical-align: middle;\n",
       "    }\n",
       "\n",
       "    .dataframe tbody tr th {\n",
       "        vertical-align: top;\n",
       "    }\n",
       "\n",
       "    .dataframe thead th {\n",
       "        text-align: right;\n",
       "    }\n",
       "</style>\n",
       "<table border=\"1\" class=\"dataframe\">\n",
       "  <thead>\n",
       "    <tr style=\"text-align: right;\">\n",
       "      <th></th>\n",
       "      <th>Mean</th>\n",
       "      <th>MCSE</th>\n",
       "      <th>StdDev</th>\n",
       "      <th>5%</th>\n",
       "      <th>50%</th>\n",
       "      <th>95%</th>\n",
       "      <th>N_Eff</th>\n",
       "      <th>N_Eff/s</th>\n",
       "      <th>R_hat</th>\n",
       "    </tr>\n",
       "    <tr>\n",
       "      <th>name</th>\n",
       "      <th></th>\n",
       "      <th></th>\n",
       "      <th></th>\n",
       "      <th></th>\n",
       "      <th></th>\n",
       "      <th></th>\n",
       "      <th></th>\n",
       "      <th></th>\n",
       "      <th></th>\n",
       "    </tr>\n",
       "  </thead>\n",
       "  <tbody>\n",
       "    <tr>\n",
       "      <th>lp__</th>\n",
       "      <td>-7.291750</td>\n",
       "      <td>0.021925</td>\n",
       "      <td>0.813391</td>\n",
       "      <td>-8.83083</td>\n",
       "      <td>-6.98304</td>\n",
       "      <td>-6.750320</td>\n",
       "      <td>1376.31</td>\n",
       "      <td>19115.4</td>\n",
       "      <td>1.00090</td>\n",
       "    </tr>\n",
       "    <tr>\n",
       "      <th>theta</th>\n",
       "      <td>0.242197</td>\n",
       "      <td>0.003093</td>\n",
       "      <td>0.118090</td>\n",
       "      <td>0.07392</td>\n",
       "      <td>0.22758</td>\n",
       "      <td>0.458789</td>\n",
       "      <td>1457.26</td>\n",
       "      <td>20239.7</td>\n",
       "      <td>1.00643</td>\n",
       "    </tr>\n",
       "  </tbody>\n",
       "</table>\n",
       "</div>"
      ],
      "text/plain": [
       "           Mean      MCSE    StdDev       5%      50%       95%    N_Eff  \\\n",
       "name                                                                       \n",
       "lp__  -7.291750  0.021925  0.813391 -8.83083 -6.98304 -6.750320  1376.31   \n",
       "theta  0.242197  0.003093  0.118090  0.07392  0.22758  0.458789  1457.26   \n",
       "\n",
       "       N_Eff/s    R_hat  \n",
       "name                     \n",
       "lp__   19115.4  1.00090  \n",
       "theta  20239.7  1.00643  "
      ]
     },
     "execution_count": 9,
     "metadata": {},
     "output_type": "execute_result"
    }
   ],
   "source": [
    "bern_fit.summary()"
   ]
  },
  {
   "cell_type": "code",
   "execution_count": 10,
   "metadata": {},
   "outputs": [
    {
     "name": "stderr",
     "output_type": "stream",
     "text": [
      "INFO:cmdstanpy:Processing csv files: /tmp/tmpv5bmbkl7/bernoulli-202009071218-1-l9lbcuul.csv, /tmp/tmpv5bmbkl7/bernoulli-202009071218-2-tbjarfwl.csv, /tmp/tmpv5bmbkl7/bernoulli-202009071218-3-pbkbp_sp.csv, /tmp/tmpv5bmbkl7/bernoulli-202009071218-4-bex2jo3r.csv\n",
      "\n",
      "Checking sampler transitions treedepth.\n",
      "Treedepth satisfactory for all transitions.\n",
      "\n",
      "Checking sampler transitions for divergences.\n",
      "No divergent transitions found.\n",
      "\n",
      "Checking E-BFMI - sampler transitions HMC potential energy.\n",
      "E-BFMI satisfactory for all transitions.\n",
      "\n",
      "Effective sample size satisfactory.\n",
      "\n",
      "Split R-hat values satisfactory all parameters.\n",
      "\n",
      "Processing complete, no problems detected.\n"
     ]
    },
    {
     "name": "stdout",
     "output_type": "stream",
     "text": [
      "Processing csv files: /tmp/tmpv5bmbkl7/bernoulli-202009071218-1-l9lbcuul.csv, /tmp/tmpv5bmbkl7/bernoulli-202009071218-2-tbjarfwl.csv, /tmp/tmpv5bmbkl7/bernoulli-202009071218-3-pbkbp_sp.csv, /tmp/tmpv5bmbkl7/bernoulli-202009071218-4-bex2jo3r.csv\n",
      "\n",
      "Checking sampler transitions treedepth.\n",
      "Treedepth satisfactory for all transitions.\n",
      "\n",
      "Checking sampler transitions for divergences.\n",
      "No divergent transitions found.\n",
      "\n",
      "Checking E-BFMI - sampler transitions HMC potential energy.\n",
      "E-BFMI satisfactory for all transitions.\n",
      "\n",
      "Effective sample size satisfactory.\n",
      "\n",
      "Split R-hat values satisfactory all parameters.\n",
      "\n",
      "Processing complete, no problems detected.\n"
     ]
    }
   ],
   "source": [
    "print(bern_fit.diagnose())"
   ]
  }
 ],
 "metadata": {
  "kernelspec": {
   "display_name": "Python 3",
   "language": "python",
   "name": "python3"
  },
  "language_info": {
   "codemirror_mode": {
    "name": "ipython",
    "version": 3
   },
   "file_extension": ".py",
   "mimetype": "text/x-python",
   "name": "python",
   "nbconvert_exporter": "python",
   "pygments_lexer": "ipython3",
   "version": "3.8.2"
  }
 },
 "nbformat": 4,
 "nbformat_minor": 4
}
