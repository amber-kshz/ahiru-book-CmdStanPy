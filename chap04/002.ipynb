{
 "cells": [
  {
   "cell_type": "markdown",
   "metadata": {},
   "source": [
    "This notebook deals with the contents in Section 4.4.12."
   ]
  },
  {
   "cell_type": "code",
   "execution_count": 1,
   "metadata": {},
   "outputs": [],
   "source": [
    "import matplotlib.pyplot as plt\n",
    "import numpy as np\n",
    "import pandas as pd\n",
    "from cmdstanpy import CmdStanModel"
   ]
  },
  {
   "cell_type": "markdown",
   "metadata": {},
   "source": [
    "# Load and show data"
   ]
  },
  {
   "cell_type": "code",
   "execution_count": 2,
   "metadata": {},
   "outputs": [
    {
     "name": "stdout",
     "output_type": "stream",
     "text": [
      "X    20\n",
      "Y    20\n",
      "dtype: int64\n"
     ]
    },
    {
     "data": {
      "text/html": [
       "<div>\n",
       "<style scoped>\n",
       "    .dataframe tbody tr th:only-of-type {\n",
       "        vertical-align: middle;\n",
       "    }\n",
       "\n",
       "    .dataframe tbody tr th {\n",
       "        vertical-align: top;\n",
       "    }\n",
       "\n",
       "    .dataframe thead th {\n",
       "        text-align: right;\n",
       "    }\n",
       "</style>\n",
       "<table border=\"1\" class=\"dataframe\">\n",
       "  <thead>\n",
       "    <tr style=\"text-align: right;\">\n",
       "      <th></th>\n",
       "      <th>X</th>\n",
       "      <th>Y</th>\n",
       "    </tr>\n",
       "  </thead>\n",
       "  <tbody>\n",
       "    <tr>\n",
       "      <th>0</th>\n",
       "      <td>24</td>\n",
       "      <td>472</td>\n",
       "    </tr>\n",
       "    <tr>\n",
       "      <th>1</th>\n",
       "      <td>24</td>\n",
       "      <td>403</td>\n",
       "    </tr>\n",
       "    <tr>\n",
       "      <th>2</th>\n",
       "      <td>26</td>\n",
       "      <td>454</td>\n",
       "    </tr>\n",
       "    <tr>\n",
       "      <th>3</th>\n",
       "      <td>32</td>\n",
       "      <td>575</td>\n",
       "    </tr>\n",
       "    <tr>\n",
       "      <th>4</th>\n",
       "      <td>33</td>\n",
       "      <td>546</td>\n",
       "    </tr>\n",
       "  </tbody>\n",
       "</table>\n",
       "</div>"
      ],
      "text/plain": [
       "    X    Y\n",
       "0  24  472\n",
       "1  24  403\n",
       "2  26  454\n",
       "3  32  575\n",
       "4  33  546"
      ]
     },
     "execution_count": 2,
     "metadata": {},
     "output_type": "execute_result"
    }
   ],
   "source": [
    "df = pd.read_csv(\"./data/data-salary.txt\")\n",
    "print(df.count())\n",
    "df.head(5)"
   ]
  },
  {
   "cell_type": "code",
   "execution_count": 3,
   "metadata": {},
   "outputs": [
    {
     "data": {
      "text/plain": [
       "[<matplotlib.lines.Line2D at 0x7f77248f0fa0>]"
      ]
     },
     "execution_count": 3,
     "metadata": {},
     "output_type": "execute_result"
    },
    {
     "data": {
      "image/png": "[encoded data removed]",
      "text/plain": [
       "<Figure size 432x288 with 1 Axes>"
      ]
     },
     "metadata": {
      "needs_background": "light"
     },
     "output_type": "display_data"
    }
   ],
   "source": [
    "plt.plot(df[\"X\"], df[\"Y\"], 'o')"
   ]
  },
  {
   "cell_type": "code",
   "execution_count": 4,
   "metadata": {},
   "outputs": [
    {
     "data": {
      "text/plain": [
       "array([23, 24, 25, 26, 27, 28, 29, 30, 31, 32, 33, 34, 35, 36, 37, 38, 39,\n",
       "       40, 41, 42, 43, 44, 45, 46, 47, 48, 49, 50, 51, 52, 53, 54, 55, 56,\n",
       "       57, 58, 59, 60])"
      ]
     },
     "execution_count": 4,
     "metadata": {},
     "output_type": "execute_result"
    }
   ],
   "source": [
    "X_new = np.arange(23, 61, 1)\n",
    "X_new"
   ]
  },
  {
   "cell_type": "markdown",
   "metadata": {},
   "source": [
    "# Run Stan"
   ]
  },
  {
   "cell_type": "code",
   "execution_count": 5,
   "metadata": {},
   "outputs": [
    {
     "name": "stderr",
     "output_type": "stream",
     "text": [
      "INFO:cmdstanpy:found newer exe file, not recompiling\n",
      "INFO:cmdstanpy:compiled model file: /workdir/Chap04/model/model4-4\n"
     ]
    },
    {
     "name": "stdout",
     "output_type": "stream",
     "text": [
      "CmdStanModel: name=model4-4\n",
      "\t stan_file=/workdir/Chap04/model/model4-4.stan\n",
      "\t exe_file=/workdir/Chap04/model/model4-4\n",
      "\t compiler_optons=stanc_options=None, cpp_options=None\n"
     ]
    }
   ],
   "source": [
    "model = CmdStanModel(stan_file=\"model/model4-4.stan\")\n",
    "print(model)"
   ]
  },
  {
   "cell_type": "code",
   "execution_count": 6,
   "metadata": {},
   "outputs": [],
   "source": [
    "data = {\n",
    "    \"N\": len(df),\n",
    "    \"X\": df[\"X\"].values,\n",
    "    \"Y\": df[\"Y\"].values,\n",
    "    \"N_new\": len(X_new), \n",
    "    \"X_new\": X_new\n",
    "}"
   ]
  },
  {
   "cell_type": "code",
   "execution_count": 7,
   "metadata": {},
   "outputs": [
    {
     "name": "stderr",
     "output_type": "stream",
     "text": [
      "INFO:cmdstanpy:start chain 1\n",
      "INFO:cmdstanpy:start chain 2\n",
      "INFO:cmdstanpy:start chain 3\n",
      "INFO:cmdstanpy:start chain 4\n",
      "INFO:cmdstanpy:finish chain 3\n",
      "INFO:cmdstanpy:finish chain 4\n",
      "INFO:cmdstanpy:finish chain 1\n",
      "INFO:cmdstanpy:finish chain 2\n"
     ]
    }
   ],
   "source": [
    "# sampling\n",
    "fit = model.sample(data=data)"
   ]
  },
  {
   "cell_type": "markdown",
   "metadata": {},
   "source": [
    "You can run a stan model whose model file does not contain `generated quantities` blocks, and then using another stan file with `generated quantities` block to generate quantities using `model.generate_quantities` method.\n",
    "\n",
    "See https://cmdstanpy.readthedocs.io/en/latest/generate_quantities.html for detail."
   ]
  },
  {
   "cell_type": "markdown",
   "metadata": {},
   "source": [
    "# Access the result"
   ]
  },
  {
   "cell_type": "code",
   "execution_count": 8,
   "metadata": {},
   "outputs": [
    {
     "data": {
      "text/plain": [
       "cmdstanpy.stanfit.CmdStanMCMC"
      ]
     },
     "execution_count": 8,
     "metadata": {},
     "output_type": "execute_result"
    }
   ],
   "source": [
    "type(fit)"
   ]
  },
  {
   "cell_type": "code",
   "execution_count": 9,
   "metadata": {},
   "outputs": [
    {
     "data": {
      "text/plain": [
       "CmdStanMCMC: model=model4-4 chains=4['method=sample', 'algorithm=hmc', 'adapt', 'engaged=1']\n",
       " csv_files:\n",
       "\t/tmp/tmp7suizxlq/model4-4-202009090610-1-bxaqmz4b.csv\n",
       "\t/tmp/tmp7suizxlq/model4-4-202009090610-2-ybubiacq.csv\n",
       "\t/tmp/tmp7suizxlq/model4-4-202009090610-3-rnkxmnfl.csv\n",
       "\t/tmp/tmp7suizxlq/model4-4-202009090610-4-xccax4sd.csv\n",
       " output_files:\n",
       "\t/tmp/tmp7suizxlq/model4-4-202009090610-1-bxaqmz4b-stdout.txt\n",
       "\t/tmp/tmp7suizxlq/model4-4-202009090610-2-ybubiacq-stdout.txt\n",
       "\t/tmp/tmp7suizxlq/model4-4-202009090610-3-rnkxmnfl-stdout.txt\n",
       "\t/tmp/tmp7suizxlq/model4-4-202009090610-4-xccax4sd-stdout.txt"
      ]
     },
     "execution_count": 9,
     "metadata": {},
     "output_type": "execute_result"
    }
   ],
   "source": [
    "fit"
   ]
  },
  {
   "cell_type": "code",
   "execution_count": 10,
   "metadata": {},
   "outputs": [
    {
     "name": "stdout",
     "output_type": "stream",
     "text": [
      "4\n",
      "[1, 2, 3, 4]\n"
     ]
    }
   ],
   "source": [
    "print(fit.chains)\n",
    "print(fit.chain_ids)"
   ]
  },
  {
   "cell_type": "code",
   "execution_count": 11,
   "metadata": {},
   "outputs": [
    {
     "name": "stdout",
     "output_type": "stream",
     "text": [
      "1000\n",
      "(1000, 4, 106)\n"
     ]
    }
   ],
   "source": [
    "print(fit.num_draws)\n",
    "print(fit.draws().shape)"
   ]
  },
  {
   "cell_type": "code",
   "execution_count": 12,
   "metadata": {},
   "outputs": [
    {
     "name": "stdout",
     "output_type": "stream",
     "text": [
      "('lp__', 'accept_stat__', 'stepsize__', 'treedepth__', 'n_leapfrog__', 'divergent__', 'energy__', 'a', 'b', 'sigma', 'y_base.1', 'y_base.2', 'y_base.3', 'y_base.4', 'y_base.5', 'y_base.6', 'y_base.7', 'y_base.8', 'y_base.9', 'y_base.10', 'y_base.11', 'y_base.12', 'y_base.13', 'y_base.14', 'y_base.15', 'y_base.16', 'y_base.17', 'y_base.18', 'y_base.19', 'y_base.20', 'y_base_new.1', 'y_base_new.2', 'y_base_new.3', 'y_base_new.4', 'y_base_new.5', 'y_base_new.6', 'y_base_new.7', 'y_base_new.8', 'y_base_new.9', 'y_base_new.10', 'y_base_new.11', 'y_base_new.12', 'y_base_new.13', 'y_base_new.14', 'y_base_new.15', 'y_base_new.16', 'y_base_new.17', 'y_base_new.18', 'y_base_new.19', 'y_base_new.20', 'y_base_new.21', 'y_base_new.22', 'y_base_new.23', 'y_base_new.24', 'y_base_new.25', 'y_base_new.26', 'y_base_new.27', 'y_base_new.28', 'y_base_new.29', 'y_base_new.30', 'y_base_new.31', 'y_base_new.32', 'y_base_new.33', 'y_base_new.34', 'y_base_new.35', 'y_base_new.36', 'y_base_new.37', 'y_base_new.38', 'y_new.1', 'y_new.2', 'y_new.3', 'y_new.4', 'y_new.5', 'y_new.6', 'y_new.7', 'y_new.8', 'y_new.9', 'y_new.10', 'y_new.11', 'y_new.12', 'y_new.13', 'y_new.14', 'y_new.15', 'y_new.16', 'y_new.17', 'y_new.18', 'y_new.19', 'y_new.20', 'y_new.21', 'y_new.22', 'y_new.23', 'y_new.24', 'y_new.25', 'y_new.26', 'y_new.27', 'y_new.28', 'y_new.29', 'y_new.30', 'y_new.31', 'y_new.32', 'y_new.33', 'y_new.34', 'y_new.35', 'y_new.36', 'y_new.37', 'y_new.38')\n"
     ]
    }
   ],
   "source": [
    "print(fit.column_names)"
   ]
  },
  {
   "cell_type": "code",
   "execution_count": 13,
   "metadata": {},
   "outputs": [
    {
     "data": {
      "text/plain": [
       "{'a': array([-251.859 , -129.214 ,  -13.8509, ..., -177.371 ,  -88.8002,\n",
       "         -82.0179]),\n",
       " 'b': array([24.4894, 22.5635, 19.6231, ..., 23.2654, 20.6233, 20.9542]),\n",
       " 'sigma': array([67.024 , 80.0019, 75.9314, ..., 77.1179, 81.9173, 86.567 ]),\n",
       " 'y_base': array([[ 335.886,  335.886,  384.865, ..., 1168.53 , 1193.01 , 1193.01 ],\n",
       "        [ 412.31 ,  412.31 ,  457.437, ..., 1179.47 , 1202.03 , 1202.03 ],\n",
       "        [ 457.102,  457.102,  496.349, ..., 1124.29 , 1143.91 , 1143.91 ],\n",
       "        ...,\n",
       "        [ 380.998,  380.998,  427.529, ..., 1172.02 , 1195.29 , 1195.29 ],\n",
       "        [ 406.159,  406.159,  447.406, ..., 1107.35 , 1127.97 , 1127.97 ],\n",
       "        [ 420.884,  420.884,  462.792, ..., 1133.33 , 1154.28 , 1154.28 ]]),\n",
       " 'y_base_new': array([[ 311.397,  335.886,  360.375, ..., 1168.53 , 1193.01 , 1217.5  ],\n",
       "        [ 389.747,  412.31 ,  434.874, ..., 1179.47 , 1202.03 , 1224.6  ],\n",
       "        [ 437.479,  457.102,  476.726, ..., 1124.29 , 1143.91 , 1163.53 ],\n",
       "        ...,\n",
       "        [ 357.733,  380.998,  404.263, ..., 1172.02 , 1195.29 , 1218.55 ],\n",
       "        [ 385.536,  406.159,  426.782, ..., 1107.35 , 1127.97 , 1148.6  ],\n",
       "        [ 399.929,  420.884,  441.838, ..., 1133.33 , 1154.28 , 1175.24 ]]),\n",
       " 'y_new': array([[ 390.162,  338.15 ,  314.72 , ..., 1228.78 , 1199.22 , 1285.8  ],\n",
       "        [ 428.5  ,  312.065,  626.922, ..., 1252.96 , 1289.08 , 1284.56 ],\n",
       "        [ 433.264,  435.87 ,  441.105, ..., 1149.5  , 1082.06 , 1078.16 ],\n",
       "        ...,\n",
       "        [ 288.052,  352.311,  515.355, ..., 1353.38 , 1138.38 , 1169.37 ],\n",
       "        [ 481.331,  303.495,  537.891, ..., 1018.61 , 1050.79 , 1175.68 ],\n",
       "        [ 378.41 ,  363.887,  484.09 , ...,  969.623, 1122.35 , 1203.49 ]])}"
      ]
     },
     "execution_count": 13,
     "metadata": {},
     "output_type": "execute_result"
    }
   ],
   "source": [
    "fit.stan_variables()"
   ]
  },
  {
   "cell_type": "code",
   "execution_count": 14,
   "metadata": {},
   "outputs": [
    {
     "data": {
      "text/html": [
       "<div>\n",
       "<style scoped>\n",
       "    .dataframe tbody tr th:only-of-type {\n",
       "        vertical-align: middle;\n",
       "    }\n",
       "\n",
       "    .dataframe tbody tr th {\n",
       "        vertical-align: top;\n",
       "    }\n",
       "\n",
       "    .dataframe thead th {\n",
       "        text-align: right;\n",
       "    }\n",
       "</style>\n",
       "<table border=\"1\" class=\"dataframe\">\n",
       "  <thead>\n",
       "    <tr style=\"text-align: right;\">\n",
       "      <th></th>\n",
       "      <th>Mean</th>\n",
       "      <th>MCSE</th>\n",
       "      <th>StdDev</th>\n",
       "      <th>5%</th>\n",
       "      <th>50%</th>\n",
       "      <th>95%</th>\n",
       "      <th>N_Eff</th>\n",
       "      <th>N_Eff/s</th>\n",
       "      <th>R_hat</th>\n",
       "    </tr>\n",
       "    <tr>\n",
       "      <th>name</th>\n",
       "      <th></th>\n",
       "      <th></th>\n",
       "      <th></th>\n",
       "      <th></th>\n",
       "      <th></th>\n",
       "      <th></th>\n",
       "      <th></th>\n",
       "      <th></th>\n",
       "      <th></th>\n",
       "    </tr>\n",
       "  </thead>\n",
       "  <tbody>\n",
       "    <tr>\n",
       "      <th>lp__</th>\n",
       "      <td>-93.5884</td>\n",
       "      <td>0.038030</td>\n",
       "      <td>1.28770</td>\n",
       "      <td>-96.1646</td>\n",
       "      <td>-93.2438</td>\n",
       "      <td>-92.20120</td>\n",
       "      <td>1146.51</td>\n",
       "      <td>2135.03</td>\n",
       "      <td>1.00371</td>\n",
       "    </tr>\n",
       "    <tr>\n",
       "      <th>a</th>\n",
       "      <td>-121.5160</td>\n",
       "      <td>1.993530</td>\n",
       "      <td>74.06040</td>\n",
       "      <td>-245.1040</td>\n",
       "      <td>-121.2450</td>\n",
       "      <td>-1.07713</td>\n",
       "      <td>1380.15</td>\n",
       "      <td>2570.10</td>\n",
       "      <td>1.00092</td>\n",
       "    </tr>\n",
       "    <tr>\n",
       "      <th>b</th>\n",
       "      <td>21.9535</td>\n",
       "      <td>0.044993</td>\n",
       "      <td>1.66297</td>\n",
       "      <td>19.2109</td>\n",
       "      <td>21.9565</td>\n",
       "      <td>24.77950</td>\n",
       "      <td>1366.06</td>\n",
       "      <td>2543.88</td>\n",
       "      <td>1.00090</td>\n",
       "    </tr>\n",
       "    <tr>\n",
       "      <th>sigma</th>\n",
       "      <td>84.9525</td>\n",
       "      <td>0.426722</td>\n",
       "      <td>15.07910</td>\n",
       "      <td>63.9234</td>\n",
       "      <td>82.9276</td>\n",
       "      <td>111.85000</td>\n",
       "      <td>1248.70</td>\n",
       "      <td>2325.32</td>\n",
       "      <td>1.00181</td>\n",
       "    </tr>\n",
       "    <tr>\n",
       "      <th>y_base[1]</th>\n",
       "      <td>405.0000</td>\n",
       "      <td>0.940000</td>\n",
       "      <td>37.00000</td>\n",
       "      <td>344.0000</td>\n",
       "      <td>405.0000</td>\n",
       "      <td>466.00000</td>\n",
       "      <td>1533.00</td>\n",
       "      <td>2855.00</td>\n",
       "      <td>1.00000</td>\n",
       "    </tr>\n",
       "    <tr>\n",
       "      <th>...</th>\n",
       "      <td>...</td>\n",
       "      <td>...</td>\n",
       "      <td>...</td>\n",
       "      <td>...</td>\n",
       "      <td>...</td>\n",
       "      <td>...</td>\n",
       "      <td>...</td>\n",
       "      <td>...</td>\n",
       "      <td>...</td>\n",
       "    </tr>\n",
       "    <tr>\n",
       "      <th>y_new[34]</th>\n",
       "      <td>1108.0000</td>\n",
       "      <td>1.500000</td>\n",
       "      <td>89.00000</td>\n",
       "      <td>962.0000</td>\n",
       "      <td>1110.0000</td>\n",
       "      <td>1251.00000</td>\n",
       "      <td>3642.00</td>\n",
       "      <td>6783.00</td>\n",
       "      <td>1.00000</td>\n",
       "    </tr>\n",
       "    <tr>\n",
       "      <th>y_new[35]</th>\n",
       "      <td>1131.0000</td>\n",
       "      <td>1.400000</td>\n",
       "      <td>91.00000</td>\n",
       "      <td>981.0000</td>\n",
       "      <td>1131.0000</td>\n",
       "      <td>1282.00000</td>\n",
       "      <td>4143.00</td>\n",
       "      <td>7715.00</td>\n",
       "      <td>1.00000</td>\n",
       "    </tr>\n",
       "    <tr>\n",
       "      <th>y_new[36]</th>\n",
       "      <td>1150.0000</td>\n",
       "      <td>1.500000</td>\n",
       "      <td>90.00000</td>\n",
       "      <td>1005.0000</td>\n",
       "      <td>1148.0000</td>\n",
       "      <td>1300.00000</td>\n",
       "      <td>3755.00</td>\n",
       "      <td>6993.00</td>\n",
       "      <td>1.00000</td>\n",
       "    </tr>\n",
       "    <tr>\n",
       "      <th>y_new[37]</th>\n",
       "      <td>1174.0000</td>\n",
       "      <td>1.600000</td>\n",
       "      <td>92.00000</td>\n",
       "      <td>1027.0000</td>\n",
       "      <td>1173.0000</td>\n",
       "      <td>1328.00000</td>\n",
       "      <td>3495.00</td>\n",
       "      <td>6509.00</td>\n",
       "      <td>1.00000</td>\n",
       "    </tr>\n",
       "    <tr>\n",
       "      <th>y_new[38]</th>\n",
       "      <td>1194.0000</td>\n",
       "      <td>1.500000</td>\n",
       "      <td>92.00000</td>\n",
       "      <td>1050.0000</td>\n",
       "      <td>1194.0000</td>\n",
       "      <td>1348.00000</td>\n",
       "      <td>3550.00</td>\n",
       "      <td>6611.00</td>\n",
       "      <td>1.00000</td>\n",
       "    </tr>\n",
       "  </tbody>\n",
       "</table>\n",
       "<p>100 rows × 9 columns</p>\n",
       "</div>"
      ],
      "text/plain": [
       "                Mean      MCSE    StdDev         5%        50%         95%  \\\n",
       "name                                                                         \n",
       "lp__        -93.5884  0.038030   1.28770   -96.1646   -93.2438   -92.20120   \n",
       "a          -121.5160  1.993530  74.06040  -245.1040  -121.2450    -1.07713   \n",
       "b            21.9535  0.044993   1.66297    19.2109    21.9565    24.77950   \n",
       "sigma        84.9525  0.426722  15.07910    63.9234    82.9276   111.85000   \n",
       "y_base[1]   405.0000  0.940000  37.00000   344.0000   405.0000   466.00000   \n",
       "...              ...       ...       ...        ...        ...         ...   \n",
       "y_new[34]  1108.0000  1.500000  89.00000   962.0000  1110.0000  1251.00000   \n",
       "y_new[35]  1131.0000  1.400000  91.00000   981.0000  1131.0000  1282.00000   \n",
       "y_new[36]  1150.0000  1.500000  90.00000  1005.0000  1148.0000  1300.00000   \n",
       "y_new[37]  1174.0000  1.600000  92.00000  1027.0000  1173.0000  1328.00000   \n",
       "y_new[38]  1194.0000  1.500000  92.00000  1050.0000  1194.0000  1348.00000   \n",
       "\n",
       "             N_Eff  N_Eff/s    R_hat  \n",
       "name                                  \n",
       "lp__       1146.51  2135.03  1.00371  \n",
       "a          1380.15  2570.10  1.00092  \n",
       "b          1366.06  2543.88  1.00090  \n",
       "sigma      1248.70  2325.32  1.00181  \n",
       "y_base[1]  1533.00  2855.00  1.00000  \n",
       "...            ...      ...      ...  \n",
       "y_new[34]  3642.00  6783.00  1.00000  \n",
       "y_new[35]  4143.00  7715.00  1.00000  \n",
       "y_new[36]  3755.00  6993.00  1.00000  \n",
       "y_new[37]  3495.00  6509.00  1.00000  \n",
       "y_new[38]  3550.00  6611.00  1.00000  \n",
       "\n",
       "[100 rows x 9 columns]"
      ]
     },
     "execution_count": 14,
     "metadata": {},
     "output_type": "execute_result"
    }
   ],
   "source": [
    "fit.summary()"
   ]
  },
  {
   "cell_type": "markdown",
   "metadata": {},
   "source": [
    "# Diagnostics"
   ]
  },
  {
   "cell_type": "code",
   "execution_count": 15,
   "metadata": {},
   "outputs": [
    {
     "name": "stderr",
     "output_type": "stream",
     "text": [
      "INFO:cmdstanpy:Processing csv files: /tmp/tmp7suizxlq/model4-4-202009090610-1-bxaqmz4b.csv, /tmp/tmp7suizxlq/model4-4-202009090610-2-ybubiacq.csv, /tmp/tmp7suizxlq/model4-4-202009090610-3-rnkxmnfl.csv, /tmp/tmp7suizxlq/model4-4-202009090610-4-xccax4sd.csv\n",
      "\n",
      "Checking sampler transitions treedepth.\n",
      "Treedepth satisfactory for all transitions.\n",
      "\n",
      "Checking sampler transitions for divergences.\n",
      "No divergent transitions found.\n",
      "\n",
      "Checking E-BFMI - sampler transitions HMC potential energy.\n",
      "E-BFMI satisfactory for all transitions.\n",
      "\n",
      "Effective sample size satisfactory.\n",
      "\n",
      "Split R-hat values satisfactory all parameters.\n",
      "\n",
      "Processing complete, no problems detected.\n"
     ]
    },
    {
     "name": "stdout",
     "output_type": "stream",
     "text": [
      "Processing csv files: /tmp/tmp7suizxlq/model4-4-202009090610-1-bxaqmz4b.csv, /tmp/tmp7suizxlq/model4-4-202009090610-2-ybubiacq.csv, /tmp/tmp7suizxlq/model4-4-202009090610-3-rnkxmnfl.csv, /tmp/tmp7suizxlq/model4-4-202009090610-4-xccax4sd.csv\n",
      "\n",
      "Checking sampler transitions treedepth.\n",
      "Treedepth satisfactory for all transitions.\n",
      "\n",
      "Checking sampler transitions for divergences.\n",
      "No divergent transitions found.\n",
      "\n",
      "Checking E-BFMI - sampler transitions HMC potential energy.\n",
      "E-BFMI satisfactory for all transitions.\n",
      "\n",
      "Effective sample size satisfactory.\n",
      "\n",
      "Split R-hat values satisfactory all parameters.\n",
      "\n",
      "Processing complete, no problems detected.\n"
     ]
    }
   ],
   "source": [
    "print(fit.diagnose())"
   ]
  },
  {
   "cell_type": "markdown",
   "metadata": {},
   "source": [
    "# Predictive distribution\n",
    "\n",
    "Manually calculate predictive distribution from posterior samples"
   ]
  },
  {
   "cell_type": "code",
   "execution_count": 16,
   "metadata": {},
   "outputs": [
    {
     "name": "stdout",
     "output_type": "stream",
     "text": [
      "a (4000,)\n",
      "b (4000,)\n",
      "sigma (4000,)\n",
      "y_base (4000, 20)\n",
      "y_base_new (4000, 38)\n",
      "y_new (4000, 38)\n"
     ]
    }
   ],
   "source": [
    "for key, val in fit.stan_variables().items():\n",
    "    print(key, val.shape)"
   ]
  },
  {
   "cell_type": "code",
   "execution_count": 17,
   "metadata": {},
   "outputs": [
    {
     "data": {
      "text/plain": [
       "((5, 38), (5, 38))"
      ]
     },
     "execution_count": 17,
     "metadata": {},
     "output_type": "execute_result"
    }
   ],
   "source": [
    "y_base_new_percentiles = np.percentile(fit.stan_variables(\"y_base_new\"), [2.5, 25.0, 50.0, 75.0, 97.5], axis=0)\n",
    "y_new_percentiles = np.percentile(fit.stan_variables(\"y_new\"), [2.5, 25.0, 50.0, 75.0, 97.5], axis=0)\n",
    "\n",
    "y_base_new_percentiles.shape, y_new_percentiles.shape"
   ]
  },
  {
   "cell_type": "code",
   "execution_count": 18,
   "metadata": {},
   "outputs": [
    {
     "data": {
      "text/plain": [
       "Text(0.5, 1.0, 'y')"
      ]
     },
     "execution_count": 18,
     "metadata": {},
     "output_type": "execute_result"
    },
    {
     "data": {
      "image/png": "[encoded data removed]",
      "text/plain": [
       "<Figure size 1152x432 with 2 Axes>"
      ]
     },
     "metadata": {
      "needs_background": "light"
     },
     "output_type": "display_data"
    }
   ],
   "source": [
    "fig, axes = plt.subplots(nrows=1, ncols=2, figsize=(16, 6))\n",
    "\n",
    "ax = axes[0]\n",
    "ax.plot(df[\"X\"], df[\"Y\"], \"o\")\n",
    "ax.fill_between(X_new, y_base_new_percentiles[0], y_base_new_percentiles[4], facecolor=\"C1\", alpha=0.1)\n",
    "ax.fill_between(X_new, y_base_new_percentiles[1], y_base_new_percentiles[3], facecolor=\"C1\", alpha=0.3)\n",
    "ax.plot(X_new, y_base_new_percentiles[2], color=\"C1\", linewidth=3)\n",
    "ax.set_title(\"y_base\")\n",
    "\n",
    "ax = axes[1]\n",
    "ax.plot(df[\"X\"], df[\"Y\"], \"o\")\n",
    "ax.fill_between(X_new, y_new_percentiles[0], y_new_percentiles[4], facecolor='C1', alpha=0.1)\n",
    "ax.fill_between(X_new, y_new_percentiles[1], y_new_percentiles[3], facecolor='C1', alpha=0.3)\n",
    "ax.plot(X_new, y_new_percentiles[2], color=\"C1\", linewidth=3)\n",
    "ax.set_title(\"y\")"
   ]
  }
 ],
 "metadata": {
  "kernelspec": {
   "display_name": "Python 3",
   "language": "python",
   "name": "python3"
  },
  "language_info": {
   "codemirror_mode": {
    "name": "ipython",
    "version": 3
   },
   "file_extension": ".py",
   "mimetype": "text/x-python",
   "name": "python",
   "nbconvert_exporter": "python",
   "pygments_lexer": "ipython3",
   "version": "3.8.2"
  }
 },
 "nbformat": 4,
 "nbformat_minor": 4
}
