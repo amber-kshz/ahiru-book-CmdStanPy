{
 "cells": [
  {
   "cell_type": "markdown",
   "metadata": {},
   "source": [
    "This notebook deals with the contents of Section 5.3 of the book."
   ]
  },
  {
   "cell_type": "code",
   "execution_count": 1,
   "metadata": {},
   "outputs": [],
   "source": [
    "import numpy as np\n",
    "import pandas as pd\n",
    "import seaborn as sns\n",
    "from cmdstanpy import CmdStanModel\n",
    "from matplotlib import pyplot as plt\n",
    "from sklearn.metrics import roc_curve, roc_auc_score"
   ]
  },
  {
   "cell_type": "markdown",
   "metadata": {},
   "source": [
    "# Load and inspect data"
   ]
  },
  {
   "cell_type": "code",
   "execution_count": 2,
   "metadata": {},
   "outputs": [
    {
     "name": "stdout",
     "output_type": "stream",
     "text": [
      "2396\n",
      "PersonID     int64\n",
      "A            int64\n",
      "Score        int64\n",
      "Weather     object\n",
      "Y            int64\n",
      "dtype: object\n"
     ]
    },
    {
     "data": {
      "text/html": [
       "<div>\n",
       "<style scoped>\n",
       "    .dataframe tbody tr th:only-of-type {\n",
       "        vertical-align: middle;\n",
       "    }\n",
       "\n",
       "    .dataframe tbody tr th {\n",
       "        vertical-align: top;\n",
       "    }\n",
       "\n",
       "    .dataframe thead th {\n",
       "        text-align: right;\n",
       "    }\n",
       "</style>\n",
       "<table border=\"1\" class=\"dataframe\">\n",
       "  <thead>\n",
       "    <tr style=\"text-align: right;\">\n",
       "      <th></th>\n",
       "      <th>PersonID</th>\n",
       "      <th>A</th>\n",
       "      <th>Score</th>\n",
       "      <th>Weather</th>\n",
       "      <th>Y</th>\n",
       "    </tr>\n",
       "  </thead>\n",
       "  <tbody>\n",
       "    <tr>\n",
       "      <th>0</th>\n",
       "      <td>1</td>\n",
       "      <td>0</td>\n",
       "      <td>69</td>\n",
       "      <td>B</td>\n",
       "      <td>1</td>\n",
       "    </tr>\n",
       "    <tr>\n",
       "      <th>1</th>\n",
       "      <td>1</td>\n",
       "      <td>0</td>\n",
       "      <td>69</td>\n",
       "      <td>A</td>\n",
       "      <td>1</td>\n",
       "    </tr>\n",
       "    <tr>\n",
       "      <th>2</th>\n",
       "      <td>1</td>\n",
       "      <td>0</td>\n",
       "      <td>69</td>\n",
       "      <td>C</td>\n",
       "      <td>1</td>\n",
       "    </tr>\n",
       "    <tr>\n",
       "      <th>3</th>\n",
       "      <td>1</td>\n",
       "      <td>0</td>\n",
       "      <td>69</td>\n",
       "      <td>A</td>\n",
       "      <td>1</td>\n",
       "    </tr>\n",
       "    <tr>\n",
       "      <th>4</th>\n",
       "      <td>1</td>\n",
       "      <td>0</td>\n",
       "      <td>69</td>\n",
       "      <td>B</td>\n",
       "      <td>1</td>\n",
       "    </tr>\n",
       "  </tbody>\n",
       "</table>\n",
       "</div>"
      ],
      "text/plain": [
       "   PersonID  A  Score Weather  Y\n",
       "0         1  0     69       B  1\n",
       "1         1  0     69       A  1\n",
       "2         1  0     69       C  1\n",
       "3         1  0     69       A  1\n",
       "4         1  0     69       B  1"
      ]
     },
     "execution_count": 2,
     "metadata": {},
     "output_type": "execute_result"
    }
   ],
   "source": [
    "df = pd.read_csv(\"data/data-attendance-3.txt\")\n",
    "print(len(df))\n",
    "print(df.dtypes)\n",
    "df.head(5)"
   ]
  },
  {
   "cell_type": "code",
   "execution_count": 3,
   "metadata": {},
   "outputs": [
    {
     "data": {
      "text/html": [
       "<div>\n",
       "<style scoped>\n",
       "    .dataframe tbody tr th:only-of-type {\n",
       "        vertical-align: middle;\n",
       "    }\n",
       "\n",
       "    .dataframe tbody tr th {\n",
       "        vertical-align: top;\n",
       "    }\n",
       "\n",
       "    .dataframe thead th {\n",
       "        text-align: right;\n",
       "    }\n",
       "</style>\n",
       "<table border=\"1\" class=\"dataframe\">\n",
       "  <thead>\n",
       "    <tr style=\"text-align: right;\">\n",
       "      <th>Y</th>\n",
       "      <th>0</th>\n",
       "      <th>1</th>\n",
       "    </tr>\n",
       "    <tr>\n",
       "      <th>Weather</th>\n",
       "      <th></th>\n",
       "      <th></th>\n",
       "    </tr>\n",
       "  </thead>\n",
       "  <tbody>\n",
       "    <tr>\n",
       "      <th>A</th>\n",
       "      <td>306</td>\n",
       "      <td>953</td>\n",
       "    </tr>\n",
       "    <tr>\n",
       "      <th>B</th>\n",
       "      <td>230</td>\n",
       "      <td>500</td>\n",
       "    </tr>\n",
       "    <tr>\n",
       "      <th>C</th>\n",
       "      <td>138</td>\n",
       "      <td>269</td>\n",
       "    </tr>\n",
       "  </tbody>\n",
       "</table>\n",
       "</div>"
      ],
      "text/plain": [
       "Y          0    1\n",
       "Weather          \n",
       "A        306  953\n",
       "B        230  500\n",
       "C        138  269"
      ]
     },
     "execution_count": 3,
     "metadata": {},
     "output_type": "execute_result"
    }
   ],
   "source": [
    "pd.crosstab(df[\"Weather\"], df[\"Y\"])"
   ]
  },
  {
   "cell_type": "code",
   "execution_count": 4,
   "metadata": {},
   "outputs": [
    {
     "data": {
      "text/html": [
       "<div>\n",
       "<style scoped>\n",
       "    .dataframe tbody tr th:only-of-type {\n",
       "        vertical-align: middle;\n",
       "    }\n",
       "\n",
       "    .dataframe tbody tr th {\n",
       "        vertical-align: top;\n",
       "    }\n",
       "\n",
       "    .dataframe thead th {\n",
       "        text-align: right;\n",
       "    }\n",
       "</style>\n",
       "<table border=\"1\" class=\"dataframe\">\n",
       "  <thead>\n",
       "    <tr style=\"text-align: right;\">\n",
       "      <th>Y</th>\n",
       "      <th>0</th>\n",
       "      <th>1</th>\n",
       "    </tr>\n",
       "    <tr>\n",
       "      <th>A</th>\n",
       "      <th></th>\n",
       "      <th></th>\n",
       "    </tr>\n",
       "  </thead>\n",
       "  <tbody>\n",
       "    <tr>\n",
       "      <th>0</th>\n",
       "      <td>288</td>\n",
       "      <td>994</td>\n",
       "    </tr>\n",
       "    <tr>\n",
       "      <th>1</th>\n",
       "      <td>386</td>\n",
       "      <td>728</td>\n",
       "    </tr>\n",
       "  </tbody>\n",
       "</table>\n",
       "</div>"
      ],
      "text/plain": [
       "Y    0    1\n",
       "A          \n",
       "0  288  994\n",
       "1  386  728"
      ]
     },
     "execution_count": 4,
     "metadata": {},
     "output_type": "execute_result"
    }
   ],
   "source": [
    "# exercise (3)\n",
    "pd.crosstab(df[\"A\"], df[\"Y\"])"
   ]
  },
  {
   "cell_type": "markdown",
   "metadata": {},
   "source": [
    "# Run Stan"
   ]
  },
  {
   "cell_type": "code",
   "execution_count": 5,
   "metadata": {},
   "outputs": [
    {
     "name": "stderr",
     "output_type": "stream",
     "text": [
      "INFO:cmdstanpy:compiling stan program, exe file: /workdir/chap05/model/model5-5\n",
      "INFO:cmdstanpy:compiler options: stanc_options=None, cpp_options=None\n",
      "INFO:cmdstanpy:compiled model file: /workdir/chap05/model/model5-5\n"
     ]
    },
    {
     "name": "stdout",
     "output_type": "stream",
     "text": [
      "CmdStanModel: name=model5-5\n",
      "\t stan_file=/workdir/chap05/model/model5-5.stan\n",
      "\t exe_file=/workdir/chap05/model/model5-5\n",
      "\t compiler_optons=stanc_options=None, cpp_options=None\n"
     ]
    }
   ],
   "source": [
    "model = CmdStanModel(stan_file=\"model/model5-5.stan\")\n",
    "print(model)"
   ]
  },
  {
   "cell_type": "code",
   "execution_count": 6,
   "metadata": {},
   "outputs": [],
   "source": [
    "def weather_to_float(weather):\n",
    "    if weather == 'A':\n",
    "        return 0.0\n",
    "    elif weather =='B':\n",
    "        return 0.2\n",
    "    elif weather == 'C':\n",
    "        return 1.0"
   ]
  },
  {
   "cell_type": "code",
   "execution_count": 7,
   "metadata": {},
   "outputs": [],
   "source": [
    "data = {\n",
    "    \"I\" : len(df),\n",
    "    \"A\" : df[\"A\"].values,\n",
    "    \"Score\" : df[\"Score\"].values/200,\n",
    "    \"W\" : np.vectorize(weather_to_float)(df[\"Weather\"].values),\n",
    "    \"Y\" : df[\"Y\"].values\n",
    "}"
   ]
  },
  {
   "cell_type": "code",
   "execution_count": 8,
   "metadata": {},
   "outputs": [
    {
     "name": "stderr",
     "output_type": "stream",
     "text": [
      "INFO:cmdstanpy:start chain 1\n",
      "INFO:cmdstanpy:start chain 2\n",
      "INFO:cmdstanpy:start chain 3\n",
      "INFO:cmdstanpy:start chain 4\n",
      "INFO:cmdstanpy:finish chain 1\n",
      "INFO:cmdstanpy:finish chain 3\n",
      "INFO:cmdstanpy:finish chain 4\n",
      "INFO:cmdstanpy:finish chain 2\n"
     ]
    }
   ],
   "source": [
    "fit = model.sample(data=data)"
   ]
  },
  {
   "cell_type": "markdown",
   "metadata": {},
   "source": [
    "# Inspect the result"
   ]
  },
  {
   "cell_type": "code",
   "execution_count": 9,
   "metadata": {},
   "outputs": [
    {
     "name": "stdout",
     "output_type": "stream",
     "text": [
      "<class 'cmdstanpy.stanfit.CmdStanMCMC'>\n",
      "CmdStanMCMC: model=model5-5 chains=4['method=sample', 'algorithm=hmc', 'adapt', 'engaged=1']\n",
      " csv_files:\n",
      "\t/tmp/tmpfpli_knc/model5-5-202010040522-1-l4p1d1rn.csv\n",
      "\t/tmp/tmpfpli_knc/model5-5-202010040522-2-a5duat4t.csv\n",
      "\t/tmp/tmpfpli_knc/model5-5-202010040522-3-iwuyn04h.csv\n",
      "\t/tmp/tmpfpli_knc/model5-5-202010040522-4-_saqog1s.csv\n",
      " output_files:\n",
      "\t/tmp/tmpfpli_knc/model5-5-202010040522-1-l4p1d1rn-stdout.txt\n",
      "\t/tmp/tmpfpli_knc/model5-5-202010040522-2-a5duat4t-stdout.txt\n",
      "\t/tmp/tmpfpli_knc/model5-5-202010040522-3-iwuyn04h-stdout.txt\n",
      "\t/tmp/tmpfpli_knc/model5-5-202010040522-4-_saqog1s-stdout.txt\n"
     ]
    }
   ],
   "source": [
    "print(type(fit))\n",
    "print(fit)"
   ]
  },
  {
   "cell_type": "code",
   "execution_count": 10,
   "metadata": {},
   "outputs": [
    {
     "name": "stdout",
     "output_type": "stream",
     "text": [
      "1000\n",
      "(1000, 4, 2407)\n"
     ]
    }
   ],
   "source": [
    "print(fit.num_draws)\n",
    "print(fit.draws().shape)"
   ]
  },
  {
   "cell_type": "code",
   "execution_count": 11,
   "metadata": {},
   "outputs": [
    {
     "data": {
      "text/plain": [
       "{'b': array([[ 0.0400562, -0.593459 ,  2.12714  , -0.362435 ],\n",
       "        [ 0.280311 , -0.662439 ,  1.90047  , -0.485903 ],\n",
       "        [ 0.282589 , -0.678491 ,  1.9454   , -0.445746 ],\n",
       "        ...,\n",
       "        [ 0.296159 , -0.651128 ,  1.93523  , -0.577341 ],\n",
       "        [ 0.188068 , -0.408981 ,  1.68789  , -0.569908 ],\n",
       "        [ 0.2717   , -0.417517 ,  1.77905  , -0.501122 ]]),\n",
       " 'q': array([[0.668505, 0.684368, 0.601444, ..., 0.622349, 0.53422 , 0.53422 ],\n",
       "        [0.698211, 0.718286, 0.610656, ..., 0.63613 , 0.518168, 0.518168],\n",
       "        [0.703622, 0.721869, 0.624339, ..., 0.638088, 0.530295, 0.530295],\n",
       "        ...,\n",
       "        [0.70022 , 0.723885, 0.595434, ..., 0.646336, 0.506407, 0.506407],\n",
       "        [0.658453, 0.683605, 0.549953, ..., 0.648988, 0.511169, 0.511169],\n",
       "        [0.68681 , 0.707955, 0.594922, ..., 0.675861, 0.558158, 0.558158]])}"
      ]
     },
     "execution_count": 11,
     "metadata": {},
     "output_type": "execute_result"
    }
   ],
   "source": [
    "fit.stan_variables()"
   ]
  },
  {
   "cell_type": "code",
   "execution_count": 12,
   "metadata": {},
   "outputs": [
    {
     "data": {
      "text/html": [
       "<div>\n",
       "<style scoped>\n",
       "    .dataframe tbody tr th:only-of-type {\n",
       "        vertical-align: middle;\n",
       "    }\n",
       "\n",
       "    .dataframe tbody tr th {\n",
       "        vertical-align: top;\n",
       "    }\n",
       "\n",
       "    .dataframe thead th {\n",
       "        text-align: right;\n",
       "    }\n",
       "</style>\n",
       "<table border=\"1\" class=\"dataframe\">\n",
       "  <thead>\n",
       "    <tr style=\"text-align: right;\">\n",
       "      <th></th>\n",
       "      <th>Mean</th>\n",
       "      <th>MCSE</th>\n",
       "      <th>StdDev</th>\n",
       "      <th>5%</th>\n",
       "      <th>50%</th>\n",
       "      <th>95%</th>\n",
       "      <th>N_Eff</th>\n",
       "      <th>N_Eff/s</th>\n",
       "      <th>R_hat</th>\n",
       "    </tr>\n",
       "    <tr>\n",
       "      <th>name</th>\n",
       "      <th></th>\n",
       "      <th></th>\n",
       "      <th></th>\n",
       "      <th></th>\n",
       "      <th></th>\n",
       "      <th></th>\n",
       "      <th></th>\n",
       "      <th></th>\n",
       "      <th></th>\n",
       "    </tr>\n",
       "  </thead>\n",
       "  <tbody>\n",
       "    <tr>\n",
       "      <th>lp__</th>\n",
       "      <td>-1383.09</td>\n",
       "      <td>0.038215</td>\n",
       "      <td>1.43271</td>\n",
       "      <td>-1385.91</td>\n",
       "      <td>-1382.76</td>\n",
       "      <td>-1381.41</td>\n",
       "      <td>1405.55</td>\n",
       "      <td>32.1424</td>\n",
       "      <td>1.00086</td>\n",
       "    </tr>\n",
       "    <tr>\n",
       "      <th>b[1]</th>\n",
       "      <td>0.17</td>\n",
       "      <td>0.005900</td>\n",
       "      <td>0.23000</td>\n",
       "      <td>-0.22</td>\n",
       "      <td>0.17</td>\n",
       "      <td>0.56</td>\n",
       "      <td>1551.00</td>\n",
       "      <td>35.0000</td>\n",
       "      <td>1.00000</td>\n",
       "    </tr>\n",
       "    <tr>\n",
       "      <th>b[2]</th>\n",
       "      <td>-0.62</td>\n",
       "      <td>0.002000</td>\n",
       "      <td>0.09400</td>\n",
       "      <td>-0.77</td>\n",
       "      <td>-0.62</td>\n",
       "      <td>-0.46</td>\n",
       "      <td>2282.00</td>\n",
       "      <td>52.0000</td>\n",
       "      <td>1.00000</td>\n",
       "    </tr>\n",
       "    <tr>\n",
       "      <th>b[3]</th>\n",
       "      <td>2.00</td>\n",
       "      <td>0.009400</td>\n",
       "      <td>0.37000</td>\n",
       "      <td>1.30</td>\n",
       "      <td>2.00</td>\n",
       "      <td>2.60</td>\n",
       "      <td>1575.00</td>\n",
       "      <td>36.0000</td>\n",
       "      <td>1.00000</td>\n",
       "    </tr>\n",
       "    <tr>\n",
       "      <th>b[4]</th>\n",
       "      <td>-0.46</td>\n",
       "      <td>0.002600</td>\n",
       "      <td>0.12000</td>\n",
       "      <td>-0.67</td>\n",
       "      <td>-0.47</td>\n",
       "      <td>-0.26</td>\n",
       "      <td>2260.00</td>\n",
       "      <td>52.0000</td>\n",
       "      <td>1.00000</td>\n",
       "    </tr>\n",
       "    <tr>\n",
       "      <th>...</th>\n",
       "      <td>...</td>\n",
       "      <td>...</td>\n",
       "      <td>...</td>\n",
       "      <td>...</td>\n",
       "      <td>...</td>\n",
       "      <td>...</td>\n",
       "      <td>...</td>\n",
       "      <td>...</td>\n",
       "      <td>...</td>\n",
       "    </tr>\n",
       "    <tr>\n",
       "      <th>q[2392]</th>\n",
       "      <td>0.61</td>\n",
       "      <td>0.000370</td>\n",
       "      <td>0.01800</td>\n",
       "      <td>0.57</td>\n",
       "      <td>0.61</td>\n",
       "      <td>0.64</td>\n",
       "      <td>2457.00</td>\n",
       "      <td>56.0000</td>\n",
       "      <td>1.00000</td>\n",
       "    </tr>\n",
       "    <tr>\n",
       "      <th>q[2393]</th>\n",
       "      <td>0.63</td>\n",
       "      <td>0.000380</td>\n",
       "      <td>0.01900</td>\n",
       "      <td>0.60</td>\n",
       "      <td>0.63</td>\n",
       "      <td>0.66</td>\n",
       "      <td>2529.00</td>\n",
       "      <td>58.0000</td>\n",
       "      <td>1.00000</td>\n",
       "    </tr>\n",
       "    <tr>\n",
       "      <th>q[2394]</th>\n",
       "      <td>0.63</td>\n",
       "      <td>0.000380</td>\n",
       "      <td>0.01900</td>\n",
       "      <td>0.60</td>\n",
       "      <td>0.63</td>\n",
       "      <td>0.66</td>\n",
       "      <td>2529.00</td>\n",
       "      <td>58.0000</td>\n",
       "      <td>1.00000</td>\n",
       "    </tr>\n",
       "    <tr>\n",
       "      <th>q[2395]</th>\n",
       "      <td>0.51</td>\n",
       "      <td>0.000650</td>\n",
       "      <td>0.03100</td>\n",
       "      <td>0.46</td>\n",
       "      <td>0.51</td>\n",
       "      <td>0.56</td>\n",
       "      <td>2193.00</td>\n",
       "      <td>50.0000</td>\n",
       "      <td>1.00000</td>\n",
       "    </tr>\n",
       "    <tr>\n",
       "      <th>q[2396]</th>\n",
       "      <td>0.51</td>\n",
       "      <td>0.000650</td>\n",
       "      <td>0.03100</td>\n",
       "      <td>0.46</td>\n",
       "      <td>0.51</td>\n",
       "      <td>0.56</td>\n",
       "      <td>2193.00</td>\n",
       "      <td>50.0000</td>\n",
       "      <td>1.00000</td>\n",
       "    </tr>\n",
       "  </tbody>\n",
       "</table>\n",
       "<p>2401 rows × 9 columns</p>\n",
       "</div>"
      ],
      "text/plain": [
       "            Mean      MCSE   StdDev       5%      50%      95%    N_Eff  \\\n",
       "name                                                                      \n",
       "lp__    -1383.09  0.038215  1.43271 -1385.91 -1382.76 -1381.41  1405.55   \n",
       "b[1]        0.17  0.005900  0.23000    -0.22     0.17     0.56  1551.00   \n",
       "b[2]       -0.62  0.002000  0.09400    -0.77    -0.62    -0.46  2282.00   \n",
       "b[3]        2.00  0.009400  0.37000     1.30     2.00     2.60  1575.00   \n",
       "b[4]       -0.46  0.002600  0.12000    -0.67    -0.47    -0.26  2260.00   \n",
       "...          ...       ...      ...      ...      ...      ...      ...   \n",
       "q[2392]     0.61  0.000370  0.01800     0.57     0.61     0.64  2457.00   \n",
       "q[2393]     0.63  0.000380  0.01900     0.60     0.63     0.66  2529.00   \n",
       "q[2394]     0.63  0.000380  0.01900     0.60     0.63     0.66  2529.00   \n",
       "q[2395]     0.51  0.000650  0.03100     0.46     0.51     0.56  2193.00   \n",
       "q[2396]     0.51  0.000650  0.03100     0.46     0.51     0.56  2193.00   \n",
       "\n",
       "         N_Eff/s    R_hat  \n",
       "name                       \n",
       "lp__     32.1424  1.00086  \n",
       "b[1]     35.0000  1.00000  \n",
       "b[2]     52.0000  1.00000  \n",
       "b[3]     36.0000  1.00000  \n",
       "b[4]     52.0000  1.00000  \n",
       "...          ...      ...  \n",
       "q[2392]  56.0000  1.00000  \n",
       "q[2393]  58.0000  1.00000  \n",
       "q[2394]  58.0000  1.00000  \n",
       "q[2395]  50.0000  1.00000  \n",
       "q[2396]  50.0000  1.00000  \n",
       "\n",
       "[2401 rows x 9 columns]"
      ]
     },
     "execution_count": 12,
     "metadata": {},
     "output_type": "execute_result"
    }
   ],
   "source": [
    "fit_summary = fit.summary()\n",
    "fit_summary"
   ]
  },
  {
   "cell_type": "code",
   "execution_count": 13,
   "metadata": {},
   "outputs": [
    {
     "data": {
      "text/html": [
       "<div>\n",
       "<style scoped>\n",
       "    .dataframe tbody tr th:only-of-type {\n",
       "        vertical-align: middle;\n",
       "    }\n",
       "\n",
       "    .dataframe tbody tr th {\n",
       "        vertical-align: top;\n",
       "    }\n",
       "\n",
       "    .dataframe thead th {\n",
       "        text-align: right;\n",
       "    }\n",
       "</style>\n",
       "<table border=\"1\" class=\"dataframe\">\n",
       "  <thead>\n",
       "    <tr style=\"text-align: right;\">\n",
       "      <th></th>\n",
       "      <th>Mean</th>\n",
       "      <th>MCSE</th>\n",
       "      <th>StdDev</th>\n",
       "      <th>5%</th>\n",
       "      <th>50%</th>\n",
       "      <th>95%</th>\n",
       "      <th>N_Eff</th>\n",
       "      <th>N_Eff/s</th>\n",
       "      <th>R_hat</th>\n",
       "    </tr>\n",
       "    <tr>\n",
       "      <th>name</th>\n",
       "      <th></th>\n",
       "      <th></th>\n",
       "      <th></th>\n",
       "      <th></th>\n",
       "      <th></th>\n",
       "      <th></th>\n",
       "      <th></th>\n",
       "      <th></th>\n",
       "      <th></th>\n",
       "    </tr>\n",
       "  </thead>\n",
       "  <tbody>\n",
       "  </tbody>\n",
       "</table>\n",
       "</div>"
      ],
      "text/plain": [
       "Empty DataFrame\n",
       "Columns: [Mean, MCSE, StdDev, 5%, 50%, 95%, N_Eff, N_Eff/s, R_hat]\n",
       "Index: []"
      ]
     },
     "execution_count": 13,
     "metadata": {},
     "output_type": "execute_result"
    }
   ],
   "source": [
    "# Check the convergence\n",
    "fit_summary[fit_summary[\"R_hat\"] >= 1.1]"
   ]
  },
  {
   "cell_type": "code",
   "execution_count": 14,
   "metadata": {},
   "outputs": [
    {
     "name": "stderr",
     "output_type": "stream",
     "text": [
      "INFO:cmdstanpy:Processing csv files: /tmp/tmpfpli_knc/model5-5-202010040522-1-l4p1d1rn.csv, /tmp/tmpfpli_knc/model5-5-202010040522-2-a5duat4t.csv, /tmp/tmpfpli_knc/model5-5-202010040522-3-iwuyn04h.csv, /tmp/tmpfpli_knc/model5-5-202010040522-4-_saqog1s.csv\n",
      "\n",
      "Checking sampler transitions treedepth.\n",
      "Treedepth satisfactory for all transitions.\n",
      "\n",
      "Checking sampler transitions for divergences.\n",
      "No divergent transitions found.\n",
      "\n",
      "Checking E-BFMI - sampler transitions HMC potential energy.\n",
      "E-BFMI satisfactory for all transitions.\n",
      "\n",
      "Effective sample size satisfactory.\n",
      "\n",
      "Split R-hat values satisfactory all parameters.\n",
      "\n",
      "Processing complete, no problems detected.\n"
     ]
    },
    {
     "name": "stdout",
     "output_type": "stream",
     "text": [
      "Processing csv files: /tmp/tmpfpli_knc/model5-5-202010040522-1-l4p1d1rn.csv, /tmp/tmpfpli_knc/model5-5-202010040522-2-a5duat4t.csv, /tmp/tmpfpli_knc/model5-5-202010040522-3-iwuyn04h.csv, /tmp/tmpfpli_knc/model5-5-202010040522-4-_saqog1s.csv\n",
      "\n",
      "Checking sampler transitions treedepth.\n",
      "Treedepth satisfactory for all transitions.\n",
      "\n",
      "Checking sampler transitions for divergences.\n",
      "No divergent transitions found.\n",
      "\n",
      "Checking E-BFMI - sampler transitions HMC potential energy.\n",
      "E-BFMI satisfactory for all transitions.\n",
      "\n",
      "Effective sample size satisfactory.\n",
      "\n",
      "Split R-hat values satisfactory all parameters.\n",
      "\n",
      "Processing complete, no problems detected.\n"
     ]
    }
   ],
   "source": [
    "print(fit.diagnose())"
   ]
  },
  {
   "cell_type": "markdown",
   "metadata": {},
   "source": [
    "# Plot the result"
   ]
  },
  {
   "cell_type": "code",
   "execution_count": 15,
   "metadata": {},
   "outputs": [
    {
     "data": {
      "text/plain": [
       "(3, 2396)"
      ]
     },
     "execution_count": 15,
     "metadata": {},
     "output_type": "execute_result"
    }
   ],
   "source": [
    "q_percentiles = np.percentile(fit.stan_variable(\"q\"), [10.0, 50.0, 90.0], axis=0)\n",
    "q_percentiles.shape"
   ]
  },
  {
   "cell_type": "code",
   "execution_count": 16,
   "metadata": {},
   "outputs": [
    {
     "data": {
      "text/plain": [
       "Text(0, 0.5, 'q')"
      ]
     },
     "execution_count": 16,
     "metadata": {},
     "output_type": "execute_result"
    },
    {
     "data": {
      "image/png": "[encoded data removed]",
      "text/plain": [
       "<Figure size 576x432 with 1 Axes>"
      ]
     },
     "metadata": {
      "needs_background": "light"
     },
     "output_type": "display_data"
    }
   ],
   "source": [
    "# Fig 5.9\n",
    "# Plot score vs q (for weather = 'A' and 'A' = 0 only)\n",
    "\n",
    "df_tmp = df.sort_values(by=[\"Score\"])[[\"Weather\", \"A\"]]\n",
    "idx = df_tmp[(df_tmp[\"Weather\"] == 'A') & (df_tmp['A'] == 0)].index.values\n",
    "\n",
    "fig = plt.figure(figsize=(8, 6))\n",
    "ax = plt.subplot(111)\n",
    "\n",
    "ax.plot(df[\"Score\"][idx], df[\"Y\"][idx] + 0.1*np.random.randn(len(idx)), 'o', markersize=5, color=\"C0\")\n",
    "ax.plot(df[\"Score\"][idx], q_percentiles[1][idx], '.-', color=\"C1\")\n",
    "ax.fill_between(df[\"Score\"][idx], q_percentiles[0][idx], q_percentiles[2][idx], alpha=0.3, color=\"C1\")\n",
    "ax.set_xlabel(\"Score\")\n",
    "ax.set_ylabel(\"q\")"
   ]
  },
  {
   "cell_type": "code",
   "execution_count": 17,
   "metadata": {},
   "outputs": [
    {
     "data": {
      "image/png": "[encoded data removed]",
      "text/plain": [
       "<Figure size 1152x576 with 2 Axes>"
      ]
     },
     "metadata": {
      "needs_background": "light"
     },
     "output_type": "display_data"
    }
   ],
   "source": [
    "# Fig 5.10\n",
    "# prob vs. observation\n",
    "\n",
    "fig, axes = plt.subplots(nrows=1, ncols=2, figsize=(16, 8))\n",
    "\n",
    "ax = axes[0]\n",
    "sns.violinplot(x=q_percentiles[1], y=df[\"Y\"], color='white', linewidth=5, orient='h', ax=ax)\n",
    "ax.set_xlabel(\"q(median)\")\n",
    "\n",
    "ax = axes[1]\n",
    "sns.violinplot(x=q_percentiles[1], y=df[\"Y\"], color='white', linewidth=5, orient='h', ax=ax)\n",
    "sns.stripplot(x=q_percentiles[1], y=df[\"Y\"], hue=df[\"A\"], orient='h', ax=ax)\n",
    "ax.set_xlabel(\"q(median)\")\n",
    "\n",
    "plt.show()"
   ]
  },
  {
   "cell_type": "code",
   "execution_count": 18,
   "metadata": {},
   "outputs": [
    {
     "name": "stdout",
     "output_type": "stream",
     "text": [
      "ROC AUC Score : 0.6170155295236717\n"
     ]
    },
    {
     "data": {
      "image/png": "[encoded data removed]",
      "text/plain": [
       "<Figure size 432x432 with 1 Axes>"
      ]
     },
     "metadata": {
      "needs_background": "light"
     },
     "output_type": "display_data"
    }
   ],
   "source": [
    "# Fig 5.11\n",
    "# ROC curve : \n",
    "\n",
    "print(\"ROC AUC Score :\", roc_auc_score(df[\"Y\"].values, q_percentiles[1]))\n",
    "\n",
    "fpr, tpr, thresholds = roc_curve(df[\"Y\"].values, q_percentiles[1])\n",
    "fig = plt.figure(figsize=(6, 6))\n",
    "ax = fig.add_subplot(111)\n",
    "ax.plot(fpr, tpr)\n",
    "ax.plot([0,1], [0,1], 'k--')\n",
    "ax.set_aspect(\"equal\")\n",
    "ax.set_xlabel(\"False Positive rate\")\n",
    "ax.set_ylabel(\"True Positive rate\")\n",
    "plt.show()"
   ]
  }
 ],
 "metadata": {
  "kernelspec": {
   "display_name": "Python 3",
   "language": "python",
   "name": "python3"
  },
  "language_info": {
   "codemirror_mode": {
    "name": "ipython",
    "version": 3
   },
   "file_extension": ".py",
   "mimetype": "text/x-python",
   "name": "python",
   "nbconvert_exporter": "python",
   "pygments_lexer": "ipython3",
   "version": "3.8.2"
  }
 },
 "nbformat": 4,
 "nbformat_minor": 4
}
