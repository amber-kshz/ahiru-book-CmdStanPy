{
 "cells": [
  {
   "cell_type": "markdown",
   "metadata": {},
   "source": [
    "This notebook deals with the contents of Section 5.3 of the book."
   ]
  },
  {
   "cell_type": "code",
   "execution_count": 1,
   "metadata": {},
   "outputs": [],
   "source": [
    "import numpy as np\n",
    "import pandas as pd\n",
    "import seaborn as sns\n",
    "from cmdstanpy import CmdStanModel\n",
    "from matplotlib import pyplot as plt\n",
    "from sklearn.metrics import roc_curve, roc_auc_score"
   ]
  },
  {
   "cell_type": "markdown",
   "metadata": {},
   "source": [
    "# Load and inspect data"
   ]
  },
  {
   "cell_type": "code",
   "execution_count": 2,
   "metadata": {},
   "outputs": [
    {
     "name": "stdout",
     "output_type": "stream",
     "text": [
      "2396\n",
      "PersonID     int64\n",
      "A            int64\n",
      "Score        int64\n",
      "Weather     object\n",
      "Y            int64\n",
      "dtype: object\n"
     ]
    },
    {
     "data": {
      "text/html": [
       "<div>\n",
       "<style scoped>\n",
       "    .dataframe tbody tr th:only-of-type {\n",
       "        vertical-align: middle;\n",
       "    }\n",
       "\n",
       "    .dataframe tbody tr th {\n",
       "        vertical-align: top;\n",
       "    }\n",
       "\n",
       "    .dataframe thead th {\n",
       "        text-align: right;\n",
       "    }\n",
       "</style>\n",
       "<table border=\"1\" class=\"dataframe\">\n",
       "  <thead>\n",
       "    <tr style=\"text-align: right;\">\n",
       "      <th></th>\n",
       "      <th>PersonID</th>\n",
       "      <th>A</th>\n",
       "      <th>Score</th>\n",
       "      <th>Weather</th>\n",
       "      <th>Y</th>\n",
       "    </tr>\n",
       "  </thead>\n",
       "  <tbody>\n",
       "    <tr>\n",
       "      <th>0</th>\n",
       "      <td>1</td>\n",
       "      <td>0</td>\n",
       "      <td>69</td>\n",
       "      <td>B</td>\n",
       "      <td>1</td>\n",
       "    </tr>\n",
       "    <tr>\n",
       "      <th>1</th>\n",
       "      <td>1</td>\n",
       "      <td>0</td>\n",
       "      <td>69</td>\n",
       "      <td>A</td>\n",
       "      <td>1</td>\n",
       "    </tr>\n",
       "    <tr>\n",
       "      <th>2</th>\n",
       "      <td>1</td>\n",
       "      <td>0</td>\n",
       "      <td>69</td>\n",
       "      <td>C</td>\n",
       "      <td>1</td>\n",
       "    </tr>\n",
       "    <tr>\n",
       "      <th>3</th>\n",
       "      <td>1</td>\n",
       "      <td>0</td>\n",
       "      <td>69</td>\n",
       "      <td>A</td>\n",
       "      <td>1</td>\n",
       "    </tr>\n",
       "    <tr>\n",
       "      <th>4</th>\n",
       "      <td>1</td>\n",
       "      <td>0</td>\n",
       "      <td>69</td>\n",
       "      <td>B</td>\n",
       "      <td>1</td>\n",
       "    </tr>\n",
       "  </tbody>\n",
       "</table>\n",
       "</div>"
      ],
      "text/plain": [
       "   PersonID  A  Score Weather  Y\n",
       "0         1  0     69       B  1\n",
       "1         1  0     69       A  1\n",
       "2         1  0     69       C  1\n",
       "3         1  0     69       A  1\n",
       "4         1  0     69       B  1"
      ]
     },
     "execution_count": 2,
     "metadata": {},
     "output_type": "execute_result"
    }
   ],
   "source": [
    "df = pd.read_csv(\"data/data-attendance-3.txt\")\n",
    "print(len(df))\n",
    "print(df.dtypes)\n",
    "df.head(5)"
   ]
  },
  {
   "cell_type": "code",
   "execution_count": 3,
   "metadata": {},
   "outputs": [
    {
     "data": {
      "text/html": [
       "<div>\n",
       "<style scoped>\n",
       "    .dataframe tbody tr th:only-of-type {\n",
       "        vertical-align: middle;\n",
       "    }\n",
       "\n",
       "    .dataframe tbody tr th {\n",
       "        vertical-align: top;\n",
       "    }\n",
       "\n",
       "    .dataframe thead th {\n",
       "        text-align: right;\n",
       "    }\n",
       "</style>\n",
       "<table border=\"1\" class=\"dataframe\">\n",
       "  <thead>\n",
       "    <tr style=\"text-align: right;\">\n",
       "      <th>Y</th>\n",
       "      <th>0</th>\n",
       "      <th>1</th>\n",
       "    </tr>\n",
       "    <tr>\n",
       "      <th>Weather</th>\n",
       "      <th></th>\n",
       "      <th></th>\n",
       "    </tr>\n",
       "  </thead>\n",
       "  <tbody>\n",
       "    <tr>\n",
       "      <th>A</th>\n",
       "      <td>306</td>\n",
       "      <td>953</td>\n",
       "    </tr>\n",
       "    <tr>\n",
       "      <th>B</th>\n",
       "      <td>230</td>\n",
       "      <td>500</td>\n",
       "    </tr>\n",
       "    <tr>\n",
       "      <th>C</th>\n",
       "      <td>138</td>\n",
       "      <td>269</td>\n",
       "    </tr>\n",
       "  </tbody>\n",
       "</table>\n",
       "</div>"
      ],
      "text/plain": [
       "Y          0    1\n",
       "Weather          \n",
       "A        306  953\n",
       "B        230  500\n",
       "C        138  269"
      ]
     },
     "execution_count": 3,
     "metadata": {},
     "output_type": "execute_result"
    }
   ],
   "source": [
    "pd.crosstab(df[\"Weather\"], df[\"Y\"])"
   ]
  },
  {
   "cell_type": "code",
   "execution_count": 4,
   "metadata": {},
   "outputs": [
    {
     "data": {
      "text/html": [
       "<div>\n",
       "<style scoped>\n",
       "    .dataframe tbody tr th:only-of-type {\n",
       "        vertical-align: middle;\n",
       "    }\n",
       "\n",
       "    .dataframe tbody tr th {\n",
       "        vertical-align: top;\n",
       "    }\n",
       "\n",
       "    .dataframe thead th {\n",
       "        text-align: right;\n",
       "    }\n",
       "</style>\n",
       "<table border=\"1\" class=\"dataframe\">\n",
       "  <thead>\n",
       "    <tr style=\"text-align: right;\">\n",
       "      <th>Y</th>\n",
       "      <th>0</th>\n",
       "      <th>1</th>\n",
       "    </tr>\n",
       "    <tr>\n",
       "      <th>A</th>\n",
       "      <th></th>\n",
       "      <th></th>\n",
       "    </tr>\n",
       "  </thead>\n",
       "  <tbody>\n",
       "    <tr>\n",
       "      <th>0</th>\n",
       "      <td>288</td>\n",
       "      <td>994</td>\n",
       "    </tr>\n",
       "    <tr>\n",
       "      <th>1</th>\n",
       "      <td>386</td>\n",
       "      <td>728</td>\n",
       "    </tr>\n",
       "  </tbody>\n",
       "</table>\n",
       "</div>"
      ],
      "text/plain": [
       "Y    0    1\n",
       "A          \n",
       "0  288  994\n",
       "1  386  728"
      ]
     },
     "execution_count": 4,
     "metadata": {},
     "output_type": "execute_result"
    }
   ],
   "source": [
    "# exercise (3)\n",
    "pd.crosstab(df[\"A\"], df[\"Y\"])"
   ]
  },
  {
   "cell_type": "markdown",
   "metadata": {},
   "source": [
    "# Run Stan"
   ]
  },
  {
   "cell_type": "code",
   "execution_count": 5,
   "metadata": {},
   "outputs": [
    {
     "name": "stderr",
     "output_type": "stream",
     "text": [
      "INFO:cmdstanpy:found newer exe file, not recompiling\n",
      "INFO:cmdstanpy:compiled model file: /workdir/chap05/model/model5-5\n"
     ]
    },
    {
     "name": "stdout",
     "output_type": "stream",
     "text": [
      "CmdStanModel: name=model5-5\n",
      "\t stan_file=/workdir/chap05/model/model5-5.stan\n",
      "\t exe_file=/workdir/chap05/model/model5-5\n",
      "\t compiler_optons=stanc_options=None, cpp_options=None\n"
     ]
    }
   ],
   "source": [
    "model = CmdStanModel(stan_file=\"model/model5-5.stan\")\n",
    "print(model)"
   ]
  },
  {
   "cell_type": "code",
   "execution_count": 6,
   "metadata": {},
   "outputs": [],
   "source": [
    "def weather_to_float(weather):\n",
    "    if weather == 'A':\n",
    "        return 0.0\n",
    "    elif weather =='B':\n",
    "        return 0.2\n",
    "    elif weather == 'C':\n",
    "        return 1.0"
   ]
  },
  {
   "cell_type": "code",
   "execution_count": 7,
   "metadata": {},
   "outputs": [],
   "source": [
    "data = {\n",
    "    \"I\" : len(df),\n",
    "    \"A\" : df[\"A\"].values,\n",
    "    \"Score\" : df[\"Score\"].values/200,\n",
    "    \"W\" : np.vectorize(weather_to_float)(df[\"Weather\"].values),\n",
    "    \"Y\" : df[\"Y\"].values\n",
    "}"
   ]
  },
  {
   "cell_type": "code",
   "execution_count": 8,
   "metadata": {},
   "outputs": [
    {
     "name": "stderr",
     "output_type": "stream",
     "text": [
      "INFO:cmdstanpy:start chain 1\n",
      "INFO:cmdstanpy:start chain 2\n",
      "INFO:cmdstanpy:start chain 3\n",
      "INFO:cmdstanpy:start chain 4\n",
      "INFO:cmdstanpy:finish chain 4\n",
      "INFO:cmdstanpy:finish chain 1\n",
      "INFO:cmdstanpy:finish chain 3\n",
      "INFO:cmdstanpy:finish chain 2\n"
     ]
    }
   ],
   "source": [
    "fit = model.sample(data=data)"
   ]
  },
  {
   "cell_type": "markdown",
   "metadata": {},
   "source": [
    "# Inspect the result"
   ]
  },
  {
   "cell_type": "code",
   "execution_count": 9,
   "metadata": {},
   "outputs": [
    {
     "name": "stdout",
     "output_type": "stream",
     "text": [
      "<class 'cmdstanpy.stanfit.CmdStanMCMC'>\n",
      "CmdStanMCMC: model=model5-5 chains=4['method=sample', 'algorithm=hmc', 'adapt', 'engaged=1']\n",
      " csv_files:\n",
      "\t/tmp/tmp735i58h9/model5-5-202009220530-1-y_9lw2_a.csv\n",
      "\t/tmp/tmp735i58h9/model5-5-202009220530-2-10lok0ov.csv\n",
      "\t/tmp/tmp735i58h9/model5-5-202009220530-3-z_6brgdx.csv\n",
      "\t/tmp/tmp735i58h9/model5-5-202009220530-4-11n7dctw.csv\n",
      " output_files:\n",
      "\t/tmp/tmp735i58h9/model5-5-202009220530-1-y_9lw2_a-stdout.txt\n",
      "\t/tmp/tmp735i58h9/model5-5-202009220530-2-10lok0ov-stdout.txt\n",
      "\t/tmp/tmp735i58h9/model5-5-202009220530-3-z_6brgdx-stdout.txt\n",
      "\t/tmp/tmp735i58h9/model5-5-202009220530-4-11n7dctw-stdout.txt\n"
     ]
    }
   ],
   "source": [
    "print(type(fit))\n",
    "print(fit)"
   ]
  },
  {
   "cell_type": "code",
   "execution_count": 10,
   "metadata": {},
   "outputs": [
    {
     "name": "stdout",
     "output_type": "stream",
     "text": [
      "1000\n",
      "(1000, 4, 2407)\n"
     ]
    }
   ],
   "source": [
    "print(fit.num_draws)\n",
    "print(fit.draws().shape)"
   ]
  },
  {
   "cell_type": "code",
   "execution_count": 11,
   "metadata": {},
   "outputs": [
    {
     "data": {
      "text/plain": [
       "{'b': array([[ 0.0597895, -0.681811 ,  2.27744  , -0.567132 ],\n",
       "        [-0.105071 , -0.762969 ,  2.57661  , -0.574847 ],\n",
       "        [ 0.250873 , -0.612446 ,  1.69933  , -0.13637  ],\n",
       "        ...,\n",
       "        [ 0.334344 , -0.464366 ,  1.64419  , -0.439668 ],\n",
       "        [ 0.0514889, -0.638614 ,  2.08828  , -0.57938  ],\n",
       "        [ 0.111857 , -0.618817 ,  2.27868  , -0.629433 ]]),\n",
       " 'q': array([[0.675262, 0.699624, 0.569148, ..., 0.623707, 0.48455 , 0.48455 ],\n",
       "        [0.661255, 0.686511, 0.552064, ..., 0.60046 , 0.458232, 0.458232],\n",
       "        [0.692082, 0.697863, 0.668359, ..., 0.617653, 0.584974, 0.584974],\n",
       "        ...,\n",
       "        [0.692888, 0.711276, 0.61347 , ..., 0.664598, 0.560745, 0.560745],\n",
       "        [0.658377, 0.683942, 0.547993, ..., 0.609824, 0.466847, 0.466847],\n",
       "        [0.683978, 0.710539, 0.566742, ..., 0.650443, 0.497889, 0.497889]])}"
      ]
     },
     "execution_count": 11,
     "metadata": {},
     "output_type": "execute_result"
    }
   ],
   "source": [
    "fit.stan_variables()"
   ]
  },
  {
   "cell_type": "code",
   "execution_count": 12,
   "metadata": {},
   "outputs": [
    {
     "data": {
      "text/html": [
       "<div>\n",
       "<style scoped>\n",
       "    .dataframe tbody tr th:only-of-type {\n",
       "        vertical-align: middle;\n",
       "    }\n",
       "\n",
       "    .dataframe tbody tr th {\n",
       "        vertical-align: top;\n",
       "    }\n",
       "\n",
       "    .dataframe thead th {\n",
       "        text-align: right;\n",
       "    }\n",
       "</style>\n",
       "<table border=\"1\" class=\"dataframe\">\n",
       "  <thead>\n",
       "    <tr style=\"text-align: right;\">\n",
       "      <th></th>\n",
       "      <th>Mean</th>\n",
       "      <th>MCSE</th>\n",
       "      <th>StdDev</th>\n",
       "      <th>5%</th>\n",
       "      <th>50%</th>\n",
       "      <th>95%</th>\n",
       "      <th>N_Eff</th>\n",
       "      <th>N_Eff/s</th>\n",
       "      <th>R_hat</th>\n",
       "    </tr>\n",
       "    <tr>\n",
       "      <th>name</th>\n",
       "      <th></th>\n",
       "      <th></th>\n",
       "      <th></th>\n",
       "      <th></th>\n",
       "      <th></th>\n",
       "      <th></th>\n",
       "      <th></th>\n",
       "      <th></th>\n",
       "      <th></th>\n",
       "    </tr>\n",
       "  </thead>\n",
       "  <tbody>\n",
       "    <tr>\n",
       "      <th>lp__</th>\n",
       "      <td>-1383.06</td>\n",
       "      <td>0.034133</td>\n",
       "      <td>1.40072</td>\n",
       "      <td>-1385.87</td>\n",
       "      <td>-1382.73</td>\n",
       "      <td>-1381.42</td>\n",
       "      <td>1684.01</td>\n",
       "      <td>36.5786</td>\n",
       "      <td>1.00136</td>\n",
       "    </tr>\n",
       "    <tr>\n",
       "      <th>b[1]</th>\n",
       "      <td>0.16</td>\n",
       "      <td>0.004900</td>\n",
       "      <td>0.22000</td>\n",
       "      <td>-0.20</td>\n",
       "      <td>0.16</td>\n",
       "      <td>0.53</td>\n",
       "      <td>2121.00</td>\n",
       "      <td>46.0000</td>\n",
       "      <td>1.00000</td>\n",
       "    </tr>\n",
       "    <tr>\n",
       "      <th>b[2]</th>\n",
       "      <td>-0.62</td>\n",
       "      <td>0.001700</td>\n",
       "      <td>0.09300</td>\n",
       "      <td>-0.77</td>\n",
       "      <td>-0.62</td>\n",
       "      <td>-0.47</td>\n",
       "      <td>2813.00</td>\n",
       "      <td>61.0000</td>\n",
       "      <td>1.00000</td>\n",
       "    </tr>\n",
       "    <tr>\n",
       "      <th>b[3]</th>\n",
       "      <td>2.00</td>\n",
       "      <td>0.007600</td>\n",
       "      <td>0.35000</td>\n",
       "      <td>1.40</td>\n",
       "      <td>2.00</td>\n",
       "      <td>2.50</td>\n",
       "      <td>2185.00</td>\n",
       "      <td>47.0000</td>\n",
       "      <td>1.00000</td>\n",
       "    </tr>\n",
       "    <tr>\n",
       "      <th>b[4]</th>\n",
       "      <td>-0.46</td>\n",
       "      <td>0.002300</td>\n",
       "      <td>0.12000</td>\n",
       "      <td>-0.66</td>\n",
       "      <td>-0.46</td>\n",
       "      <td>-0.26</td>\n",
       "      <td>2947.00</td>\n",
       "      <td>64.0000</td>\n",
       "      <td>1.00000</td>\n",
       "    </tr>\n",
       "    <tr>\n",
       "      <th>...</th>\n",
       "      <td>...</td>\n",
       "      <td>...</td>\n",
       "      <td>...</td>\n",
       "      <td>...</td>\n",
       "      <td>...</td>\n",
       "      <td>...</td>\n",
       "      <td>...</td>\n",
       "      <td>...</td>\n",
       "      <td>...</td>\n",
       "    </tr>\n",
       "    <tr>\n",
       "      <th>q[2392]</th>\n",
       "      <td>0.61</td>\n",
       "      <td>0.000340</td>\n",
       "      <td>0.01800</td>\n",
       "      <td>0.58</td>\n",
       "      <td>0.61</td>\n",
       "      <td>0.63</td>\n",
       "      <td>2935.00</td>\n",
       "      <td>64.0000</td>\n",
       "      <td>1.00000</td>\n",
       "    </tr>\n",
       "    <tr>\n",
       "      <th>q[2393]</th>\n",
       "      <td>0.63</td>\n",
       "      <td>0.000360</td>\n",
       "      <td>0.01900</td>\n",
       "      <td>0.59</td>\n",
       "      <td>0.63</td>\n",
       "      <td>0.66</td>\n",
       "      <td>2815.00</td>\n",
       "      <td>61.0000</td>\n",
       "      <td>1.00000</td>\n",
       "    </tr>\n",
       "    <tr>\n",
       "      <th>q[2394]</th>\n",
       "      <td>0.63</td>\n",
       "      <td>0.000360</td>\n",
       "      <td>0.01900</td>\n",
       "      <td>0.59</td>\n",
       "      <td>0.63</td>\n",
       "      <td>0.66</td>\n",
       "      <td>2815.00</td>\n",
       "      <td>61.0000</td>\n",
       "      <td>1.00000</td>\n",
       "    </tr>\n",
       "    <tr>\n",
       "      <th>q[2395]</th>\n",
       "      <td>0.51</td>\n",
       "      <td>0.000530</td>\n",
       "      <td>0.03000</td>\n",
       "      <td>0.46</td>\n",
       "      <td>0.51</td>\n",
       "      <td>0.56</td>\n",
       "      <td>3221.00</td>\n",
       "      <td>70.0000</td>\n",
       "      <td>1.00000</td>\n",
       "    </tr>\n",
       "    <tr>\n",
       "      <th>q[2396]</th>\n",
       "      <td>0.51</td>\n",
       "      <td>0.000530</td>\n",
       "      <td>0.03000</td>\n",
       "      <td>0.46</td>\n",
       "      <td>0.51</td>\n",
       "      <td>0.56</td>\n",
       "      <td>3221.00</td>\n",
       "      <td>70.0000</td>\n",
       "      <td>1.00000</td>\n",
       "    </tr>\n",
       "  </tbody>\n",
       "</table>\n",
       "<p>2401 rows × 9 columns</p>\n",
       "</div>"
      ],
      "text/plain": [
       "            Mean      MCSE   StdDev       5%      50%      95%    N_Eff  \\\n",
       "name                                                                      \n",
       "lp__    -1383.06  0.034133  1.40072 -1385.87 -1382.73 -1381.42  1684.01   \n",
       "b[1]        0.16  0.004900  0.22000    -0.20     0.16     0.53  2121.00   \n",
       "b[2]       -0.62  0.001700  0.09300    -0.77    -0.62    -0.47  2813.00   \n",
       "b[3]        2.00  0.007600  0.35000     1.40     2.00     2.50  2185.00   \n",
       "b[4]       -0.46  0.002300  0.12000    -0.66    -0.46    -0.26  2947.00   \n",
       "...          ...       ...      ...      ...      ...      ...      ...   \n",
       "q[2392]     0.61  0.000340  0.01800     0.58     0.61     0.63  2935.00   \n",
       "q[2393]     0.63  0.000360  0.01900     0.59     0.63     0.66  2815.00   \n",
       "q[2394]     0.63  0.000360  0.01900     0.59     0.63     0.66  2815.00   \n",
       "q[2395]     0.51  0.000530  0.03000     0.46     0.51     0.56  3221.00   \n",
       "q[2396]     0.51  0.000530  0.03000     0.46     0.51     0.56  3221.00   \n",
       "\n",
       "         N_Eff/s    R_hat  \n",
       "name                       \n",
       "lp__     36.5786  1.00136  \n",
       "b[1]     46.0000  1.00000  \n",
       "b[2]     61.0000  1.00000  \n",
       "b[3]     47.0000  1.00000  \n",
       "b[4]     64.0000  1.00000  \n",
       "...          ...      ...  \n",
       "q[2392]  64.0000  1.00000  \n",
       "q[2393]  61.0000  1.00000  \n",
       "q[2394]  61.0000  1.00000  \n",
       "q[2395]  70.0000  1.00000  \n",
       "q[2396]  70.0000  1.00000  \n",
       "\n",
       "[2401 rows x 9 columns]"
      ]
     },
     "execution_count": 12,
     "metadata": {},
     "output_type": "execute_result"
    }
   ],
   "source": [
    "fit_summary = fit.summary()\n",
    "fit_summary"
   ]
  },
  {
   "cell_type": "code",
   "execution_count": 13,
   "metadata": {},
   "outputs": [
    {
     "data": {
      "text/html": [
       "<div>\n",
       "<style scoped>\n",
       "    .dataframe tbody tr th:only-of-type {\n",
       "        vertical-align: middle;\n",
       "    }\n",
       "\n",
       "    .dataframe tbody tr th {\n",
       "        vertical-align: top;\n",
       "    }\n",
       "\n",
       "    .dataframe thead th {\n",
       "        text-align: right;\n",
       "    }\n",
       "</style>\n",
       "<table border=\"1\" class=\"dataframe\">\n",
       "  <thead>\n",
       "    <tr style=\"text-align: right;\">\n",
       "      <th></th>\n",
       "      <th>Mean</th>\n",
       "      <th>MCSE</th>\n",
       "      <th>StdDev</th>\n",
       "      <th>5%</th>\n",
       "      <th>50%</th>\n",
       "      <th>95%</th>\n",
       "      <th>N_Eff</th>\n",
       "      <th>N_Eff/s</th>\n",
       "      <th>R_hat</th>\n",
       "    </tr>\n",
       "    <tr>\n",
       "      <th>name</th>\n",
       "      <th></th>\n",
       "      <th></th>\n",
       "      <th></th>\n",
       "      <th></th>\n",
       "      <th></th>\n",
       "      <th></th>\n",
       "      <th></th>\n",
       "      <th></th>\n",
       "      <th></th>\n",
       "    </tr>\n",
       "  </thead>\n",
       "  <tbody>\n",
       "  </tbody>\n",
       "</table>\n",
       "</div>"
      ],
      "text/plain": [
       "Empty DataFrame\n",
       "Columns: [Mean, MCSE, StdDev, 5%, 50%, 95%, N_Eff, N_Eff/s, R_hat]\n",
       "Index: []"
      ]
     },
     "execution_count": 13,
     "metadata": {},
     "output_type": "execute_result"
    }
   ],
   "source": [
    "# Check the convergence\n",
    "fit_summary[fit_summary[\"R_hat\"] >= 1.1]"
   ]
  },
  {
   "cell_type": "code",
   "execution_count": 14,
   "metadata": {},
   "outputs": [
    {
     "name": "stderr",
     "output_type": "stream",
     "text": [
      "INFO:cmdstanpy:Processing csv files: /tmp/tmp735i58h9/model5-5-202009220530-1-y_9lw2_a.csv, /tmp/tmp735i58h9/model5-5-202009220530-2-10lok0ov.csv, /tmp/tmp735i58h9/model5-5-202009220530-3-z_6brgdx.csv, /tmp/tmp735i58h9/model5-5-202009220530-4-11n7dctw.csv\n",
      "\n",
      "Checking sampler transitions treedepth.\n",
      "Treedepth satisfactory for all transitions.\n",
      "\n",
      "Checking sampler transitions for divergences.\n",
      "No divergent transitions found.\n",
      "\n",
      "Checking E-BFMI - sampler transitions HMC potential energy.\n",
      "E-BFMI satisfactory for all transitions.\n",
      "\n",
      "Effective sample size satisfactory.\n",
      "\n",
      "Split R-hat values satisfactory all parameters.\n",
      "\n",
      "Processing complete, no problems detected.\n"
     ]
    },
    {
     "name": "stdout",
     "output_type": "stream",
     "text": [
      "Processing csv files: /tmp/tmp735i58h9/model5-5-202009220530-1-y_9lw2_a.csv, /tmp/tmp735i58h9/model5-5-202009220530-2-10lok0ov.csv, /tmp/tmp735i58h9/model5-5-202009220530-3-z_6brgdx.csv, /tmp/tmp735i58h9/model5-5-202009220530-4-11n7dctw.csv\n",
      "\n",
      "Checking sampler transitions treedepth.\n",
      "Treedepth satisfactory for all transitions.\n",
      "\n",
      "Checking sampler transitions for divergences.\n",
      "No divergent transitions found.\n",
      "\n",
      "Checking E-BFMI - sampler transitions HMC potential energy.\n",
      "E-BFMI satisfactory for all transitions.\n",
      "\n",
      "Effective sample size satisfactory.\n",
      "\n",
      "Split R-hat values satisfactory all parameters.\n",
      "\n",
      "Processing complete, no problems detected.\n"
     ]
    }
   ],
   "source": [
    "print(fit.diagnose())"
   ]
  },
  {
   "cell_type": "markdown",
   "metadata": {},
   "source": [
    "# Plot the result"
   ]
  },
  {
   "cell_type": "code",
   "execution_count": 15,
   "metadata": {},
   "outputs": [
    {
     "data": {
      "text/plain": [
       "(3, 2396)"
      ]
     },
     "execution_count": 15,
     "metadata": {},
     "output_type": "execute_result"
    }
   ],
   "source": [
    "q_percentiles = np.percentile(fit.stan_variable(\"q\"), [10.0, 50.0, 90.0], axis=0)\n",
    "q_percentiles.shape"
   ]
  },
  {
   "cell_type": "code",
   "execution_count": 16,
   "metadata": {},
   "outputs": [
    {
     "data": {
      "text/plain": [
       "Text(0, 0.5, 'q')"
      ]
     },
     "execution_count": 16,
     "metadata": {},
     "output_type": "execute_result"
    },
    {
     "data": {
      "image/png": "[encoded data removed]",
      "text/plain": [
       "<Figure size 576x432 with 1 Axes>"
      ]
     },
     "metadata": {
      "needs_background": "light"
     },
     "output_type": "display_data"
    }
   ],
   "source": [
    "# Plot score vs q (for weather = 'A' and 'A' = 0 only)\n",
    "\n",
    "df_tmp = df.sort_values(by=[\"Score\"])[[\"Weather\", \"A\"]]\n",
    "idx = df_tmp[(df_tmp[\"Weather\"] == 'A') & (df_tmp['A'] == 0)].index.values\n",
    "\n",
    "fig = plt.figure(figsize=(8, 6))\n",
    "ax = plt.subplot(111)\n",
    "\n",
    "ax.plot(df[\"Score\"][idx], df[\"Y\"][idx] + 0.1*np.random.randn(len(idx)), 'o', markersize=5, color=\"C0\")\n",
    "ax.plot(df[\"Score\"][idx], q_percentiles[1][idx], '.-', color=\"C1\")\n",
    "ax.fill_between(df[\"Score\"][idx], q_percentiles[0][idx], q_percentiles[2][idx], alpha=0.3, color=\"C1\")\n",
    "ax.set_xlabel(\"Score\")\n",
    "ax.set_ylabel(\"q\")"
   ]
  },
  {
   "cell_type": "code",
   "execution_count": 17,
   "metadata": {},
   "outputs": [
    {
     "data": {
      "image/png": "[encoded data removed]",
      "text/plain": [
       "<Figure size 1152x576 with 2 Axes>"
      ]
     },
     "metadata": {
      "needs_background": "light"
     },
     "output_type": "display_data"
    }
   ],
   "source": [
    "# prob vs. observation\n",
    "\n",
    "fig, axes = plt.subplots(nrows=1, ncols=2, figsize=(16, 8))\n",
    "\n",
    "ax = axes[0]\n",
    "sns.violinplot(x=q_percentiles[1], y=df[\"Y\"], color='white', linewidth=5, orient='h', ax=ax)\n",
    "ax.set_xlabel(\"q(median)\")\n",
    "\n",
    "ax = axes[1]\n",
    "sns.violinplot(x=q_percentiles[1], y=df[\"Y\"], color='white', linewidth=5, orient='h', ax=ax)\n",
    "sns.stripplot(x=q_percentiles[1], y=df[\"Y\"], hue=df[\"A\"], orient='h', ax=ax)\n",
    "ax.set_xlabel(\"q(median)\")\n",
    "\n",
    "plt.show()"
   ]
  },
  {
   "cell_type": "code",
   "execution_count": 18,
   "metadata": {},
   "outputs": [
    {
     "name": "stdout",
     "output_type": "stream",
     "text": [
      "ROC AUC Score : 0.6169931278583665\n"
     ]
    },
    {
     "data": {
      "image/png": "[encoded data removed]",
      "text/plain": [
       "<Figure size 432x432 with 1 Axes>"
      ]
     },
     "metadata": {
      "needs_background": "light"
     },
     "output_type": "display_data"
    }
   ],
   "source": [
    "# ROC curve : \n",
    "\n",
    "print(\"ROC AUC Score :\", roc_auc_score(df[\"Y\"].values, q_percentiles[1]))\n",
    "\n",
    "fpr, tpr, thresholds = roc_curve(df[\"Y\"].values, q_percentiles[1])\n",
    "fig = plt.figure(figsize=(6, 6))\n",
    "ax = fig.add_subplot(111)\n",
    "ax.plot(fpr, tpr)\n",
    "ax.plot([0,1], [0,1], 'k--')\n",
    "ax.set_aspect(\"equal\")\n",
    "ax.set_xlabel(\"False Positive rate\")\n",
    "ax.set_xlabel(\"True Positive rate\")\n",
    "plt.show()"
   ]
  }
 ],
 "metadata": {
  "kernelspec": {
   "display_name": "Python 3",
   "language": "python",
   "name": "python3"
  },
  "language_info": {
   "codemirror_mode": {
    "name": "ipython",
    "version": 3
   },
   "file_extension": ".py",
   "mimetype": "text/x-python",
   "name": "python",
   "nbconvert_exporter": "python",
   "pygments_lexer": "ipython3",
   "version": "3.8.2"
  }
 },
 "nbformat": 4,
 "nbformat_minor": 4
}
