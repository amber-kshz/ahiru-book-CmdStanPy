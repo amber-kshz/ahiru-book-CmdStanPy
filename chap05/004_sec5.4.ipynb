{
 "cells": [
  {
   "cell_type": "markdown",
   "metadata": {},
   "source": [
    "This model deals with the contents of Section 5.4 of the book."
   ]
  },
  {
   "cell_type": "code",
   "execution_count": 1,
   "metadata": {},
   "outputs": [],
   "source": [
    "import numpy as np\n",
    "import pandas as pd\n",
    "from cmdstanpy import CmdStanModel\n",
    "from matplotlib import pyplot as plt"
   ]
  },
  {
   "cell_type": "markdown",
   "metadata": {},
   "source": [
    "# Load data\n",
    "\n",
    "The data used here is the same as those used in `002_sec5.2.ipynb`."
   ]
  },
  {
   "cell_type": "code",
   "execution_count": 2,
   "metadata": {},
   "outputs": [
    {
     "name": "stdout",
     "output_type": "stream",
     "text": [
      "PersonID    50\n",
      "A           50\n",
      "Score       50\n",
      "M           50\n",
      "Y           50\n",
      "dtype: int64\n"
     ]
    },
    {
     "data": {
      "text/html": [
       "<div>\n",
       "<style scoped>\n",
       "    .dataframe tbody tr th:only-of-type {\n",
       "        vertical-align: middle;\n",
       "    }\n",
       "\n",
       "    .dataframe tbody tr th {\n",
       "        vertical-align: top;\n",
       "    }\n",
       "\n",
       "    .dataframe thead th {\n",
       "        text-align: right;\n",
       "    }\n",
       "</style>\n",
       "<table border=\"1\" class=\"dataframe\">\n",
       "  <thead>\n",
       "    <tr style=\"text-align: right;\">\n",
       "      <th></th>\n",
       "      <th>PersonID</th>\n",
       "      <th>A</th>\n",
       "      <th>Score</th>\n",
       "      <th>M</th>\n",
       "      <th>Y</th>\n",
       "    </tr>\n",
       "  </thead>\n",
       "  <tbody>\n",
       "    <tr>\n",
       "      <th>0</th>\n",
       "      <td>1</td>\n",
       "      <td>0</td>\n",
       "      <td>69</td>\n",
       "      <td>43</td>\n",
       "      <td>38</td>\n",
       "    </tr>\n",
       "    <tr>\n",
       "      <th>1</th>\n",
       "      <td>2</td>\n",
       "      <td>1</td>\n",
       "      <td>145</td>\n",
       "      <td>56</td>\n",
       "      <td>40</td>\n",
       "    </tr>\n",
       "    <tr>\n",
       "      <th>2</th>\n",
       "      <td>3</td>\n",
       "      <td>0</td>\n",
       "      <td>125</td>\n",
       "      <td>32</td>\n",
       "      <td>24</td>\n",
       "    </tr>\n",
       "    <tr>\n",
       "      <th>3</th>\n",
       "      <td>4</td>\n",
       "      <td>1</td>\n",
       "      <td>86</td>\n",
       "      <td>45</td>\n",
       "      <td>33</td>\n",
       "    </tr>\n",
       "    <tr>\n",
       "      <th>4</th>\n",
       "      <td>5</td>\n",
       "      <td>1</td>\n",
       "      <td>158</td>\n",
       "      <td>33</td>\n",
       "      <td>23</td>\n",
       "    </tr>\n",
       "  </tbody>\n",
       "</table>\n",
       "</div>"
      ],
      "text/plain": [
       "   PersonID  A  Score   M   Y\n",
       "0         1  0     69  43  38\n",
       "1         2  1    145  56  40\n",
       "2         3  0    125  32  24\n",
       "3         4  1     86  45  33\n",
       "4         5  1    158  33  23"
      ]
     },
     "execution_count": 2,
     "metadata": {},
     "output_type": "execute_result"
    }
   ],
   "source": [
    "df = pd.read_csv(\"./data/data-attendance-2.txt\")\n",
    "print(df.count())\n",
    "df.head(5)"
   ]
  },
  {
   "cell_type": "markdown",
   "metadata": {},
   "source": [
    "# Run Stan"
   ]
  },
  {
   "cell_type": "code",
   "execution_count": 3,
   "metadata": {},
   "outputs": [
    {
     "name": "stderr",
     "output_type": "stream",
     "text": [
      "INFO:cmdstanpy:found newer exe file, not recompiling\n",
      "INFO:cmdstanpy:compiled model file: /workdir/chap05/model/model5-6b\n"
     ]
    },
    {
     "name": "stdout",
     "output_type": "stream",
     "text": [
      "CmdStanModel: name=model5-6b\n",
      "\t stan_file=/workdir/chap05/model/model5-6b.stan\n",
      "\t exe_file=/workdir/chap05/model/model5-6b\n",
      "\t compiler_optons=stanc_options=None, cpp_options=None\n"
     ]
    }
   ],
   "source": [
    "model = CmdStanModel(stan_file=\"model/model5-6b.stan\")\n",
    "print(model)"
   ]
  },
  {
   "cell_type": "code",
   "execution_count": 4,
   "metadata": {},
   "outputs": [],
   "source": [
    "data = {\n",
    "    \"N\" : len(df),\n",
    "    \"A\" : df[\"A\"].values,\n",
    "    \"Score\" : df[\"Score\"].values/200,\n",
    "    \"M\" : df[\"M\"].values,\n",
    "}"
   ]
  },
  {
   "cell_type": "code",
   "execution_count": 5,
   "metadata": {},
   "outputs": [
    {
     "name": "stderr",
     "output_type": "stream",
     "text": [
      "INFO:cmdstanpy:start chain 1\n",
      "INFO:cmdstanpy:start chain 2\n",
      "INFO:cmdstanpy:start chain 3\n",
      "INFO:cmdstanpy:start chain 4\n",
      "INFO:cmdstanpy:finish chain 1\n",
      "INFO:cmdstanpy:finish chain 2\n",
      "INFO:cmdstanpy:finish chain 3\n",
      "INFO:cmdstanpy:finish chain 4\n"
     ]
    }
   ],
   "source": [
    "fit = model.sample(data=data)"
   ]
  },
  {
   "cell_type": "markdown",
   "metadata": {},
   "source": [
    "# Inspect the result"
   ]
  },
  {
   "cell_type": "code",
   "execution_count": 6,
   "metadata": {},
   "outputs": [
    {
     "name": "stdout",
     "output_type": "stream",
     "text": [
      "CmdStanMCMC: model=model5-6b chains=4['method=sample', 'algorithm=hmc', 'adapt', 'engaged=1']\n",
      " csv_files:\n",
      "\t/tmp/tmpkgj47vhr/model5-6b-202009220511-1-zb2mzp4q.csv\n",
      "\t/tmp/tmpkgj47vhr/model5-6b-202009220511-2-9kuasynj.csv\n",
      "\t/tmp/tmpkgj47vhr/model5-6b-202009220511-3-9d_id_bt.csv\n",
      "\t/tmp/tmpkgj47vhr/model5-6b-202009220511-4-b_lrh7pj.csv\n",
      " output_files:\n",
      "\t/tmp/tmpkgj47vhr/model5-6b-202009220511-1-zb2mzp4q-stdout.txt\n",
      "\t/tmp/tmpkgj47vhr/model5-6b-202009220511-2-9kuasynj-stdout.txt\n",
      "\t/tmp/tmpkgj47vhr/model5-6b-202009220511-3-9d_id_bt-stdout.txt\n",
      "\t/tmp/tmpkgj47vhr/model5-6b-202009220511-4-b_lrh7pj-stdout.txt\n"
     ]
    }
   ],
   "source": [
    "print(fit)"
   ]
  },
  {
   "cell_type": "code",
   "execution_count": 7,
   "metadata": {},
   "outputs": [
    {
     "name": "stdout",
     "output_type": "stream",
     "text": [
      "1000\n",
      "(1000, 4, 110)\n"
     ]
    }
   ],
   "source": [
    "print(fit.num_draws)\n",
    "print(fit.draws().shape)"
   ]
  },
  {
   "cell_type": "code",
   "execution_count": 8,
   "metadata": {},
   "outputs": [
    {
     "name": "stdout",
     "output_type": "stream",
     "text": [
      "b (4000, 3)\n",
      "lambda (4000, 50)\n",
      "m_pred (4000, 50)\n"
     ]
    }
   ],
   "source": [
    "for key, val in fit.stan_variables().items():\n",
    "    print(key, val.shape)"
   ]
  },
  {
   "cell_type": "code",
   "execution_count": 9,
   "metadata": {},
   "outputs": [
    {
     "data": {
      "text/html": [
       "<div>\n",
       "<style scoped>\n",
       "    .dataframe tbody tr th:only-of-type {\n",
       "        vertical-align: middle;\n",
       "    }\n",
       "\n",
       "    .dataframe tbody tr th {\n",
       "        vertical-align: top;\n",
       "    }\n",
       "\n",
       "    .dataframe thead th {\n",
       "        text-align: right;\n",
       "    }\n",
       "</style>\n",
       "<table border=\"1\" class=\"dataframe\">\n",
       "  <thead>\n",
       "    <tr style=\"text-align: right;\">\n",
       "      <th></th>\n",
       "      <th>Mean</th>\n",
       "      <th>MCSE</th>\n",
       "      <th>StdDev</th>\n",
       "      <th>5%</th>\n",
       "      <th>50%</th>\n",
       "      <th>95%</th>\n",
       "      <th>N_Eff</th>\n",
       "      <th>N_Eff/s</th>\n",
       "      <th>R_hat</th>\n",
       "    </tr>\n",
       "    <tr>\n",
       "      <th>name</th>\n",
       "      <th></th>\n",
       "      <th></th>\n",
       "      <th></th>\n",
       "      <th></th>\n",
       "      <th></th>\n",
       "      <th></th>\n",
       "      <th></th>\n",
       "      <th></th>\n",
       "      <th></th>\n",
       "    </tr>\n",
       "  </thead>\n",
       "  <tbody>\n",
       "    <tr>\n",
       "      <th>lp__</th>\n",
       "      <td>6896.50</td>\n",
       "      <td>0.035503</td>\n",
       "      <td>1.26321</td>\n",
       "      <td>6894.030</td>\n",
       "      <td>6896.82</td>\n",
       "      <td>6897.88</td>\n",
       "      <td>1265.96</td>\n",
       "      <td>1616.81</td>\n",
       "      <td>0.999799</td>\n",
       "    </tr>\n",
       "    <tr>\n",
       "      <th>b[1]</th>\n",
       "      <td>3.60</td>\n",
       "      <td>0.003100</td>\n",
       "      <td>0.09900</td>\n",
       "      <td>3.400</td>\n",
       "      <td>3.60</td>\n",
       "      <td>3.70</td>\n",
       "      <td>1026.00</td>\n",
       "      <td>1310.00</td>\n",
       "      <td>1.000000</td>\n",
       "    </tr>\n",
       "    <tr>\n",
       "      <th>b[2]</th>\n",
       "      <td>0.26</td>\n",
       "      <td>0.001100</td>\n",
       "      <td>0.04200</td>\n",
       "      <td>0.200</td>\n",
       "      <td>0.26</td>\n",
       "      <td>0.33</td>\n",
       "      <td>1448.00</td>\n",
       "      <td>1850.00</td>\n",
       "      <td>1.000000</td>\n",
       "    </tr>\n",
       "    <tr>\n",
       "      <th>b[3]</th>\n",
       "      <td>0.30</td>\n",
       "      <td>0.004800</td>\n",
       "      <td>0.16000</td>\n",
       "      <td>0.041</td>\n",
       "      <td>0.30</td>\n",
       "      <td>0.55</td>\n",
       "      <td>1047.00</td>\n",
       "      <td>1337.00</td>\n",
       "      <td>1.000000</td>\n",
       "    </tr>\n",
       "    <tr>\n",
       "      <th>lambda[1]</th>\n",
       "      <td>3.70</td>\n",
       "      <td>0.001500</td>\n",
       "      <td>0.05000</td>\n",
       "      <td>3.600</td>\n",
       "      <td>3.70</td>\n",
       "      <td>3.80</td>\n",
       "      <td>1113.00</td>\n",
       "      <td>1422.00</td>\n",
       "      <td>1.000000</td>\n",
       "    </tr>\n",
       "    <tr>\n",
       "      <th>...</th>\n",
       "      <td>...</td>\n",
       "      <td>...</td>\n",
       "      <td>...</td>\n",
       "      <td>...</td>\n",
       "      <td>...</td>\n",
       "      <td>...</td>\n",
       "      <td>...</td>\n",
       "      <td>...</td>\n",
       "      <td>...</td>\n",
       "    </tr>\n",
       "    <tr>\n",
       "      <th>m_pred[46]</th>\n",
       "      <td>42.00</td>\n",
       "      <td>0.100000</td>\n",
       "      <td>6.50000</td>\n",
       "      <td>32.000</td>\n",
       "      <td>42.00</td>\n",
       "      <td>53.00</td>\n",
       "      <td>3976.00</td>\n",
       "      <td>5078.00</td>\n",
       "      <td>1.000000</td>\n",
       "    </tr>\n",
       "    <tr>\n",
       "      <th>m_pred[47]</th>\n",
       "      <td>39.00</td>\n",
       "      <td>0.120000</td>\n",
       "      <td>6.60000</td>\n",
       "      <td>28.000</td>\n",
       "      <td>38.00</td>\n",
       "      <td>50.00</td>\n",
       "      <td>2866.00</td>\n",
       "      <td>3660.00</td>\n",
       "      <td>1.000000</td>\n",
       "    </tr>\n",
       "    <tr>\n",
       "      <th>m_pred[48]</th>\n",
       "      <td>44.00</td>\n",
       "      <td>0.110000</td>\n",
       "      <td>6.90000</td>\n",
       "      <td>34.000</td>\n",
       "      <td>44.00</td>\n",
       "      <td>56.00</td>\n",
       "      <td>3703.00</td>\n",
       "      <td>4730.00</td>\n",
       "      <td>1.000000</td>\n",
       "    </tr>\n",
       "    <tr>\n",
       "      <th>m_pred[49]</th>\n",
       "      <td>41.00</td>\n",
       "      <td>0.110000</td>\n",
       "      <td>6.60000</td>\n",
       "      <td>30.000</td>\n",
       "      <td>41.00</td>\n",
       "      <td>52.00</td>\n",
       "      <td>3512.00</td>\n",
       "      <td>4485.00</td>\n",
       "      <td>1.000000</td>\n",
       "    </tr>\n",
       "    <tr>\n",
       "      <th>m_pred[50]</th>\n",
       "      <td>54.00</td>\n",
       "      <td>0.130000</td>\n",
       "      <td>7.60000</td>\n",
       "      <td>42.000</td>\n",
       "      <td>54.00</td>\n",
       "      <td>67.00</td>\n",
       "      <td>3681.00</td>\n",
       "      <td>4701.00</td>\n",
       "      <td>1.000000</td>\n",
       "    </tr>\n",
       "  </tbody>\n",
       "</table>\n",
       "<p>104 rows × 9 columns</p>\n",
       "</div>"
      ],
      "text/plain": [
       "               Mean      MCSE   StdDev        5%      50%      95%    N_Eff  \\\n",
       "name                                                                          \n",
       "lp__        6896.50  0.035503  1.26321  6894.030  6896.82  6897.88  1265.96   \n",
       "b[1]           3.60  0.003100  0.09900     3.400     3.60     3.70  1026.00   \n",
       "b[2]           0.26  0.001100  0.04200     0.200     0.26     0.33  1448.00   \n",
       "b[3]           0.30  0.004800  0.16000     0.041     0.30     0.55  1047.00   \n",
       "lambda[1]      3.70  0.001500  0.05000     3.600     3.70     3.80  1113.00   \n",
       "...             ...       ...      ...       ...      ...      ...      ...   \n",
       "m_pred[46]    42.00  0.100000  6.50000    32.000    42.00    53.00  3976.00   \n",
       "m_pred[47]    39.00  0.120000  6.60000    28.000    38.00    50.00  2866.00   \n",
       "m_pred[48]    44.00  0.110000  6.90000    34.000    44.00    56.00  3703.00   \n",
       "m_pred[49]    41.00  0.110000  6.60000    30.000    41.00    52.00  3512.00   \n",
       "m_pred[50]    54.00  0.130000  7.60000    42.000    54.00    67.00  3681.00   \n",
       "\n",
       "            N_Eff/s     R_hat  \n",
       "name                           \n",
       "lp__        1616.81  0.999799  \n",
       "b[1]        1310.00  1.000000  \n",
       "b[2]        1850.00  1.000000  \n",
       "b[3]        1337.00  1.000000  \n",
       "lambda[1]   1422.00  1.000000  \n",
       "...             ...       ...  \n",
       "m_pred[46]  5078.00  1.000000  \n",
       "m_pred[47]  3660.00  1.000000  \n",
       "m_pred[48]  4730.00  1.000000  \n",
       "m_pred[49]  4485.00  1.000000  \n",
       "m_pred[50]  4701.00  1.000000  \n",
       "\n",
       "[104 rows x 9 columns]"
      ]
     },
     "execution_count": 9,
     "metadata": {},
     "output_type": "execute_result"
    }
   ],
   "source": [
    "fit_summary = fit.summary()\n",
    "fit_summary"
   ]
  },
  {
   "cell_type": "code",
   "execution_count": 10,
   "metadata": {},
   "outputs": [
    {
     "data": {
      "text/html": [
       "<div>\n",
       "<style scoped>\n",
       "    .dataframe tbody tr th:only-of-type {\n",
       "        vertical-align: middle;\n",
       "    }\n",
       "\n",
       "    .dataframe tbody tr th {\n",
       "        vertical-align: top;\n",
       "    }\n",
       "\n",
       "    .dataframe thead th {\n",
       "        text-align: right;\n",
       "    }\n",
       "</style>\n",
       "<table border=\"1\" class=\"dataframe\">\n",
       "  <thead>\n",
       "    <tr style=\"text-align: right;\">\n",
       "      <th></th>\n",
       "      <th>Mean</th>\n",
       "      <th>MCSE</th>\n",
       "      <th>StdDev</th>\n",
       "      <th>5%</th>\n",
       "      <th>50%</th>\n",
       "      <th>95%</th>\n",
       "      <th>N_Eff</th>\n",
       "      <th>N_Eff/s</th>\n",
       "      <th>R_hat</th>\n",
       "    </tr>\n",
       "    <tr>\n",
       "      <th>name</th>\n",
       "      <th></th>\n",
       "      <th></th>\n",
       "      <th></th>\n",
       "      <th></th>\n",
       "      <th></th>\n",
       "      <th></th>\n",
       "      <th></th>\n",
       "      <th></th>\n",
       "      <th></th>\n",
       "    </tr>\n",
       "  </thead>\n",
       "  <tbody>\n",
       "  </tbody>\n",
       "</table>\n",
       "</div>"
      ],
      "text/plain": [
       "Empty DataFrame\n",
       "Columns: [Mean, MCSE, StdDev, 5%, 50%, 95%, N_Eff, N_Eff/s, R_hat]\n",
       "Index: []"
      ]
     },
     "execution_count": 10,
     "metadata": {},
     "output_type": "execute_result"
    }
   ],
   "source": [
    "fit_summary[fit_summary[\"R_hat\"] >= 1.1]"
   ]
  },
  {
   "cell_type": "code",
   "execution_count": 11,
   "metadata": {},
   "outputs": [
    {
     "name": "stderr",
     "output_type": "stream",
     "text": [
      "INFO:cmdstanpy:Processing csv files: /tmp/tmpkgj47vhr/model5-6b-202009220511-1-zb2mzp4q.csv, /tmp/tmpkgj47vhr/model5-6b-202009220511-2-9kuasynj.csv, /tmp/tmpkgj47vhr/model5-6b-202009220511-3-9d_id_bt.csv, /tmp/tmpkgj47vhr/model5-6b-202009220511-4-b_lrh7pj.csv\n",
      "\n",
      "Checking sampler transitions treedepth.\n",
      "Treedepth satisfactory for all transitions.\n",
      "\n",
      "Checking sampler transitions for divergences.\n",
      "No divergent transitions found.\n",
      "\n",
      "Checking E-BFMI - sampler transitions HMC potential energy.\n",
      "E-BFMI satisfactory for all transitions.\n",
      "\n",
      "Effective sample size satisfactory.\n",
      "\n",
      "Split R-hat values satisfactory all parameters.\n",
      "\n",
      "Processing complete, no problems detected.\n"
     ]
    },
    {
     "name": "stdout",
     "output_type": "stream",
     "text": [
      "Processing csv files: /tmp/tmpkgj47vhr/model5-6b-202009220511-1-zb2mzp4q.csv, /tmp/tmpkgj47vhr/model5-6b-202009220511-2-9kuasynj.csv, /tmp/tmpkgj47vhr/model5-6b-202009220511-3-9d_id_bt.csv, /tmp/tmpkgj47vhr/model5-6b-202009220511-4-b_lrh7pj.csv\n",
      "\n",
      "Checking sampler transitions treedepth.\n",
      "Treedepth satisfactory for all transitions.\n",
      "\n",
      "Checking sampler transitions for divergences.\n",
      "No divergent transitions found.\n",
      "\n",
      "Checking E-BFMI - sampler transitions HMC potential energy.\n",
      "E-BFMI satisfactory for all transitions.\n",
      "\n",
      "Effective sample size satisfactory.\n",
      "\n",
      "Split R-hat values satisfactory all parameters.\n",
      "\n",
      "Processing complete, no problems detected.\n"
     ]
    }
   ],
   "source": [
    "print(fit.diagnose())"
   ]
  },
  {
   "cell_type": "markdown",
   "metadata": {},
   "source": [
    "# Plot the result\n",
    "\n",
    "This is the contents of exercise (5)."
   ]
  },
  {
   "cell_type": "code",
   "execution_count": 12,
   "metadata": {},
   "outputs": [],
   "source": [
    "m_pred_percentiles = np.percentile(fit.stan_variable(\"m_pred\"), [10.0, 50.0, 90.0], axis=0)"
   ]
  },
  {
   "cell_type": "code",
   "execution_count": 13,
   "metadata": {},
   "outputs": [
    {
     "data": {
      "text/plain": [
       "Text(0, 0.5, 'predicted')"
      ]
     },
     "execution_count": 13,
     "metadata": {},
     "output_type": "execute_result"
    },
    {
     "data": {
      "image/png": "[encoded data removed]",
      "text/plain": [
       "<Figure size 576x576 with 1 Axes>"
      ]
     },
     "metadata": {
      "needs_background": "light"
     },
     "output_type": "display_data"
    }
   ],
   "source": [
    "# exercise (5)\n",
    "# observation vs. prediction\n",
    "# Apparently, the model did not work well.\n",
    "\n",
    "fig = plt.figure(figsize=(8, 8))\n",
    "ax = fig.add_subplot(1, 1, 1)\n",
    "\n",
    "idx0 = np.where(df[\"A\"].values == 0)[0]\n",
    "idx1 = np.where(df[\"A\"].values == 1)[0]\n",
    "\n",
    "ax.errorbar(\n",
    "    x=df[\"M\"].values[idx0], \n",
    "    y=m_pred_percentiles[1][idx0], \n",
    "    yerr=np.abs(m_pred_percentiles[[0, 2]][:, idx0] - m_pred_percentiles[1][idx0]),\n",
    "    fmt='o',\n",
    "    markersize=10,\n",
    "    markeredgecolor='k',\n",
    "    label=\"A=0\"\n",
    ")\n",
    "\n",
    "ax.errorbar(\n",
    "    x=df[\"M\"].values[idx1], \n",
    "    y=m_pred_percentiles[1][idx1], \n",
    "    yerr=np.abs(m_pred_percentiles[[0, 2]][:, idx1] - m_pred_percentiles[1][idx1]),\n",
    "    fmt='^',\n",
    "    markersize=10,\n",
    "    markeredgecolor='k',\n",
    "    label=\"A=1\"\n",
    ")\n",
    "\n",
    "ax.legend()\n",
    "ax.plot([10.0, 90.0], [10.0, 90.0], 'k--')\n",
    "ax.set_aspect(\"equal\")\n",
    "ax.set_xlabel(\"observed\")\n",
    "ax.set_ylabel(\"predicted\")"
   ]
  }
 ],
 "metadata": {
  "kernelspec": {
   "display_name": "Python 3",
   "language": "python",
   "name": "python3"
  },
  "language_info": {
   "codemirror_mode": {
    "name": "ipython",
    "version": 3
   },
   "file_extension": ".py",
   "mimetype": "text/x-python",
   "name": "python",
   "nbconvert_exporter": "python",
   "pygments_lexer": "ipython3",
   "version": "3.8.2"
  }
 },
 "nbformat": 4,
 "nbformat_minor": 4
}
