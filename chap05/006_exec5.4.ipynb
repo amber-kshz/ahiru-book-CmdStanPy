{
 "cells": [
  {
   "cell_type": "markdown",
   "metadata": {},
   "source": [
    "NOTE : The execution of sampling took too much time, and I did not completely ran this notebook."
   ]
  },
  {
   "cell_type": "code",
   "execution_count": null,
   "metadata": {},
   "outputs": [],
   "source": [
    "import numpy as np\n",
    "import pandas as pd\n",
    "import seaborn as sns\n",
    "from cmdstanpy import CmdStanModel\n",
    "from matplotlib import pyplot as plt"
   ]
  },
  {
   "cell_type": "markdown",
   "metadata": {},
   "source": [
    "# Load and inspect data"
   ]
  },
  {
   "cell_type": "code",
   "execution_count": null,
   "metadata": {},
   "outputs": [],
   "source": [
    "df = pd.read_csv(\"data/data-attendance-3.txt\")\n",
    "print(len(df))\n",
    "print(df.dtypes)\n",
    "df.head(5)"
   ]
  },
  {
   "cell_type": "markdown",
   "metadata": {},
   "source": [
    "# Run Stan"
   ]
  },
  {
   "cell_type": "code",
   "execution_count": null,
   "metadata": {},
   "outputs": [],
   "source": [
    "model = CmdStanModel(stan_file=\"model/model5-5-exec4.stan\")\n",
    "print(model)"
   ]
  },
  {
   "cell_type": "code",
   "execution_count": null,
   "metadata": {},
   "outputs": [],
   "source": [
    "data = {\n",
    "    \"I\" : len(df),\n",
    "    \"A\" : df[\"A\"].values,\n",
    "    \"Score\" : df[\"Score\"].values/200,\n",
    "    \"Cloudy\" : [1 if x == \"B\" else 0 for x in df[\"Weather\"].values],\n",
    "    \"Rainy\" : [1 if x == \"C\" else 0 for x in df[\"Weather\"].values],\n",
    "    \"Y\" : df[\"Y\"].values\n",
    "}"
   ]
  },
  {
   "cell_type": "code",
   "execution_count": null,
   "metadata": {},
   "outputs": [],
   "source": [
    "fit = model.sample(data=data)"
   ]
  },
  {
   "cell_type": "markdown",
   "metadata": {},
   "source": [
    "# Inspect the result"
   ]
  },
  {
   "cell_type": "code",
   "execution_count": null,
   "metadata": {},
   "outputs": [],
   "source": [
    "print(type(fit))\n",
    "print(fit)"
   ]
  },
  {
   "cell_type": "code",
   "execution_count": null,
   "metadata": {},
   "outputs": [],
   "source": [
    "print(fit.num_draws)\n",
    "print(fit.draws().shape)"
   ]
  },
  {
   "cell_type": "code",
   "execution_count": null,
   "metadata": {},
   "outputs": [],
   "source": [
    "fit.stan_variables()"
   ]
  },
  {
   "cell_type": "code",
   "execution_count": null,
   "metadata": {},
   "outputs": [],
   "source": [
    "fit_summary = fit.summary()\n",
    "fit_summary"
   ]
  },
  {
   "cell_type": "code",
   "execution_count": null,
   "metadata": {},
   "outputs": [],
   "source": [
    "# Check the convergence\n",
    "fit_summary[fit_summary[\"R_hat\"] >= 1.1]"
   ]
  },
  {
   "cell_type": "code",
   "execution_count": null,
   "metadata": {},
   "outputs": [],
   "source": [
    "print(fit.diagnose())"
   ]
  },
  {
   "cell_type": "markdown",
   "metadata": {},
   "source": [
    "# Plot the result"
   ]
  },
  {
   "cell_type": "code",
   "execution_count": null,
   "metadata": {},
   "outputs": [],
   "source": [
    "q_percentiles = np.percentile(fit.stan_variable(\"q\"), [10.0, 50.0, 90.0], axis=0)\n",
    "q_percentiles.shape"
   ]
  },
  {
   "cell_type": "code",
   "execution_count": null,
   "metadata": {},
   "outputs": [],
   "source": [
    "# Plot score vs q (for weather = 'A' and 'A' = 0 only)\n",
    "\n",
    "df_tmp = df.sort_values(by=[\"Score\"])[[\"Weather\", \"A\"]]\n",
    "idx = df_tmp[(df_tmp[\"Weather\"] == 'A') & (df_tmp['A'] == 0)].index.values\n",
    "\n",
    "fig = plt.figure(figsize=(8, 6))\n",
    "ax = plt.subplot(111)\n",
    "\n",
    "ax.plot(df[\"Score\"][idx], df[\"Y\"][idx] + 0.1*np.random.randn(len(idx)), 'o', markersize=5, color=\"C0\")\n",
    "ax.plot(df[\"Score\"][idx], q_percentiles[1][idx], '.-', color=\"C1\")\n",
    "ax.fill_between(df[\"Score\"][idx], q_percentiles[0][idx], q_percentiles[2][idx], alpha=0.3, color=\"C1\")\n",
    "ax.set_xlabel(\"Score\")\n",
    "ax.set_ylabel(\"q\")"
   ]
  },
  {
   "cell_type": "code",
   "execution_count": null,
   "metadata": {},
   "outputs": [],
   "source": [
    "# prob vs. observation\n",
    "\n",
    "fig, axes = plt.subplots(nrows=1, ncols=2, figsize=(16, 8))\n",
    "\n",
    "ax = axes[0]\n",
    "sns.violinplot(x=q_percentiles[1], y=df[\"Y\"], color='white', linewidth=5, orient='h', ax=ax)\n",
    "ax.set_xlabel(\"q(median)\")\n",
    "\n",
    "ax = axes[1]\n",
    "sns.violinplot(x=q_percentiles[1], y=df[\"Y\"], color='white', linewidth=5, orient='h', ax=ax)\n",
    "sns.stripplot(x=q_percentiles[1], y=df[\"Y\"], hue=df[\"A\"], orient='h', ax=ax)\n",
    "ax.set_xlabel(\"q(median)\")\n",
    "\n",
    "plt.show()"
   ]
  },
  {
   "cell_type": "code",
   "execution_count": null,
   "metadata": {},
   "outputs": [],
   "source": [
    "# ROC curve : \n",
    "\n",
    "print(\"ROC AUC Score :\", roc_auc_score(df[\"Y\"].values, q_percentiles[1]))\n",
    "\n",
    "fpr, tpr, thresholds = roc_curve(df[\"Y\"].values, q_percentiles[1])\n",
    "fig = plt.figure(figsize=(6, 6))\n",
    "ax = fig.add_subplot(111)\n",
    "ax.plot(fpr, tpr)\n",
    "ax.plot([0,1], [0,1], 'k--')\n",
    "ax.set_aspect(\"equal\")\n",
    "ax.set_xlabel(\"False Positive rate\")\n",
    "ax.set_xlabel(\"True Positive rate\")\n",
    "plt.show()"
   ]
  }
 ],
 "metadata": {
  "kernelspec": {
   "display_name": "Python 3",
   "language": "python",
   "name": "python3"
  },
  "language_info": {
   "codemirror_mode": {
    "name": "ipython",
    "version": 3
   },
   "file_extension": ".py",
   "mimetype": "text/x-python",
   "name": "python",
   "nbconvert_exporter": "python",
   "pygments_lexer": "ipython3",
   "version": "3.8.2"
  }
 },
 "nbformat": 4,
 "nbformat_minor": 4
}
