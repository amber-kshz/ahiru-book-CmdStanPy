{
 "cells": [
  {
   "cell_type": "code",
   "execution_count": 1,
   "metadata": {},
   "outputs": [],
   "source": [
    "import numpy as np\n",
    "import pandas as pd\n",
    "from cmdstanpy import CmdStanModel\n",
    "from itertools import islice"
   ]
  },
  {
   "cell_type": "markdown",
   "metadata": {},
   "source": [
    "# Load data"
   ]
  },
  {
   "cell_type": "code",
   "execution_count": 2,
   "metadata": {},
   "outputs": [
    {
     "name": "stdout",
     "output_type": "stream",
     "text": [
      "6231\n"
     ]
    },
    {
     "data": {
      "text/html": [
       "<div>\n",
       "<style scoped>\n",
       "    .dataframe tbody tr th:only-of-type {\n",
       "        vertical-align: middle;\n",
       "    }\n",
       "\n",
       "    .dataframe tbody tr th {\n",
       "        vertical-align: top;\n",
       "    }\n",
       "\n",
       "    .dataframe thead th {\n",
       "        text-align: right;\n",
       "    }\n",
       "</style>\n",
       "<table border=\"1\" class=\"dataframe\">\n",
       "  <thead>\n",
       "    <tr style=\"text-align: right;\">\n",
       "      <th></th>\n",
       "      <th>Loser</th>\n",
       "      <th>Winner</th>\n",
       "    </tr>\n",
       "  </thead>\n",
       "  <tbody>\n",
       "    <tr>\n",
       "      <th>0</th>\n",
       "      <td>22</td>\n",
       "      <td>83</td>\n",
       "    </tr>\n",
       "    <tr>\n",
       "      <th>1</th>\n",
       "      <td>39</td>\n",
       "      <td>27</td>\n",
       "    </tr>\n",
       "    <tr>\n",
       "      <th>2</th>\n",
       "      <td>47</td>\n",
       "      <td>105</td>\n",
       "    </tr>\n",
       "    <tr>\n",
       "      <th>3</th>\n",
       "      <td>1</td>\n",
       "      <td>7</td>\n",
       "    </tr>\n",
       "    <tr>\n",
       "      <th>4</th>\n",
       "      <td>45</td>\n",
       "      <td>81</td>\n",
       "    </tr>\n",
       "  </tbody>\n",
       "</table>\n",
       "</div>"
      ],
      "text/plain": [
       "   Loser  Winner\n",
       "0     22      83\n",
       "1     39      27\n",
       "2     47     105\n",
       "3      1       7\n",
       "4     45      81"
      ]
     },
     "execution_count": 2,
     "metadata": {},
     "output_type": "execute_result"
    }
   ],
   "source": [
    "df = pd.read_csv(\"data/data-shogi-player.txt\")\n",
    "print(len(df))\n",
    "df.head(5)"
   ]
  },
  {
   "cell_type": "markdown",
   "metadata": {},
   "source": [
    "# Run Stan"
   ]
  },
  {
   "cell_type": "code",
   "execution_count": 3,
   "metadata": {},
   "outputs": [
    {
     "name": "stderr",
     "output_type": "stream",
     "text": [
      "INFO:cmdstanpy:found newer exe file, not recompiling\n",
      "INFO:cmdstanpy:compiled model file: /workdir/chap10/model/model10-4\n"
     ]
    }
   ],
   "source": [
    "model = CmdStanModel(stan_file=\"model/model10-4.stan\")"
   ]
  },
  {
   "cell_type": "code",
   "execution_count": 4,
   "metadata": {},
   "outputs": [
    {
     "data": {
      "text/plain": [
       "166"
      ]
     },
     "execution_count": 4,
     "metadata": {},
     "output_type": "execute_result"
    }
   ],
   "source": [
    "set_players = set().union(df[\"Winner\"].values).union(df[\"Loser\"].values)\n",
    "len(set_players)"
   ]
  },
  {
   "cell_type": "code",
   "execution_count": 5,
   "metadata": {},
   "outputs": [],
   "source": [
    "data = {\n",
    "    \"N\": len(set_players),\n",
    "    \"G\": len(df),\n",
    "    \"LW\": df.values\n",
    "}"
   ]
  },
  {
   "cell_type": "code",
   "execution_count": 6,
   "metadata": {
    "collapsed": true,
    "jupyter": {
     "outputs_hidden": true
    }
   },
   "outputs": [
    {
     "name": "stderr",
     "output_type": "stream",
     "text": [
      "Chain 1 - warmup:   0%|          | 0/1 [00:00<?, ?it/s]\n",
      "Chain 1 - warmup:   0%|          | 0/1 [00:00<?, ?it/s]\u001b[A\n",
      "\n",
      "Chain 3 - warmup:   0%|          | 0/1 [00:00<?, ?it/s]\u001b[A\u001b[A\n",
      "Chain 2 - warmup:   0%|          | 0/1 [00:00<?, ?it/s]\u001b[A\n",
      "\n",
      "\n",
      "Chain 4 - warmup:   0%|          | 0/1 [00:00<?, ?it/s]\u001b[A\u001b[A\u001b[A\n",
      "\n",
      "Chain 3 - warmup:   0%|          | 0/1 [00:00<?, ?it/s]\u001b[A\u001b[A\n",
      "\n",
      "\n",
      "Chain 4 - warmup:   0%|          | 0/1 [00:00<?, ?it/s]\u001b[A\u001b[A\u001b[A\n",
      "Chain 1 - warmup:   0%|          | 0/2000 [00:00<?, ?it/s]\u001b[A\n",
      "\n",
      "Chain 3 - warmup:   0%|          | 0/2000 [00:00<?, ?it/s]\u001b[A\u001b[A\n",
      "\n",
      "\n",
      "Chain 4 - warmup:   0%|          | 0/2000 [00:00<?, ?it/s]\u001b[A\u001b[A\u001b[A\n",
      "Chain 1 - warmup:   5%|▌         | 100/2000 [01:12<23:03,  1.37it/s]\u001b[A\n",
      "\n",
      "Chain 3 - warmup:   5%|▌         | 100/2000 [01:18<24:54,  1.27it/s]\u001b[A\u001b[A\n",
      "\n",
      "\n",
      "Chain 4 - warmup:   5%|▌         | 100/2000 [01:19<25:09,  1.26it/s]\u001b[A\u001b[A\u001b[A\n",
      "Chain 2 - warmup:  10%|█         | 200/2000 [02:18<20:57,  1.43it/s]\u001b[A\n",
      "\n",
      "Chain 1 - warmup:  10%|█         | 200/2000 [02:29<22:11,  1.35it/s]\u001b[A\u001b[A\n",
      "\n",
      "\n",
      "Chain 4 - warmup:  10%|█         | 200/2000 [02:33<23:23,  1.28it/s]\u001b[A\u001b[A\u001b[A\n",
      "Chain 2 - warmup:  15%|█▌        | 300/2000 [03:18<18:56,  1.50it/s]\u001b[A\n",
      "\n",
      "\n",
      "Chain 1 - warmup:  15%|█▌        | 300/2000 [03:38<20:32,  1.38it/s]\u001b[A\u001b[A\u001b[A\n",
      "\n",
      "Chain 3 - warmup:  15%|█▌        | 300/2000 [03:39<21:03,  1.35it/s]\u001b[A\u001b[A\n",
      "Chain 2 - warmup:  20%|██        | 400/2000 [04:14<16:54,  1.58it/s]\u001b[A\n",
      "\n",
      "Chain 1 - warmup:  20%|██        | 400/2000 [04:27<17:27,  1.53it/s]\u001b[A\u001b[A\n",
      "\n",
      "\n",
      "Chain 4 - warmup:  20%|██        | 400/2000 [04:28<17:48,  1.50it/s]\u001b[A\u001b[A\u001b[A\n",
      "Chain 2 - warmup:  25%|██▌       | 500/2000 [05:00<14:36,  1.71it/s]\u001b[A\n",
      "\n",
      "Chain 1 - warmup:  25%|██▌       | 500/2000 [05:18<15:15,  1.64it/s]\u001b[A\u001b[A\n",
      "\n",
      "\n",
      "Chain 4 - warmup:  25%|██▌       | 500/2000 [05:19<15:32,  1.61it/s]\u001b[A\u001b[A\u001b[A\n",
      "Chain 2 - warmup:  30%|███       | 600/2000 [05:47<12:49,  1.82it/s]\u001b[A\n",
      "\n",
      "Chain 1 - warmup:  30%|███       | 600/2000 [06:01<12:59,  1.79it/s]\u001b[A\u001b[A\n",
      "\n",
      "\n",
      "Chain 4 - warmup:  30%|███       | 600/2000 [06:05<13:20,  1.75it/s]\u001b[A\u001b[A\u001b[A\n",
      "Chain 2 - warmup:  35%|███▌      | 700/2000 [06:27<10:55,  1.98it/s]\u001b[A\n",
      "\n",
      "Chain 1 - warmup:  35%|███▌      | 700/2000 [06:42<11:05,  1.95it/s]\u001b[A\u001b[A\n",
      "\n",
      "\n",
      "Chain 4 - warmup:  35%|███▌      | 700/2000 [06:49<11:32,  1.88it/s]\u001b[A\u001b[A\u001b[A\n",
      "Chain 2 - warmup:  40%|████      | 800/2000 [07:11<09:40,  2.07it/s]\u001b[A\n",
      "\n",
      "Chain 1 - warmup:  40%|████      | 800/2000 [07:23<09:39,  2.07it/s]\u001b[A\u001b[A\n",
      "\n",
      "\n",
      "Chain 4 - warmup:  40%|████      | 800/2000 [07:34<10:10,  1.96it/s]\u001b[A\u001b[A\u001b[A\n",
      "Chain 2 - warmup:  45%|████▌     | 900/2000 [07:54<08:35,  2.14it/s]\u001b[A\n",
      "\n",
      "Chain 1 - warmup:  45%|████▌     | 900/2000 [08:11<08:47,  2.08it/s]\u001b[A\u001b[A\n",
      "\n",
      "\n",
      "Chain 4 - warmup:  45%|████▌     | 900/2000 [08:21<09:06,  2.01it/s]\u001b[A\u001b[A\u001b[A\n",
      "Chain 2 - warmup:  50%|█████     | 1000/2000 [08:43<07:54,  2.11it/s]\u001b[A\n",
      "Chain 2 - sample:  50%|█████     | 1000/2000 [08:43<07:54,  2.11it/s]\u001b[A\n",
      "Chain 2 - sample:  50%|█████     | 1001/2000 [08:43<08:11,  2.03it/s]\u001b[A\n",
      "\n",
      "Chain 3 - warmup:  50%|█████     | 1000/2000 [08:50<07:46,  2.14it/s]\u001b[A\u001b[A\n",
      "\n",
      "Chain 3 - sample:  50%|█████     | 1000/2000 [08:50<07:46,  2.14it/s]\u001b[A\u001b[A\n",
      "\n",
      "Chain 1 - sample:  50%|█████     | 1001/2000 [08:52<06:37,  2.51it/s]\u001b[A\u001b[A\n",
      "\n",
      "\n",
      "Chain 4 - warmup:  50%|█████     | 1000/2000 [09:09<08:11,  2.03it/s]\u001b[A\u001b[A\u001b[A\n",
      "\n",
      "\n",
      "Chain 4 - sample:  50%|█████     | 1000/2000 [09:09<08:11,  2.03it/s]\u001b[A\u001b[A\u001b[A\n",
      "\n",
      "\n",
      "Chain 4 - sample:  50%|█████     | 1001/2000 [09:09<08:09,  2.04it/s]\u001b[A\u001b[A\u001b[A\n",
      "Chain 2 - sample:  55%|█████▌    | 1100/2000 [09:35<07:30,  2.00it/s]\u001b[A\n",
      "\n",
      "Chain 1 - sample:  55%|█████▌    | 1100/2000 [09:44<06:32,  2.29it/s]\u001b[A\u001b[A\n",
      "\n",
      "\n",
      "Chain 4 - sample:  55%|█████▌    | 1100/2000 [10:02<07:30,  2.00it/s]\u001b[A\u001b[A\u001b[A\n",
      "Chain 2 - sample:  60%|██████    | 1200/2000 [10:27<06:44,  1.98it/s]\u001b[A\n",
      "\n",
      "Chain 1 - sample:  60%|██████    | 1200/2000 [10:35<06:06,  2.18it/s]\u001b[A\u001b[A\n",
      "\n",
      "\n",
      "Chain 4 - sample:  60%|██████    | 1200/2000 [10:52<06:41,  1.99it/s]\u001b[A\u001b[A\u001b[A\n",
      "Chain 2 - sample:  65%|██████▌   | 1300/2000 [11:21<06:01,  1.94it/s]\u001b[A\n",
      "\n",
      "Chain 1 - sample:  65%|██████▌   | 1300/2000 [11:29<05:38,  2.07it/s]\u001b[A\u001b[A\n",
      "\n",
      "\n",
      "Chain 4 - sample:  65%|██████▌   | 1300/2000 [11:45<05:57,  1.96it/s]\u001b[A\u001b[A\u001b[A\n",
      "Chain 2 - sample:  70%|███████   | 1400/2000 [12:13<05:10,  1.93it/s]\u001b[A\n",
      "\n",
      "Chain 1 - sample:  70%|███████   | 1400/2000 [12:21<04:56,  2.02it/s]\u001b[A\u001b[A\n",
      "\n",
      "\n",
      "Chain 4 - sample:  70%|███████   | 1400/2000 [12:37<05:08,  1.95it/s]\u001b[A\u001b[A\u001b[A\n",
      "Chain 2 - sample:  75%|███████▌  | 1500/2000 [13:06<04:20,  1.92it/s]\u001b[A\n",
      "\n",
      "Chain 1 - sample:  75%|███████▌  | 1500/2000 [13:15<04:13,  1.97it/s]\u001b[A\u001b[A\n",
      "\n",
      "\n",
      "Chain 4 - sample:  75%|███████▌  | 1500/2000 [13:30<04:19,  1.93it/s]\u001b[A\u001b[A\u001b[A\n",
      "Chain 2 - sample:  80%|████████  | 1600/2000 [13:59<03:30,  1.90it/s]\u001b[A\n",
      "\n",
      "Chain 1 - sample:  80%|████████  | 1600/2000 [14:08<03:25,  1.95it/s]\u001b[A\u001b[A\n",
      "\n",
      "\n",
      "Chain 4 - sample:  80%|████████  | 1600/2000 [14:22<03:27,  1.93it/s]\u001b[A\u001b[A\u001b[A\n",
      "\n",
      "Chain 3 - sample:  85%|████████▌ | 1700/2000 [14:51<02:32,  1.97it/s]\u001b[A\u001b[A\n",
      "Chain 1 - sample:  85%|████████▌ | 1700/2000 [14:59<02:33,  1.95it/s]\u001b[A\n",
      "\n",
      "\n",
      "Chain 4 - sample:  85%|████████▌ | 1700/2000 [15:12<02:34,  1.94it/s]\u001b[A\u001b[A\u001b[A\n",
      "\n",
      "Chain 3 - sample:  90%|█████████ | 1800/2000 [15:41<01:40,  1.98it/s]\u001b[A\u001b[A\n",
      "Chain 1 - sample:  90%|█████████ | 1800/2000 [15:49<01:42,  1.96it/s]\u001b[A\n",
      "\n",
      "\n",
      "Chain 4 - sample:  90%|█████████ | 1800/2000 [16:04<01:43,  1.94it/s]\u001b[A\u001b[A\u001b[A\n",
      "\n",
      "Chain 3 - sample:  95%|█████████▌| 1900/2000 [16:34<00:51,  1.95it/s]\u001b[A\u001b[A\n",
      "Chain 1 - sample:  95%|█████████▌| 1900/2000 [16:43<00:51,  1.93it/s]\u001b[A\n",
      "\n",
      "\n",
      "Chain 4 - sample:  95%|█████████▌| 1900/2000 [16:56<00:51,  1.94it/s]\u001b[A\u001b[A\u001b[A\n",
      "\n",
      "Chain 3 - sample: 100%|██████████| 2000/2000 [17:24<00:00,  1.97it/s]\u001b[A\u001b[A\n",
      "\n",
      "Chain 3 -   done: 100%|██████████| 2000/2000 [17:24<00:00,  1.97it/s]\u001b[A\u001b[A\n",
      "Chain 2 - sample: 100%|██████████| 2000/2000 [17:27<00:00,  1.92it/s]\u001b[A\n",
      "Chain 1 -   done: 100%|██████████| 2000/2000 [17:32<00:00,  1.97it/s]\u001b[A\n",
      "\n",
      "\n",
      "Chain 4 - sample: 100%|██████████| 2000/2000 [17:42<00:00,  2.00it/s]\u001b[A\u001b[A\u001b[A\n",
      "\n",
      "\n",
      "Chain 1 -   done: 100%|██████████| 2000/2000 [17:42<00:00,  1.88it/s]\u001b[A\u001b[A\u001b[A\n",
      "Chain 2 -   done: 100%|██████████| 2000/2000 [17:42<00:00,  1.88it/s]\n",
      "Chain 3 -   done: 100%|██████████| 2000/2000 [17:42<00:00,  1.88it/s]\n",
      "Chain 4 -   done: 100%|██████████| 2000/2000 [17:42<00:00,  1.88it/s]\n"
     ]
    }
   ],
   "source": [
    "fit = model.sample(data=data, show_progress=True)"
   ]
  },
  {
   "cell_type": "markdown",
   "metadata": {},
   "source": [
    "# Show result"
   ]
  },
  {
   "cell_type": "code",
   "execution_count": 7,
   "metadata": {},
   "outputs": [],
   "source": [
    "players = dict()\n",
    "with open(\"data/data-shogi-player-name.txt\") as f:\n",
    "    for line in islice(f, 1, None):\n",
    "        tmp = line.strip().split(\"\\t\")\n",
    "        players[int(tmp[2])] = tmp[1]"
   ]
  },
  {
   "cell_type": "code",
   "execution_count": 8,
   "metadata": {},
   "outputs": [],
   "source": [
    "pf = np.median(fit.stan_variable(\"mu\"), axis=0)\n",
    "s_pf = np.median(fit.stan_variable(\"s_pf\"), axis=0)"
   ]
  },
  {
   "cell_type": "code",
   "execution_count": 9,
   "metadata": {},
   "outputs": [
    {
     "name": "stdout",
     "output_type": "stream",
     "text": [
      "47 羽生善治 1.862235 0.8624324999999999\n",
      "105 渡辺明 1.61106 1.0237\n",
      "134 豊島将之 1.3299400000000001 1.00109\n",
      "78 行方尚史 1.2948499999999998 0.7822555\n",
      "65 郷田真隆 1.2757399999999999 0.977347\n",
      "130 糸谷哲郎 1.24915 1.202395\n",
      "52 佐藤康光 1.24294 0.9606975\n",
      "53 森内俊之 1.173005 1.23116\n",
      "77 久保利明 1.10779 0.875632\n",
      "59 屋敷伸之 1.092345 0.792592\n"
     ]
    }
   ],
   "source": [
    "for i in islice(np.argsort(-pf), 0, 10):\n",
    "    print(i+1, players[i+1], pf[i], s_pf[i])"
   ]
  },
  {
   "cell_type": "code",
   "execution_count": 10,
   "metadata": {},
   "outputs": [
    {
     "name": "stdout",
     "output_type": "stream",
     "text": [
      "155 藤森哲也 1.2828650000000001\n",
      "53 森内俊之 1.23116\n",
      "130 糸谷哲郎 1.202395\n",
      "86 松本佳介 1.201015\n",
      "99 山本真也 1.19232\n",
      "51 神崎健二 1.18268\n",
      "116 横山泰明 1.178245\n",
      "111 宮田敦史 1.17424\n",
      "71 深浦康市 1.1652\n",
      "60 藤原直哉 1.1396549999999999\n"
     ]
    }
   ],
   "source": [
    "for i in islice(np.argsort(-s_pf), 0, 10):\n",
    "    print(i+1, players[i+1], s_pf[i])"
   ]
  }
 ],
 "metadata": {
  "kernelspec": {
   "display_name": "Python 3",
   "language": "python",
   "name": "python3"
  },
  "language_info": {
   "codemirror_mode": {
    "name": "ipython",
    "version": 3
   },
   "file_extension": ".py",
   "mimetype": "text/x-python",
   "name": "python",
   "nbconvert_exporter": "python",
   "pygments_lexer": "ipython3",
   "version": "3.8.2"
  }
 },
 "nbformat": 4,
 "nbformat_minor": 4
}
