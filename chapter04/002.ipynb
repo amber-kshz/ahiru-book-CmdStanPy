{
 "cells": [
  {
   "cell_type": "markdown",
   "metadata": {},
   "source": [
    "This notebook deals with the contents in Section 4.4.12."
   ]
  },
  {
   "cell_type": "code",
   "execution_count": 1,
   "metadata": {},
   "outputs": [],
   "source": [
    "import matplotlib.pyplot as plt\n",
    "import numpy as np\n",
    "import pandas as pd\n",
    "from cmdstanpy import CmdStanModel"
   ]
  },
  {
   "cell_type": "markdown",
   "metadata": {},
   "source": [
    "# Load and show data"
   ]
  },
  {
   "cell_type": "code",
   "execution_count": 2,
   "metadata": {},
   "outputs": [
    {
     "name": "stdout",
     "output_type": "stream",
     "text": [
      "X    20\n",
      "Y    20\n",
      "dtype: int64\n"
     ]
    },
    {
     "data": {
      "text/html": [
       "<div>\n",
       "<style scoped>\n",
       "    .dataframe tbody tr th:only-of-type {\n",
       "        vertical-align: middle;\n",
       "    }\n",
       "\n",
       "    .dataframe tbody tr th {\n",
       "        vertical-align: top;\n",
       "    }\n",
       "\n",
       "    .dataframe thead th {\n",
       "        text-align: right;\n",
       "    }\n",
       "</style>\n",
       "<table border=\"1\" class=\"dataframe\">\n",
       "  <thead>\n",
       "    <tr style=\"text-align: right;\">\n",
       "      <th></th>\n",
       "      <th>X</th>\n",
       "      <th>Y</th>\n",
       "    </tr>\n",
       "  </thead>\n",
       "  <tbody>\n",
       "    <tr>\n",
       "      <th>0</th>\n",
       "      <td>24</td>\n",
       "      <td>472</td>\n",
       "    </tr>\n",
       "    <tr>\n",
       "      <th>1</th>\n",
       "      <td>24</td>\n",
       "      <td>403</td>\n",
       "    </tr>\n",
       "    <tr>\n",
       "      <th>2</th>\n",
       "      <td>26</td>\n",
       "      <td>454</td>\n",
       "    </tr>\n",
       "    <tr>\n",
       "      <th>3</th>\n",
       "      <td>32</td>\n",
       "      <td>575</td>\n",
       "    </tr>\n",
       "    <tr>\n",
       "      <th>4</th>\n",
       "      <td>33</td>\n",
       "      <td>546</td>\n",
       "    </tr>\n",
       "  </tbody>\n",
       "</table>\n",
       "</div>"
      ],
      "text/plain": [
       "    X    Y\n",
       "0  24  472\n",
       "1  24  403\n",
       "2  26  454\n",
       "3  32  575\n",
       "4  33  546"
      ]
     },
     "execution_count": 2,
     "metadata": {},
     "output_type": "execute_result"
    }
   ],
   "source": [
    "df = pd.read_csv(\"./data/data-salary.txt\")\n",
    "print(df.count())\n",
    "df.head(5)"
   ]
  },
  {
   "cell_type": "code",
   "execution_count": 3,
   "metadata": {},
   "outputs": [
    {
     "data": {
      "text/plain": [
       "[<matplotlib.lines.Line2D at 0x7f1caeb5d3a0>]"
      ]
     },
     "execution_count": 3,
     "metadata": {},
     "output_type": "execute_result"
    },
    {
     "data": {
      "image/png": "[encoded data removed]",
      "text/plain": [
       "<Figure size 432x288 with 1 Axes>"
      ]
     },
     "metadata": {
      "needs_background": "light"
     },
     "output_type": "display_data"
    }
   ],
   "source": [
    "# Fig 4.2\n",
    "plt.plot(df[\"X\"], df[\"Y\"], 'o')"
   ]
  },
  {
   "cell_type": "code",
   "execution_count": 4,
   "metadata": {},
   "outputs": [
    {
     "data": {
      "text/plain": [
       "array([23, 24, 25, 26, 27, 28, 29, 30, 31, 32, 33, 34, 35, 36, 37, 38, 39,\n",
       "       40, 41, 42, 43, 44, 45, 46, 47, 48, 49, 50, 51, 52, 53, 54, 55, 56,\n",
       "       57, 58, 59, 60])"
      ]
     },
     "execution_count": 4,
     "metadata": {},
     "output_type": "execute_result"
    }
   ],
   "source": [
    "X_new = np.arange(23, 61, 1)\n",
    "X_new"
   ]
  },
  {
   "cell_type": "markdown",
   "metadata": {},
   "source": [
    "# Run Stan"
   ]
  },
  {
   "cell_type": "code",
   "execution_count": 5,
   "metadata": {},
   "outputs": [
    {
     "name": "stderr",
     "output_type": "stream",
     "text": [
      "INFO:cmdstanpy:found newer exe file, not recompiling\n",
      "INFO:cmdstanpy:compiled model file: /workdir/chapter04/model/model4-4\n"
     ]
    },
    {
     "name": "stdout",
     "output_type": "stream",
     "text": [
      "CmdStanModel: name=model4-4\n",
      "\t stan_file=/workdir/chapter04/model/model4-4.stan\n",
      "\t exe_file=/workdir/chapter04/model/model4-4\n",
      "\t compiler_optons=stanc_options=None, cpp_options=None\n"
     ]
    }
   ],
   "source": [
    "model = CmdStanModel(stan_file=\"model/model4-4.stan\")\n",
    "print(model)"
   ]
  },
  {
   "cell_type": "code",
   "execution_count": 6,
   "metadata": {},
   "outputs": [],
   "source": [
    "data = {\n",
    "    \"N\": len(df),\n",
    "    \"X\": df[\"X\"].values,\n",
    "    \"Y\": df[\"Y\"].values,\n",
    "    \"N_new\": len(X_new), \n",
    "    \"X_new\": X_new\n",
    "}"
   ]
  },
  {
   "cell_type": "code",
   "execution_count": 7,
   "metadata": {},
   "outputs": [
    {
     "name": "stderr",
     "output_type": "stream",
     "text": [
      "INFO:cmdstanpy:start chain 1\n",
      "INFO:cmdstanpy:start chain 2\n",
      "INFO:cmdstanpy:start chain 3\n",
      "INFO:cmdstanpy:start chain 4\n",
      "INFO:cmdstanpy:finish chain 3\n",
      "INFO:cmdstanpy:finish chain 1\n",
      "INFO:cmdstanpy:finish chain 4\n",
      "INFO:cmdstanpy:finish chain 2\n"
     ]
    }
   ],
   "source": [
    "# sampling\n",
    "fit = model.sample(data=data)"
   ]
  },
  {
   "cell_type": "markdown",
   "metadata": {},
   "source": [
    "You can run a stan model whose model file does not contain `generated quantities` blocks, and then using another stan file with `generated quantities` block to generate quantities using `model.generate_quantities` method.\n",
    "\n",
    "See https://cmdstanpy.readthedocs.io/en/latest/generate_quantities.html for detail."
   ]
  },
  {
   "cell_type": "markdown",
   "metadata": {},
   "source": [
    "# Access the result"
   ]
  },
  {
   "cell_type": "code",
   "execution_count": 8,
   "metadata": {},
   "outputs": [
    {
     "data": {
      "text/plain": [
       "cmdstanpy.stanfit.CmdStanMCMC"
      ]
     },
     "execution_count": 8,
     "metadata": {},
     "output_type": "execute_result"
    }
   ],
   "source": [
    "type(fit)"
   ]
  },
  {
   "cell_type": "code",
   "execution_count": 9,
   "metadata": {},
   "outputs": [
    {
     "data": {
      "text/plain": [
       "CmdStanMCMC: model=model4-4 chains=4['method=sample', 'algorithm=hmc', 'adapt', 'engaged=1']\n",
       " csv_files:\n",
       "\t/tmp/tmp5sn9drph/model4-4-202010261232-1-8tvmgxeg.csv\n",
       "\t/tmp/tmp5sn9drph/model4-4-202010261232-2-p74mmtq4.csv\n",
       "\t/tmp/tmp5sn9drph/model4-4-202010261232-3-i7dwm_bk.csv\n",
       "\t/tmp/tmp5sn9drph/model4-4-202010261232-4-mufiko4x.csv\n",
       " output_files:\n",
       "\t/tmp/tmp5sn9drph/model4-4-202010261232-1-8tvmgxeg-stdout.txt\n",
       "\t/tmp/tmp5sn9drph/model4-4-202010261232-2-p74mmtq4-stdout.txt\n",
       "\t/tmp/tmp5sn9drph/model4-4-202010261232-3-i7dwm_bk-stdout.txt\n",
       "\t/tmp/tmp5sn9drph/model4-4-202010261232-4-mufiko4x-stdout.txt"
      ]
     },
     "execution_count": 9,
     "metadata": {},
     "output_type": "execute_result"
    }
   ],
   "source": [
    "fit"
   ]
  },
  {
   "cell_type": "code",
   "execution_count": 10,
   "metadata": {},
   "outputs": [
    {
     "name": "stdout",
     "output_type": "stream",
     "text": [
      "4\n",
      "[1, 2, 3, 4]\n"
     ]
    }
   ],
   "source": [
    "print(fit.chains)\n",
    "print(fit.chain_ids)"
   ]
  },
  {
   "cell_type": "code",
   "execution_count": 11,
   "metadata": {},
   "outputs": [
    {
     "name": "stdout",
     "output_type": "stream",
     "text": [
      "1000\n",
      "(1000, 4, 106)\n"
     ]
    }
   ],
   "source": [
    "print(fit.num_draws)\n",
    "print(fit.draws().shape)"
   ]
  },
  {
   "cell_type": "code",
   "execution_count": 12,
   "metadata": {},
   "outputs": [
    {
     "name": "stdout",
     "output_type": "stream",
     "text": [
      "('lp__', 'accept_stat__', 'stepsize__', 'treedepth__', 'n_leapfrog__', 'divergent__', 'energy__', 'a', 'b', 'sigma', 'y_base.1', 'y_base.2', 'y_base.3', 'y_base.4', 'y_base.5', 'y_base.6', 'y_base.7', 'y_base.8', 'y_base.9', 'y_base.10', 'y_base.11', 'y_base.12', 'y_base.13', 'y_base.14', 'y_base.15', 'y_base.16', 'y_base.17', 'y_base.18', 'y_base.19', 'y_base.20', 'y_base_new.1', 'y_base_new.2', 'y_base_new.3', 'y_base_new.4', 'y_base_new.5', 'y_base_new.6', 'y_base_new.7', 'y_base_new.8', 'y_base_new.9', 'y_base_new.10', 'y_base_new.11', 'y_base_new.12', 'y_base_new.13', 'y_base_new.14', 'y_base_new.15', 'y_base_new.16', 'y_base_new.17', 'y_base_new.18', 'y_base_new.19', 'y_base_new.20', 'y_base_new.21', 'y_base_new.22', 'y_base_new.23', 'y_base_new.24', 'y_base_new.25', 'y_base_new.26', 'y_base_new.27', 'y_base_new.28', 'y_base_new.29', 'y_base_new.30', 'y_base_new.31', 'y_base_new.32', 'y_base_new.33', 'y_base_new.34', 'y_base_new.35', 'y_base_new.36', 'y_base_new.37', 'y_base_new.38', 'y_new.1', 'y_new.2', 'y_new.3', 'y_new.4', 'y_new.5', 'y_new.6', 'y_new.7', 'y_new.8', 'y_new.9', 'y_new.10', 'y_new.11', 'y_new.12', 'y_new.13', 'y_new.14', 'y_new.15', 'y_new.16', 'y_new.17', 'y_new.18', 'y_new.19', 'y_new.20', 'y_new.21', 'y_new.22', 'y_new.23', 'y_new.24', 'y_new.25', 'y_new.26', 'y_new.27', 'y_new.28', 'y_new.29', 'y_new.30', 'y_new.31', 'y_new.32', 'y_new.33', 'y_new.34', 'y_new.35', 'y_new.36', 'y_new.37', 'y_new.38')\n"
     ]
    }
   ],
   "source": [
    "print(fit.column_names)"
   ]
  },
  {
   "cell_type": "code",
   "execution_count": 13,
   "metadata": {},
   "outputs": [
    {
     "data": {
      "text/plain": [
       "{'a': array([-211.16  ,  -30.7859, -107.537 , ...,  -59.4904,  -42.1426,\n",
       "         -74.8148]),\n",
       " 'b': array([24.009 , 20.2563, 21.919 , ..., 20.1804, 20.5559, 20.542 ]),\n",
       " 'sigma': array([ 77.5687, 106.752 ,  64.4804, ...,  74.4298,  76.9878,  82.4268]),\n",
       " 'y_base': array([[ 365.056,  365.056,  413.073, ..., 1181.36 , 1205.37 , 1205.37 ],\n",
       "        [ 455.365,  455.365,  495.878, ..., 1144.08 , 1164.34 , 1164.34 ],\n",
       "        [ 418.519,  418.519,  462.357, ..., 1163.76 , 1185.68 , 1185.68 ],\n",
       "        ...,\n",
       "        [ 424.84 ,  424.84 ,  465.201, ..., 1110.98 , 1131.16 , 1131.16 ],\n",
       "        [ 451.198,  451.198,  492.31 , ..., 1150.1  , 1170.65 , 1170.65 ],\n",
       "        [ 418.193,  418.193,  459.277, ..., 1116.62 , 1137.16 , 1137.16 ]]),\n",
       " 'y_base_new': array([[ 341.047,  365.056,  389.064, ..., 1181.36 , 1205.37 , 1229.38 ],\n",
       "        [ 435.109,  455.365,  475.622, ..., 1144.08 , 1164.34 , 1184.59 ],\n",
       "        [ 396.6  ,  418.519,  440.438, ..., 1163.76 , 1185.68 , 1207.6  ],\n",
       "        ...,\n",
       "        [ 404.66 ,  424.84 ,  445.021, ..., 1110.98 , 1131.16 , 1151.34 ],\n",
       "        [ 430.642,  451.198,  471.754, ..., 1150.1  , 1170.65 , 1191.21 ],\n",
       "        [ 397.651,  418.193,  438.735, ..., 1116.62 , 1137.16 , 1157.7  ]]),\n",
       " 'y_new': array([[ 414.398,  389.499,  452.644, ..., 1179.12 , 1265.59 , 1329.32 ],\n",
       "        [ 281.515,  618.574,  681.76 , ..., 1098.66 , 1302.02 , 1125.16 ],\n",
       "        [ 441.819,  335.095,  424.034, ..., 1099.75 , 1282.41 , 1268.3  ],\n",
       "        ...,\n",
       "        [ 467.435,  344.177,  529.213, ..., 1134.24 , 1149.08 , 1124.05 ],\n",
       "        [ 475.542,  527.127,  514.714, ..., 1162.36 , 1192.43 , 1110.41 ],\n",
       "        [ 303.426,  492.431,  566.771, ..., 1136.58 , 1001.08 , 1245.86 ]])}"
      ]
     },
     "execution_count": 13,
     "metadata": {},
     "output_type": "execute_result"
    }
   ],
   "source": [
    "fit.stan_variables()"
   ]
  },
  {
   "cell_type": "code",
   "execution_count": 14,
   "metadata": {},
   "outputs": [
    {
     "data": {
      "text/html": [
       "<div>\n",
       "<style scoped>\n",
       "    .dataframe tbody tr th:only-of-type {\n",
       "        vertical-align: middle;\n",
       "    }\n",
       "\n",
       "    .dataframe tbody tr th {\n",
       "        vertical-align: top;\n",
       "    }\n",
       "\n",
       "    .dataframe thead th {\n",
       "        text-align: right;\n",
       "    }\n",
       "</style>\n",
       "<table border=\"1\" class=\"dataframe\">\n",
       "  <thead>\n",
       "    <tr style=\"text-align: right;\">\n",
       "      <th></th>\n",
       "      <th>Mean</th>\n",
       "      <th>MCSE</th>\n",
       "      <th>StdDev</th>\n",
       "      <th>5%</th>\n",
       "      <th>50%</th>\n",
       "      <th>95%</th>\n",
       "      <th>N_Eff</th>\n",
       "      <th>N_Eff/s</th>\n",
       "      <th>R_hat</th>\n",
       "    </tr>\n",
       "    <tr>\n",
       "      <th>name</th>\n",
       "      <th></th>\n",
       "      <th></th>\n",
       "      <th></th>\n",
       "      <th></th>\n",
       "      <th></th>\n",
       "      <th></th>\n",
       "      <th></th>\n",
       "      <th></th>\n",
       "      <th></th>\n",
       "    </tr>\n",
       "  </thead>\n",
       "  <tbody>\n",
       "    <tr>\n",
       "      <th>lp__</th>\n",
       "      <td>-93.5867</td>\n",
       "      <td>0.032714</td>\n",
       "      <td>1.23794</td>\n",
       "      <td>-96.0456</td>\n",
       "      <td>-93.2727</td>\n",
       "      <td>-92.21240</td>\n",
       "      <td>1431.96</td>\n",
       "      <td>2481.73</td>\n",
       "      <td>1.00038</td>\n",
       "    </tr>\n",
       "    <tr>\n",
       "      <th>a</th>\n",
       "      <td>-118.9400</td>\n",
       "      <td>2.120300</td>\n",
       "      <td>73.32010</td>\n",
       "      <td>-236.9870</td>\n",
       "      <td>-121.4770</td>\n",
       "      <td>5.87904</td>\n",
       "      <td>1195.78</td>\n",
       "      <td>2072.41</td>\n",
       "      <td>1.00306</td>\n",
       "    </tr>\n",
       "    <tr>\n",
       "      <th>b</th>\n",
       "      <td>21.8890</td>\n",
       "      <td>0.047019</td>\n",
       "      <td>1.63689</td>\n",
       "      <td>19.1082</td>\n",
       "      <td>21.9190</td>\n",
       "      <td>24.59290</td>\n",
       "      <td>1211.98</td>\n",
       "      <td>2100.48</td>\n",
       "      <td>1.00342</td>\n",
       "    </tr>\n",
       "    <tr>\n",
       "      <th>sigma</th>\n",
       "      <td>85.1907</td>\n",
       "      <td>0.365158</td>\n",
       "      <td>15.04430</td>\n",
       "      <td>64.1720</td>\n",
       "      <td>83.1215</td>\n",
       "      <td>113.26200</td>\n",
       "      <td>1697.40</td>\n",
       "      <td>2941.77</td>\n",
       "      <td>1.00152</td>\n",
       "    </tr>\n",
       "    <tr>\n",
       "      <th>y_base[1]</th>\n",
       "      <td>406.0000</td>\n",
       "      <td>1.000000</td>\n",
       "      <td>37.00000</td>\n",
       "      <td>346.0000</td>\n",
       "      <td>406.0000</td>\n",
       "      <td>468.00000</td>\n",
       "      <td>1315.00</td>\n",
       "      <td>2279.00</td>\n",
       "      <td>1.00000</td>\n",
       "    </tr>\n",
       "    <tr>\n",
       "      <th>...</th>\n",
       "      <td>...</td>\n",
       "      <td>...</td>\n",
       "      <td>...</td>\n",
       "      <td>...</td>\n",
       "      <td>...</td>\n",
       "      <td>...</td>\n",
       "      <td>...</td>\n",
       "      <td>...</td>\n",
       "      <td>...</td>\n",
       "    </tr>\n",
       "    <tr>\n",
       "      <th>y_new[34]</th>\n",
       "      <td>1108.0000</td>\n",
       "      <td>1.400000</td>\n",
       "      <td>90.00000</td>\n",
       "      <td>961.0000</td>\n",
       "      <td>1108.0000</td>\n",
       "      <td>1256.00000</td>\n",
       "      <td>4012.00</td>\n",
       "      <td>6953.00</td>\n",
       "      <td>1.00000</td>\n",
       "    </tr>\n",
       "    <tr>\n",
       "      <th>y_new[35]</th>\n",
       "      <td>1129.0000</td>\n",
       "      <td>1.600000</td>\n",
       "      <td>92.00000</td>\n",
       "      <td>979.0000</td>\n",
       "      <td>1128.0000</td>\n",
       "      <td>1280.00000</td>\n",
       "      <td>3424.00</td>\n",
       "      <td>5934.00</td>\n",
       "      <td>1.00000</td>\n",
       "    </tr>\n",
       "    <tr>\n",
       "      <th>y_new[36]</th>\n",
       "      <td>1151.0000</td>\n",
       "      <td>1.600000</td>\n",
       "      <td>93.00000</td>\n",
       "      <td>1004.0000</td>\n",
       "      <td>1149.0000</td>\n",
       "      <td>1309.00000</td>\n",
       "      <td>3532.00</td>\n",
       "      <td>6120.00</td>\n",
       "      <td>1.00000</td>\n",
       "    </tr>\n",
       "    <tr>\n",
       "      <th>y_new[37]</th>\n",
       "      <td>1171.0000</td>\n",
       "      <td>1.600000</td>\n",
       "      <td>93.00000</td>\n",
       "      <td>1017.0000</td>\n",
       "      <td>1172.0000</td>\n",
       "      <td>1325.00000</td>\n",
       "      <td>3521.00</td>\n",
       "      <td>6103.00</td>\n",
       "      <td>1.00000</td>\n",
       "    </tr>\n",
       "    <tr>\n",
       "      <th>y_new[38]</th>\n",
       "      <td>1196.0000</td>\n",
       "      <td>1.600000</td>\n",
       "      <td>93.00000</td>\n",
       "      <td>1047.0000</td>\n",
       "      <td>1199.0000</td>\n",
       "      <td>1346.00000</td>\n",
       "      <td>3584.00</td>\n",
       "      <td>6211.00</td>\n",
       "      <td>1.00000</td>\n",
       "    </tr>\n",
       "  </tbody>\n",
       "</table>\n",
       "<p>100 rows × 9 columns</p>\n",
       "</div>"
      ],
      "text/plain": [
       "                Mean      MCSE    StdDev         5%        50%         95%  \\\n",
       "name                                                                         \n",
       "lp__        -93.5867  0.032714   1.23794   -96.0456   -93.2727   -92.21240   \n",
       "a          -118.9400  2.120300  73.32010  -236.9870  -121.4770     5.87904   \n",
       "b            21.8890  0.047019   1.63689    19.1082    21.9190    24.59290   \n",
       "sigma        85.1907  0.365158  15.04430    64.1720    83.1215   113.26200   \n",
       "y_base[1]   406.0000  1.000000  37.00000   346.0000   406.0000   468.00000   \n",
       "...              ...       ...       ...        ...        ...         ...   \n",
       "y_new[34]  1108.0000  1.400000  90.00000   961.0000  1108.0000  1256.00000   \n",
       "y_new[35]  1129.0000  1.600000  92.00000   979.0000  1128.0000  1280.00000   \n",
       "y_new[36]  1151.0000  1.600000  93.00000  1004.0000  1149.0000  1309.00000   \n",
       "y_new[37]  1171.0000  1.600000  93.00000  1017.0000  1172.0000  1325.00000   \n",
       "y_new[38]  1196.0000  1.600000  93.00000  1047.0000  1199.0000  1346.00000   \n",
       "\n",
       "             N_Eff  N_Eff/s    R_hat  \n",
       "name                                  \n",
       "lp__       1431.96  2481.73  1.00038  \n",
       "a          1195.78  2072.41  1.00306  \n",
       "b          1211.98  2100.48  1.00342  \n",
       "sigma      1697.40  2941.77  1.00152  \n",
       "y_base[1]  1315.00  2279.00  1.00000  \n",
       "...            ...      ...      ...  \n",
       "y_new[34]  4012.00  6953.00  1.00000  \n",
       "y_new[35]  3424.00  5934.00  1.00000  \n",
       "y_new[36]  3532.00  6120.00  1.00000  \n",
       "y_new[37]  3521.00  6103.00  1.00000  \n",
       "y_new[38]  3584.00  6211.00  1.00000  \n",
       "\n",
       "[100 rows x 9 columns]"
      ]
     },
     "execution_count": 14,
     "metadata": {},
     "output_type": "execute_result"
    }
   ],
   "source": [
    "fit.summary()"
   ]
  },
  {
   "cell_type": "markdown",
   "metadata": {},
   "source": [
    "# Diagnostics"
   ]
  },
  {
   "cell_type": "code",
   "execution_count": 15,
   "metadata": {},
   "outputs": [
    {
     "name": "stderr",
     "output_type": "stream",
     "text": [
      "INFO:cmdstanpy:Processing csv files: /tmp/tmp5sn9drph/model4-4-202010261232-1-8tvmgxeg.csv, /tmp/tmp5sn9drph/model4-4-202010261232-2-p74mmtq4.csv, /tmp/tmp5sn9drph/model4-4-202010261232-3-i7dwm_bk.csv, /tmp/tmp5sn9drph/model4-4-202010261232-4-mufiko4x.csv\n",
      "\n",
      "Checking sampler transitions treedepth.\n",
      "Treedepth satisfactory for all transitions.\n",
      "\n",
      "Checking sampler transitions for divergences.\n",
      "No divergent transitions found.\n",
      "\n",
      "Checking E-BFMI - sampler transitions HMC potential energy.\n",
      "E-BFMI satisfactory for all transitions.\n",
      "\n",
      "Effective sample size satisfactory.\n",
      "\n",
      "Split R-hat values satisfactory all parameters.\n",
      "\n",
      "Processing complete, no problems detected.\n"
     ]
    },
    {
     "name": "stdout",
     "output_type": "stream",
     "text": [
      "Processing csv files: /tmp/tmp5sn9drph/model4-4-202010261232-1-8tvmgxeg.csv, /tmp/tmp5sn9drph/model4-4-202010261232-2-p74mmtq4.csv, /tmp/tmp5sn9drph/model4-4-202010261232-3-i7dwm_bk.csv, /tmp/tmp5sn9drph/model4-4-202010261232-4-mufiko4x.csv\n",
      "\n",
      "Checking sampler transitions treedepth.\n",
      "Treedepth satisfactory for all transitions.\n",
      "\n",
      "Checking sampler transitions for divergences.\n",
      "No divergent transitions found.\n",
      "\n",
      "Checking E-BFMI - sampler transitions HMC potential energy.\n",
      "E-BFMI satisfactory for all transitions.\n",
      "\n",
      "Effective sample size satisfactory.\n",
      "\n",
      "Split R-hat values satisfactory all parameters.\n",
      "\n",
      "Processing complete, no problems detected.\n"
     ]
    }
   ],
   "source": [
    "print(fit.diagnose())"
   ]
  },
  {
   "cell_type": "markdown",
   "metadata": {},
   "source": [
    "# Predictive distribution\n",
    "\n",
    "Manually calculate predictive distribution from posterior samples"
   ]
  },
  {
   "cell_type": "code",
   "execution_count": 16,
   "metadata": {},
   "outputs": [
    {
     "name": "stdout",
     "output_type": "stream",
     "text": [
      "a (4000,)\n",
      "b (4000,)\n",
      "sigma (4000,)\n",
      "y_base (4000, 20)\n",
      "y_base_new (4000, 38)\n",
      "y_new (4000, 38)\n"
     ]
    }
   ],
   "source": [
    "for key, val in fit.stan_variables().items():\n",
    "    print(key, val.shape)"
   ]
  },
  {
   "cell_type": "code",
   "execution_count": 17,
   "metadata": {},
   "outputs": [
    {
     "data": {
      "text/plain": [
       "((5, 38), (5, 38))"
      ]
     },
     "execution_count": 17,
     "metadata": {},
     "output_type": "execute_result"
    }
   ],
   "source": [
    "y_base_new_percentiles = np.percentile(fit.stan_variable(\"y_base_new\"), [2.5, 25.0, 50.0, 75.0, 97.5], axis=0)\n",
    "y_new_percentiles = np.percentile(fit.stan_variable(\"y_new\"), [2.5, 25.0, 50.0, 75.0, 97.5], axis=0)\n",
    "\n",
    "y_base_new_percentiles.shape, y_new_percentiles.shape"
   ]
  },
  {
   "cell_type": "code",
   "execution_count": 18,
   "metadata": {},
   "outputs": [
    {
     "data": {
      "image/png": "[encoded data removed]",
      "text/plain": [
       "<Figure size 1152x432 with 2 Axes>"
      ]
     },
     "metadata": {
      "needs_background": "light"
     },
     "output_type": "display_data"
    }
   ],
   "source": [
    "# Fig 4.8\n",
    "fig, axes = plt.subplots(nrows=1, ncols=2, figsize=(16, 6))\n",
    "\n",
    "ax = axes[0]\n",
    "ax.plot(df[\"X\"], df[\"Y\"], \"o\")\n",
    "ax.fill_between(X_new, y_base_new_percentiles[0], y_base_new_percentiles[4], facecolor=\"C1\", alpha=0.1)\n",
    "ax.fill_between(X_new, y_base_new_percentiles[1], y_base_new_percentiles[3], facecolor=\"C1\", alpha=0.3)\n",
    "ax.plot(X_new, y_base_new_percentiles[2], color=\"C1\", linewidth=3)\n",
    "ax.set_title(\"y_base\")\n",
    "\n",
    "ax = axes[1]\n",
    "ax.plot(df[\"X\"], df[\"Y\"], \"o\")\n",
    "ax.fill_between(X_new, y_new_percentiles[0], y_new_percentiles[4], facecolor='C1', alpha=0.1)\n",
    "ax.fill_between(X_new, y_new_percentiles[1], y_new_percentiles[3], facecolor='C1', alpha=0.3)\n",
    "ax.plot(X_new, y_new_percentiles[2], color=\"C1\", linewidth=3)\n",
    "ax.set_title(\"y\")\n",
    "fig.show()"
   ]
  }
 ],
 "metadata": {
  "kernelspec": {
   "display_name": "Python 3",
   "language": "python",
   "name": "python3"
  },
  "language_info": {
   "codemirror_mode": {
    "name": "ipython",
    "version": 3
   },
   "file_extension": ".py",
   "mimetype": "text/x-python",
   "name": "python",
   "nbconvert_exporter": "python",
   "pygments_lexer": "ipython3",
   "version": "3.8.5"
  }
 },
 "nbformat": 4,
 "nbformat_minor": 4
}
