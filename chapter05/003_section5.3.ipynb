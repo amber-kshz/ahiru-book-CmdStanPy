{
 "cells": [
  {
   "cell_type": "markdown",
   "metadata": {},
   "source": [
    "This notebook deals with the contents of Section 5.3 of the book."
   ]
  },
  {
   "cell_type": "code",
   "execution_count": 1,
   "metadata": {},
   "outputs": [],
   "source": [
    "import numpy as np\n",
    "import pandas as pd\n",
    "import seaborn as sns\n",
    "from cmdstanpy import CmdStanModel\n",
    "from matplotlib import pyplot as plt\n",
    "from sklearn.metrics import roc_curve, roc_auc_score"
   ]
  },
  {
   "cell_type": "markdown",
   "metadata": {},
   "source": [
    "# Load and inspect data"
   ]
  },
  {
   "cell_type": "code",
   "execution_count": 2,
   "metadata": {},
   "outputs": [
    {
     "name": "stdout",
     "output_type": "stream",
     "text": [
      "2396\n",
      "PersonID     int64\n",
      "A            int64\n",
      "Score        int64\n",
      "Weather     object\n",
      "Y            int64\n",
      "dtype: object\n"
     ]
    },
    {
     "data": {
      "text/html": [
       "<div>\n",
       "<style scoped>\n",
       "    .dataframe tbody tr th:only-of-type {\n",
       "        vertical-align: middle;\n",
       "    }\n",
       "\n",
       "    .dataframe tbody tr th {\n",
       "        vertical-align: top;\n",
       "    }\n",
       "\n",
       "    .dataframe thead th {\n",
       "        text-align: right;\n",
       "    }\n",
       "</style>\n",
       "<table border=\"1\" class=\"dataframe\">\n",
       "  <thead>\n",
       "    <tr style=\"text-align: right;\">\n",
       "      <th></th>\n",
       "      <th>PersonID</th>\n",
       "      <th>A</th>\n",
       "      <th>Score</th>\n",
       "      <th>Weather</th>\n",
       "      <th>Y</th>\n",
       "    </tr>\n",
       "  </thead>\n",
       "  <tbody>\n",
       "    <tr>\n",
       "      <th>0</th>\n",
       "      <td>1</td>\n",
       "      <td>0</td>\n",
       "      <td>69</td>\n",
       "      <td>B</td>\n",
       "      <td>1</td>\n",
       "    </tr>\n",
       "    <tr>\n",
       "      <th>1</th>\n",
       "      <td>1</td>\n",
       "      <td>0</td>\n",
       "      <td>69</td>\n",
       "      <td>A</td>\n",
       "      <td>1</td>\n",
       "    </tr>\n",
       "    <tr>\n",
       "      <th>2</th>\n",
       "      <td>1</td>\n",
       "      <td>0</td>\n",
       "      <td>69</td>\n",
       "      <td>C</td>\n",
       "      <td>1</td>\n",
       "    </tr>\n",
       "    <tr>\n",
       "      <th>3</th>\n",
       "      <td>1</td>\n",
       "      <td>0</td>\n",
       "      <td>69</td>\n",
       "      <td>A</td>\n",
       "      <td>1</td>\n",
       "    </tr>\n",
       "    <tr>\n",
       "      <th>4</th>\n",
       "      <td>1</td>\n",
       "      <td>0</td>\n",
       "      <td>69</td>\n",
       "      <td>B</td>\n",
       "      <td>1</td>\n",
       "    </tr>\n",
       "  </tbody>\n",
       "</table>\n",
       "</div>"
      ],
      "text/plain": [
       "   PersonID  A  Score Weather  Y\n",
       "0         1  0     69       B  1\n",
       "1         1  0     69       A  1\n",
       "2         1  0     69       C  1\n",
       "3         1  0     69       A  1\n",
       "4         1  0     69       B  1"
      ]
     },
     "execution_count": 2,
     "metadata": {},
     "output_type": "execute_result"
    }
   ],
   "source": [
    "df = pd.read_csv(\"data/data-attendance-3.txt\")\n",
    "print(len(df))\n",
    "print(df.dtypes)\n",
    "df.head(5)"
   ]
  },
  {
   "cell_type": "code",
   "execution_count": 3,
   "metadata": {},
   "outputs": [
    {
     "data": {
      "text/html": [
       "<div>\n",
       "<style scoped>\n",
       "    .dataframe tbody tr th:only-of-type {\n",
       "        vertical-align: middle;\n",
       "    }\n",
       "\n",
       "    .dataframe tbody tr th {\n",
       "        vertical-align: top;\n",
       "    }\n",
       "\n",
       "    .dataframe thead th {\n",
       "        text-align: right;\n",
       "    }\n",
       "</style>\n",
       "<table border=\"1\" class=\"dataframe\">\n",
       "  <thead>\n",
       "    <tr style=\"text-align: right;\">\n",
       "      <th>Y</th>\n",
       "      <th>0</th>\n",
       "      <th>1</th>\n",
       "    </tr>\n",
       "    <tr>\n",
       "      <th>Weather</th>\n",
       "      <th></th>\n",
       "      <th></th>\n",
       "    </tr>\n",
       "  </thead>\n",
       "  <tbody>\n",
       "    <tr>\n",
       "      <th>A</th>\n",
       "      <td>306</td>\n",
       "      <td>953</td>\n",
       "    </tr>\n",
       "    <tr>\n",
       "      <th>B</th>\n",
       "      <td>230</td>\n",
       "      <td>500</td>\n",
       "    </tr>\n",
       "    <tr>\n",
       "      <th>C</th>\n",
       "      <td>138</td>\n",
       "      <td>269</td>\n",
       "    </tr>\n",
       "  </tbody>\n",
       "</table>\n",
       "</div>"
      ],
      "text/plain": [
       "Y          0    1\n",
       "Weather          \n",
       "A        306  953\n",
       "B        230  500\n",
       "C        138  269"
      ]
     },
     "execution_count": 3,
     "metadata": {},
     "output_type": "execute_result"
    }
   ],
   "source": [
    "pd.crosstab(df[\"Weather\"], df[\"Y\"])"
   ]
  },
  {
   "cell_type": "code",
   "execution_count": 4,
   "metadata": {},
   "outputs": [
    {
     "data": {
      "text/html": [
       "<div>\n",
       "<style scoped>\n",
       "    .dataframe tbody tr th:only-of-type {\n",
       "        vertical-align: middle;\n",
       "    }\n",
       "\n",
       "    .dataframe tbody tr th {\n",
       "        vertical-align: top;\n",
       "    }\n",
       "\n",
       "    .dataframe thead th {\n",
       "        text-align: right;\n",
       "    }\n",
       "</style>\n",
       "<table border=\"1\" class=\"dataframe\">\n",
       "  <thead>\n",
       "    <tr style=\"text-align: right;\">\n",
       "      <th>Y</th>\n",
       "      <th>0</th>\n",
       "      <th>1</th>\n",
       "    </tr>\n",
       "    <tr>\n",
       "      <th>A</th>\n",
       "      <th></th>\n",
       "      <th></th>\n",
       "    </tr>\n",
       "  </thead>\n",
       "  <tbody>\n",
       "    <tr>\n",
       "      <th>0</th>\n",
       "      <td>288</td>\n",
       "      <td>994</td>\n",
       "    </tr>\n",
       "    <tr>\n",
       "      <th>1</th>\n",
       "      <td>386</td>\n",
       "      <td>728</td>\n",
       "    </tr>\n",
       "  </tbody>\n",
       "</table>\n",
       "</div>"
      ],
      "text/plain": [
       "Y    0    1\n",
       "A          \n",
       "0  288  994\n",
       "1  386  728"
      ]
     },
     "execution_count": 4,
     "metadata": {},
     "output_type": "execute_result"
    }
   ],
   "source": [
    "# exercise (3)\n",
    "pd.crosstab(df[\"A\"], df[\"Y\"])"
   ]
  },
  {
   "cell_type": "markdown",
   "metadata": {},
   "source": [
    "# Run Stan"
   ]
  },
  {
   "cell_type": "code",
   "execution_count": 5,
   "metadata": {},
   "outputs": [
    {
     "name": "stderr",
     "output_type": "stream",
     "text": [
      "INFO:cmdstanpy:compiling stan program, exe file: /workdir/chapter05/model/model5-5\n",
      "INFO:cmdstanpy:compiler options: stanc_options=None, cpp_options=None\n",
      "INFO:cmdstanpy:compiled model file: /workdir/chapter05/model/model5-5\n"
     ]
    },
    {
     "name": "stdout",
     "output_type": "stream",
     "text": [
      "CmdStanModel: name=model5-5\n",
      "\t stan_file=/workdir/chapter05/model/model5-5.stan\n",
      "\t exe_file=/workdir/chapter05/model/model5-5\n",
      "\t compiler_optons=stanc_options=None, cpp_options=None\n"
     ]
    }
   ],
   "source": [
    "model = CmdStanModel(stan_file=\"model/model5-5.stan\")\n",
    "print(model)"
   ]
  },
  {
   "cell_type": "code",
   "execution_count": 6,
   "metadata": {},
   "outputs": [],
   "source": [
    "def weather_to_float(weather):\n",
    "    if weather == 'A':\n",
    "        return 0.0\n",
    "    elif weather =='B':\n",
    "        return 0.2\n",
    "    elif weather == 'C':\n",
    "        return 1.0"
   ]
  },
  {
   "cell_type": "code",
   "execution_count": 7,
   "metadata": {},
   "outputs": [],
   "source": [
    "data = {\n",
    "    \"I\" : len(df),\n",
    "    \"A\" : df[\"A\"].values,\n",
    "    \"Score\" : df[\"Score\"].values/200,\n",
    "    \"W\" : np.vectorize(weather_to_float)(df[\"Weather\"].values),\n",
    "    \"Y\" : df[\"Y\"].values\n",
    "}"
   ]
  },
  {
   "cell_type": "code",
   "execution_count": 8,
   "metadata": {},
   "outputs": [
    {
     "name": "stderr",
     "output_type": "stream",
     "text": [
      "INFO:cmdstanpy:start chain 1\n",
      "INFO:cmdstanpy:start chain 2\n",
      "INFO:cmdstanpy:start chain 3\n",
      "INFO:cmdstanpy:start chain 4\n",
      "INFO:cmdstanpy:finish chain 4\n",
      "INFO:cmdstanpy:finish chain 1\n",
      "INFO:cmdstanpy:finish chain 3\n",
      "INFO:cmdstanpy:finish chain 2\n"
     ]
    }
   ],
   "source": [
    "fit = model.sample(data=data)"
   ]
  },
  {
   "cell_type": "markdown",
   "metadata": {},
   "source": [
    "# Inspect the result"
   ]
  },
  {
   "cell_type": "code",
   "execution_count": 9,
   "metadata": {},
   "outputs": [
    {
     "name": "stdout",
     "output_type": "stream",
     "text": [
      "<class 'cmdstanpy.stanfit.CmdStanMCMC'>\n",
      "CmdStanMCMC: model=model5-5 chains=4['method=sample', 'algorithm=hmc', 'adapt', 'engaged=1']\n",
      " csv_files:\n",
      "\t/tmp/tmp958ba7mn/model5-5-202010271135-1-0iwmsgvo.csv\n",
      "\t/tmp/tmp958ba7mn/model5-5-202010271135-2-d_kdw72_.csv\n",
      "\t/tmp/tmp958ba7mn/model5-5-202010271135-3-pzrg9gwx.csv\n",
      "\t/tmp/tmp958ba7mn/model5-5-202010271135-4-l4mmeep3.csv\n",
      " output_files:\n",
      "\t/tmp/tmp958ba7mn/model5-5-202010271135-1-0iwmsgvo-stdout.txt\n",
      "\t/tmp/tmp958ba7mn/model5-5-202010271135-2-d_kdw72_-stdout.txt\n",
      "\t/tmp/tmp958ba7mn/model5-5-202010271135-3-pzrg9gwx-stdout.txt\n",
      "\t/tmp/tmp958ba7mn/model5-5-202010271135-4-l4mmeep3-stdout.txt\n"
     ]
    }
   ],
   "source": [
    "print(type(fit))\n",
    "print(fit)"
   ]
  },
  {
   "cell_type": "code",
   "execution_count": 10,
   "metadata": {},
   "outputs": [
    {
     "name": "stdout",
     "output_type": "stream",
     "text": [
      "1000\n",
      "(1000, 4, 2407)\n"
     ]
    }
   ],
   "source": [
    "print(fit.num_draws)\n",
    "print(fit.draws().shape)"
   ]
  },
  {
   "cell_type": "code",
   "execution_count": 11,
   "metadata": {},
   "outputs": [
    {
     "data": {
      "text/plain": [
       "{'b': array([[ 0.282188 , -0.648919 ,  1.93711  , -0.543485 ],\n",
       "        [ 0.202322 , -0.638753 ,  1.86807  , -0.527714 ],\n",
       "        [ 0.189609 , -0.63699  ,  1.84776  , -0.532769 ],\n",
       "        ...,\n",
       "        [-0.0416055, -0.484257 ,  2.19281  , -0.267453 ],\n",
       "        [ 0.0506004, -0.593092 ,  2.02166  , -0.355543 ],\n",
       "        [-0.0470418, -0.700027 ,  2.50268  , -0.406867 ]]),\n",
       " 'q': array([[0.698843, 0.721214, 0.60037 , ..., 0.643856, 0.512161, 0.512161],\n",
       "        [0.677272, 0.699896, 0.579103, ..., 0.619697, 0.490138, 0.490138],\n",
       "        [0.672724, 0.695739, 0.573053, ..., 0.614735, 0.483629, 0.483629],\n",
       "        ...,\n",
       "        [0.65958 , 0.671486, 0.610036, ..., 0.636355, 0.572517, 0.572517],\n",
       "        [0.663061, 0.678758, 0.596891, ..., 0.612594, 0.525649, 0.525649],\n",
       "        [0.675904, 0.693468, 0.600972, ..., 0.620521, 0.52121 , 0.52121 ]])}"
      ]
     },
     "execution_count": 11,
     "metadata": {},
     "output_type": "execute_result"
    }
   ],
   "source": [
    "fit.stan_variables()"
   ]
  },
  {
   "cell_type": "code",
   "execution_count": 12,
   "metadata": {},
   "outputs": [
    {
     "data": {
      "text/html": [
       "<div>\n",
       "<style scoped>\n",
       "    .dataframe tbody tr th:only-of-type {\n",
       "        vertical-align: middle;\n",
       "    }\n",
       "\n",
       "    .dataframe tbody tr th {\n",
       "        vertical-align: top;\n",
       "    }\n",
       "\n",
       "    .dataframe thead th {\n",
       "        text-align: right;\n",
       "    }\n",
       "</style>\n",
       "<table border=\"1\" class=\"dataframe\">\n",
       "  <thead>\n",
       "    <tr style=\"text-align: right;\">\n",
       "      <th></th>\n",
       "      <th>Mean</th>\n",
       "      <th>MCSE</th>\n",
       "      <th>StdDev</th>\n",
       "      <th>5%</th>\n",
       "      <th>50%</th>\n",
       "      <th>95%</th>\n",
       "      <th>N_Eff</th>\n",
       "      <th>N_Eff/s</th>\n",
       "      <th>R_hat</th>\n",
       "    </tr>\n",
       "    <tr>\n",
       "      <th>name</th>\n",
       "      <th></th>\n",
       "      <th></th>\n",
       "      <th></th>\n",
       "      <th></th>\n",
       "      <th></th>\n",
       "      <th></th>\n",
       "      <th></th>\n",
       "      <th></th>\n",
       "      <th></th>\n",
       "    </tr>\n",
       "  </thead>\n",
       "  <tbody>\n",
       "    <tr>\n",
       "      <th>lp__</th>\n",
       "      <td>-1383.04</td>\n",
       "      <td>0.035083</td>\n",
       "      <td>1.40578</td>\n",
       "      <td>-1385.80</td>\n",
       "      <td>-1382.71</td>\n",
       "      <td>-1381.42</td>\n",
       "      <td>1605.66</td>\n",
       "      <td>35.4708</td>\n",
       "      <td>1.00167</td>\n",
       "    </tr>\n",
       "    <tr>\n",
       "      <th>b[1]</th>\n",
       "      <td>0.16</td>\n",
       "      <td>0.004900</td>\n",
       "      <td>0.22000</td>\n",
       "      <td>-0.19</td>\n",
       "      <td>0.16</td>\n",
       "      <td>0.53</td>\n",
       "      <td>1959.00</td>\n",
       "      <td>43.0000</td>\n",
       "      <td>1.00000</td>\n",
       "    </tr>\n",
       "    <tr>\n",
       "      <th>b[2]</th>\n",
       "      <td>-0.62</td>\n",
       "      <td>0.001700</td>\n",
       "      <td>0.09100</td>\n",
       "      <td>-0.77</td>\n",
       "      <td>-0.62</td>\n",
       "      <td>-0.47</td>\n",
       "      <td>2760.00</td>\n",
       "      <td>61.0000</td>\n",
       "      <td>1.00000</td>\n",
       "    </tr>\n",
       "    <tr>\n",
       "      <th>b[3]</th>\n",
       "      <td>2.00</td>\n",
       "      <td>0.007800</td>\n",
       "      <td>0.35000</td>\n",
       "      <td>1.40</td>\n",
       "      <td>2.00</td>\n",
       "      <td>2.50</td>\n",
       "      <td>1995.00</td>\n",
       "      <td>44.0000</td>\n",
       "      <td>1.00000</td>\n",
       "    </tr>\n",
       "    <tr>\n",
       "      <th>b[4]</th>\n",
       "      <td>-0.46</td>\n",
       "      <td>0.002500</td>\n",
       "      <td>0.13000</td>\n",
       "      <td>-0.67</td>\n",
       "      <td>-0.46</td>\n",
       "      <td>-0.26</td>\n",
       "      <td>2600.00</td>\n",
       "      <td>57.0000</td>\n",
       "      <td>1.00000</td>\n",
       "    </tr>\n",
       "    <tr>\n",
       "      <th>...</th>\n",
       "      <td>...</td>\n",
       "      <td>...</td>\n",
       "      <td>...</td>\n",
       "      <td>...</td>\n",
       "      <td>...</td>\n",
       "      <td>...</td>\n",
       "      <td>...</td>\n",
       "      <td>...</td>\n",
       "      <td>...</td>\n",
       "    </tr>\n",
       "    <tr>\n",
       "      <th>q[2392]</th>\n",
       "      <td>0.60</td>\n",
       "      <td>0.000340</td>\n",
       "      <td>0.01800</td>\n",
       "      <td>0.57</td>\n",
       "      <td>0.60</td>\n",
       "      <td>0.63</td>\n",
       "      <td>2769.00</td>\n",
       "      <td>61.0000</td>\n",
       "      <td>1.00000</td>\n",
       "    </tr>\n",
       "    <tr>\n",
       "      <th>q[2393]</th>\n",
       "      <td>0.63</td>\n",
       "      <td>0.000370</td>\n",
       "      <td>0.01900</td>\n",
       "      <td>0.60</td>\n",
       "      <td>0.63</td>\n",
       "      <td>0.66</td>\n",
       "      <td>2575.00</td>\n",
       "      <td>57.0000</td>\n",
       "      <td>1.00000</td>\n",
       "    </tr>\n",
       "    <tr>\n",
       "      <th>q[2394]</th>\n",
       "      <td>0.63</td>\n",
       "      <td>0.000370</td>\n",
       "      <td>0.01900</td>\n",
       "      <td>0.60</td>\n",
       "      <td>0.63</td>\n",
       "      <td>0.66</td>\n",
       "      <td>2575.00</td>\n",
       "      <td>57.0000</td>\n",
       "      <td>1.00000</td>\n",
       "    </tr>\n",
       "    <tr>\n",
       "      <th>q[2395]</th>\n",
       "      <td>0.51</td>\n",
       "      <td>0.000580</td>\n",
       "      <td>0.03100</td>\n",
       "      <td>0.46</td>\n",
       "      <td>0.51</td>\n",
       "      <td>0.56</td>\n",
       "      <td>2766.00</td>\n",
       "      <td>61.0000</td>\n",
       "      <td>1.00000</td>\n",
       "    </tr>\n",
       "    <tr>\n",
       "      <th>q[2396]</th>\n",
       "      <td>0.51</td>\n",
       "      <td>0.000580</td>\n",
       "      <td>0.03100</td>\n",
       "      <td>0.46</td>\n",
       "      <td>0.51</td>\n",
       "      <td>0.56</td>\n",
       "      <td>2766.00</td>\n",
       "      <td>61.0000</td>\n",
       "      <td>1.00000</td>\n",
       "    </tr>\n",
       "  </tbody>\n",
       "</table>\n",
       "<p>2401 rows × 9 columns</p>\n",
       "</div>"
      ],
      "text/plain": [
       "            Mean      MCSE   StdDev       5%      50%      95%    N_Eff  \\\n",
       "name                                                                      \n",
       "lp__    -1383.04  0.035083  1.40578 -1385.80 -1382.71 -1381.42  1605.66   \n",
       "b[1]        0.16  0.004900  0.22000    -0.19     0.16     0.53  1959.00   \n",
       "b[2]       -0.62  0.001700  0.09100    -0.77    -0.62    -0.47  2760.00   \n",
       "b[3]        2.00  0.007800  0.35000     1.40     2.00     2.50  1995.00   \n",
       "b[4]       -0.46  0.002500  0.13000    -0.67    -0.46    -0.26  2600.00   \n",
       "...          ...       ...      ...      ...      ...      ...      ...   \n",
       "q[2392]     0.60  0.000340  0.01800     0.57     0.60     0.63  2769.00   \n",
       "q[2393]     0.63  0.000370  0.01900     0.60     0.63     0.66  2575.00   \n",
       "q[2394]     0.63  0.000370  0.01900     0.60     0.63     0.66  2575.00   \n",
       "q[2395]     0.51  0.000580  0.03100     0.46     0.51     0.56  2766.00   \n",
       "q[2396]     0.51  0.000580  0.03100     0.46     0.51     0.56  2766.00   \n",
       "\n",
       "         N_Eff/s    R_hat  \n",
       "name                       \n",
       "lp__     35.4708  1.00167  \n",
       "b[1]     43.0000  1.00000  \n",
       "b[2]     61.0000  1.00000  \n",
       "b[3]     44.0000  1.00000  \n",
       "b[4]     57.0000  1.00000  \n",
       "...          ...      ...  \n",
       "q[2392]  61.0000  1.00000  \n",
       "q[2393]  57.0000  1.00000  \n",
       "q[2394]  57.0000  1.00000  \n",
       "q[2395]  61.0000  1.00000  \n",
       "q[2396]  61.0000  1.00000  \n",
       "\n",
       "[2401 rows x 9 columns]"
      ]
     },
     "execution_count": 12,
     "metadata": {},
     "output_type": "execute_result"
    }
   ],
   "source": [
    "fit_summary = fit.summary()\n",
    "fit_summary"
   ]
  },
  {
   "cell_type": "code",
   "execution_count": 13,
   "metadata": {},
   "outputs": [
    {
     "data": {
      "text/html": [
       "<div>\n",
       "<style scoped>\n",
       "    .dataframe tbody tr th:only-of-type {\n",
       "        vertical-align: middle;\n",
       "    }\n",
       "\n",
       "    .dataframe tbody tr th {\n",
       "        vertical-align: top;\n",
       "    }\n",
       "\n",
       "    .dataframe thead th {\n",
       "        text-align: right;\n",
       "    }\n",
       "</style>\n",
       "<table border=\"1\" class=\"dataframe\">\n",
       "  <thead>\n",
       "    <tr style=\"text-align: right;\">\n",
       "      <th></th>\n",
       "      <th>Mean</th>\n",
       "      <th>MCSE</th>\n",
       "      <th>StdDev</th>\n",
       "      <th>5%</th>\n",
       "      <th>50%</th>\n",
       "      <th>95%</th>\n",
       "      <th>N_Eff</th>\n",
       "      <th>N_Eff/s</th>\n",
       "      <th>R_hat</th>\n",
       "    </tr>\n",
       "    <tr>\n",
       "      <th>name</th>\n",
       "      <th></th>\n",
       "      <th></th>\n",
       "      <th></th>\n",
       "      <th></th>\n",
       "      <th></th>\n",
       "      <th></th>\n",
       "      <th></th>\n",
       "      <th></th>\n",
       "      <th></th>\n",
       "    </tr>\n",
       "  </thead>\n",
       "  <tbody>\n",
       "  </tbody>\n",
       "</table>\n",
       "</div>"
      ],
      "text/plain": [
       "Empty DataFrame\n",
       "Columns: [Mean, MCSE, StdDev, 5%, 50%, 95%, N_Eff, N_Eff/s, R_hat]\n",
       "Index: []"
      ]
     },
     "execution_count": 13,
     "metadata": {},
     "output_type": "execute_result"
    }
   ],
   "source": [
    "# Check the convergence\n",
    "fit_summary[fit_summary[\"R_hat\"] >= 1.1]"
   ]
  },
  {
   "cell_type": "code",
   "execution_count": 14,
   "metadata": {},
   "outputs": [
    {
     "name": "stderr",
     "output_type": "stream",
     "text": [
      "INFO:cmdstanpy:Processing csv files: /tmp/tmp958ba7mn/model5-5-202010271135-1-0iwmsgvo.csv, /tmp/tmp958ba7mn/model5-5-202010271135-2-d_kdw72_.csv, /tmp/tmp958ba7mn/model5-5-202010271135-3-pzrg9gwx.csv, /tmp/tmp958ba7mn/model5-5-202010271135-4-l4mmeep3.csv\n",
      "\n",
      "Checking sampler transitions treedepth.\n",
      "Treedepth satisfactory for all transitions.\n",
      "\n",
      "Checking sampler transitions for divergences.\n",
      "No divergent transitions found.\n",
      "\n",
      "Checking E-BFMI - sampler transitions HMC potential energy.\n",
      "E-BFMI satisfactory for all transitions.\n",
      "\n",
      "Effective sample size satisfactory.\n",
      "\n",
      "Split R-hat values satisfactory all parameters.\n",
      "\n",
      "Processing complete, no problems detected.\n"
     ]
    },
    {
     "name": "stdout",
     "output_type": "stream",
     "text": [
      "Processing csv files: /tmp/tmp958ba7mn/model5-5-202010271135-1-0iwmsgvo.csv, /tmp/tmp958ba7mn/model5-5-202010271135-2-d_kdw72_.csv, /tmp/tmp958ba7mn/model5-5-202010271135-3-pzrg9gwx.csv, /tmp/tmp958ba7mn/model5-5-202010271135-4-l4mmeep3.csv\n",
      "\n",
      "Checking sampler transitions treedepth.\n",
      "Treedepth satisfactory for all transitions.\n",
      "\n",
      "Checking sampler transitions for divergences.\n",
      "No divergent transitions found.\n",
      "\n",
      "Checking E-BFMI - sampler transitions HMC potential energy.\n",
      "E-BFMI satisfactory for all transitions.\n",
      "\n",
      "Effective sample size satisfactory.\n",
      "\n",
      "Split R-hat values satisfactory all parameters.\n",
      "\n",
      "Processing complete, no problems detected.\n"
     ]
    }
   ],
   "source": [
    "print(fit.diagnose())"
   ]
  },
  {
   "cell_type": "markdown",
   "metadata": {},
   "source": [
    "# Plot the result"
   ]
  },
  {
   "cell_type": "code",
   "execution_count": 15,
   "metadata": {},
   "outputs": [
    {
     "data": {
      "text/plain": [
       "(3, 2396)"
      ]
     },
     "execution_count": 15,
     "metadata": {},
     "output_type": "execute_result"
    }
   ],
   "source": [
    "q_percentiles = np.percentile(fit.stan_variable(\"q\"), [10.0, 50.0, 90.0], axis=0)\n",
    "q_percentiles.shape"
   ]
  },
  {
   "cell_type": "code",
   "execution_count": 16,
   "metadata": {},
   "outputs": [
    {
     "data": {
      "image/png": "[encoded data removed]",
      "text/plain": [
       "<Figure size 576x432 with 1 Axes>"
      ]
     },
     "metadata": {
      "needs_background": "light"
     },
     "output_type": "display_data"
    }
   ],
   "source": [
    "# Fig 5.9\n",
    "# Plot score vs q (for weather = 'A' and 'A' = 0 only)\n",
    "\n",
    "df_tmp = df.sort_values(by=[\"Score\"])[[\"Weather\", \"A\"]]\n",
    "idx = df_tmp[(df_tmp[\"Weather\"] == 'A') & (df_tmp['A'] == 0)].index.values\n",
    "\n",
    "fig = plt.figure(figsize=(8, 6))\n",
    "ax = plt.subplot(111)\n",
    "\n",
    "ax.plot(df[\"Score\"][idx], df[\"Y\"][idx] + 0.1*np.random.randn(len(idx)), 'o', markersize=5, color=\"C0\")\n",
    "ax.plot(df[\"Score\"][idx], q_percentiles[1][idx], '.-', color=\"C1\")\n",
    "ax.fill_between(df[\"Score\"][idx], q_percentiles[0][idx], q_percentiles[2][idx], alpha=0.3, color=\"C1\")\n",
    "ax.set_xlabel(\"Score\")\n",
    "ax.set_ylabel(\"q\")\n",
    "fig.show()"
   ]
  },
  {
   "cell_type": "code",
   "execution_count": 17,
   "metadata": {},
   "outputs": [
    {
     "data": {
      "image/png": "[encoded data removed]",
      "text/plain": [
       "<Figure size 1152x576 with 2 Axes>"
      ]
     },
     "metadata": {
      "needs_background": "light"
     },
     "output_type": "display_data"
    }
   ],
   "source": [
    "# Fig 5.10\n",
    "# prob vs. observation\n",
    "\n",
    "fig, axes = plt.subplots(nrows=1, ncols=2, figsize=(16, 8))\n",
    "\n",
    "ax = axes[0]\n",
    "sns.violinplot(x=q_percentiles[1], y=df[\"Y\"], color='white', linewidth=5, orient='h', ax=ax)\n",
    "ax.set_xlabel(\"q(median)\")\n",
    "\n",
    "ax = axes[1]\n",
    "sns.violinplot(x=q_percentiles[1], y=df[\"Y\"], color='white', linewidth=5, orient='h', ax=ax)\n",
    "sns.stripplot(x=q_percentiles[1], y=df[\"Y\"], hue=df[\"A\"], orient='h', ax=ax)\n",
    "ax.set_xlabel(\"q(median)\")\n",
    "\n",
    "fig.show()"
   ]
  },
  {
   "cell_type": "code",
   "execution_count": 18,
   "metadata": {},
   "outputs": [
    {
     "name": "stdout",
     "output_type": "stream",
     "text": [
      "ROC AUC Score : 0.6173463848881813\n"
     ]
    },
    {
     "data": {
      "image/png": "[encoded data removed]",
      "text/plain": [
       "<Figure size 432x432 with 1 Axes>"
      ]
     },
     "metadata": {
      "needs_background": "light"
     },
     "output_type": "display_data"
    }
   ],
   "source": [
    "# Fig 5.11\n",
    "# ROC curve : \n",
    "\n",
    "print(\"ROC AUC Score :\", roc_auc_score(df[\"Y\"].values, q_percentiles[1]))\n",
    "\n",
    "fpr, tpr, thresholds = roc_curve(df[\"Y\"].values, q_percentiles[1])\n",
    "fig = plt.figure(figsize=(6, 6))\n",
    "ax = fig.add_subplot(111)\n",
    "ax.plot(fpr, tpr)\n",
    "ax.plot([0,1], [0,1], 'k--')\n",
    "ax.set_aspect(\"equal\")\n",
    "ax.set_xlabel(\"False Positive rate\")\n",
    "ax.set_ylabel(\"True Positive rate\")\n",
    "fig.show()"
   ]
  }
 ],
 "metadata": {
  "kernelspec": {
   "display_name": "Python 3",
   "language": "python",
   "name": "python3"
  },
  "language_info": {
   "codemirror_mode": {
    "name": "ipython",
    "version": 3
   },
   "file_extension": ".py",
   "mimetype": "text/x-python",
   "name": "python",
   "nbconvert_exporter": "python",
   "pygments_lexer": "ipython3",
   "version": "3.8.5"
  }
 },
 "nbformat": 4,
 "nbformat_minor": 4
}
