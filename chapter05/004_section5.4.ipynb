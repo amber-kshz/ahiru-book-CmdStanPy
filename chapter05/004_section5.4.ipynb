{
 "cells": [
  {
   "cell_type": "markdown",
   "metadata": {},
   "source": [
    "This model deals with the contents of Section 5.4 of the book."
   ]
  },
  {
   "cell_type": "code",
   "execution_count": 1,
   "metadata": {},
   "outputs": [],
   "source": [
    "import numpy as np\n",
    "import pandas as pd\n",
    "from cmdstanpy import CmdStanModel\n",
    "from matplotlib import pyplot as plt"
   ]
  },
  {
   "cell_type": "markdown",
   "metadata": {},
   "source": [
    "# Load data\n",
    "\n",
    "The data used here is the same as those used in `002_section5.2.ipynb`."
   ]
  },
  {
   "cell_type": "code",
   "execution_count": 2,
   "metadata": {},
   "outputs": [
    {
     "name": "stdout",
     "output_type": "stream",
     "text": [
      "PersonID    50\n",
      "A           50\n",
      "Score       50\n",
      "M           50\n",
      "Y           50\n",
      "dtype: int64\n"
     ]
    },
    {
     "data": {
      "text/html": [
       "<div>\n",
       "<style scoped>\n",
       "    .dataframe tbody tr th:only-of-type {\n",
       "        vertical-align: middle;\n",
       "    }\n",
       "\n",
       "    .dataframe tbody tr th {\n",
       "        vertical-align: top;\n",
       "    }\n",
       "\n",
       "    .dataframe thead th {\n",
       "        text-align: right;\n",
       "    }\n",
       "</style>\n",
       "<table border=\"1\" class=\"dataframe\">\n",
       "  <thead>\n",
       "    <tr style=\"text-align: right;\">\n",
       "      <th></th>\n",
       "      <th>PersonID</th>\n",
       "      <th>A</th>\n",
       "      <th>Score</th>\n",
       "      <th>M</th>\n",
       "      <th>Y</th>\n",
       "    </tr>\n",
       "  </thead>\n",
       "  <tbody>\n",
       "    <tr>\n",
       "      <th>0</th>\n",
       "      <td>1</td>\n",
       "      <td>0</td>\n",
       "      <td>69</td>\n",
       "      <td>43</td>\n",
       "      <td>38</td>\n",
       "    </tr>\n",
       "    <tr>\n",
       "      <th>1</th>\n",
       "      <td>2</td>\n",
       "      <td>1</td>\n",
       "      <td>145</td>\n",
       "      <td>56</td>\n",
       "      <td>40</td>\n",
       "    </tr>\n",
       "    <tr>\n",
       "      <th>2</th>\n",
       "      <td>3</td>\n",
       "      <td>0</td>\n",
       "      <td>125</td>\n",
       "      <td>32</td>\n",
       "      <td>24</td>\n",
       "    </tr>\n",
       "    <tr>\n",
       "      <th>3</th>\n",
       "      <td>4</td>\n",
       "      <td>1</td>\n",
       "      <td>86</td>\n",
       "      <td>45</td>\n",
       "      <td>33</td>\n",
       "    </tr>\n",
       "    <tr>\n",
       "      <th>4</th>\n",
       "      <td>5</td>\n",
       "      <td>1</td>\n",
       "      <td>158</td>\n",
       "      <td>33</td>\n",
       "      <td>23</td>\n",
       "    </tr>\n",
       "  </tbody>\n",
       "</table>\n",
       "</div>"
      ],
      "text/plain": [
       "   PersonID  A  Score   M   Y\n",
       "0         1  0     69  43  38\n",
       "1         2  1    145  56  40\n",
       "2         3  0    125  32  24\n",
       "3         4  1     86  45  33\n",
       "4         5  1    158  33  23"
      ]
     },
     "execution_count": 2,
     "metadata": {},
     "output_type": "execute_result"
    }
   ],
   "source": [
    "df = pd.read_csv(\"./data/data-attendance-2.txt\")\n",
    "print(df.count())\n",
    "df.head(5)"
   ]
  },
  {
   "cell_type": "markdown",
   "metadata": {},
   "source": [
    "# Run Stan"
   ]
  },
  {
   "cell_type": "code",
   "execution_count": 3,
   "metadata": {},
   "outputs": [
    {
     "name": "stderr",
     "output_type": "stream",
     "text": [
      "INFO:cmdstanpy:compiling stan program, exe file: /workdir/chapter05/model/model5-6b\n",
      "INFO:cmdstanpy:compiler options: stanc_options=None, cpp_options=None\n",
      "INFO:cmdstanpy:compiled model file: /workdir/chapter05/model/model5-6b\n"
     ]
    },
    {
     "name": "stdout",
     "output_type": "stream",
     "text": [
      "CmdStanModel: name=model5-6b\n",
      "\t stan_file=/workdir/chapter05/model/model5-6b.stan\n",
      "\t exe_file=/workdir/chapter05/model/model5-6b\n",
      "\t compiler_optons=stanc_options=None, cpp_options=None\n"
     ]
    }
   ],
   "source": [
    "model = CmdStanModel(stan_file=\"model/model5-6b.stan\")\n",
    "print(model)"
   ]
  },
  {
   "cell_type": "code",
   "execution_count": 4,
   "metadata": {},
   "outputs": [],
   "source": [
    "data = {\n",
    "    \"N\" : len(df),\n",
    "    \"A\" : df[\"A\"].values,\n",
    "    \"Score\" : df[\"Score\"].values/200,\n",
    "    \"M\" : df[\"M\"].values,\n",
    "}"
   ]
  },
  {
   "cell_type": "code",
   "execution_count": 5,
   "metadata": {},
   "outputs": [
    {
     "name": "stderr",
     "output_type": "stream",
     "text": [
      "INFO:cmdstanpy:start chain 1\n",
      "INFO:cmdstanpy:start chain 2\n",
      "INFO:cmdstanpy:start chain 3\n",
      "INFO:cmdstanpy:start chain 4\n",
      "INFO:cmdstanpy:finish chain 1\n",
      "INFO:cmdstanpy:finish chain 4\n",
      "INFO:cmdstanpy:finish chain 2\n",
      "INFO:cmdstanpy:finish chain 3\n"
     ]
    }
   ],
   "source": [
    "fit = model.sample(data=data)"
   ]
  },
  {
   "cell_type": "markdown",
   "metadata": {},
   "source": [
    "# Inspect the result"
   ]
  },
  {
   "cell_type": "code",
   "execution_count": 6,
   "metadata": {},
   "outputs": [
    {
     "name": "stdout",
     "output_type": "stream",
     "text": [
      "CmdStanMCMC: model=model5-6b chains=4['method=sample', 'algorithm=hmc', 'adapt', 'engaged=1']\n",
      " csv_files:\n",
      "\t/tmp/tmpletlia3l/model5-6b-202010271137-1-3d1ukbc6.csv\n",
      "\t/tmp/tmpletlia3l/model5-6b-202010271137-2-wswtwyis.csv\n",
      "\t/tmp/tmpletlia3l/model5-6b-202010271137-3-ne1g1nie.csv\n",
      "\t/tmp/tmpletlia3l/model5-6b-202010271137-4-ov2a80u8.csv\n",
      " output_files:\n",
      "\t/tmp/tmpletlia3l/model5-6b-202010271137-1-3d1ukbc6-stdout.txt\n",
      "\t/tmp/tmpletlia3l/model5-6b-202010271137-2-wswtwyis-stdout.txt\n",
      "\t/tmp/tmpletlia3l/model5-6b-202010271137-3-ne1g1nie-stdout.txt\n",
      "\t/tmp/tmpletlia3l/model5-6b-202010271137-4-ov2a80u8-stdout.txt\n"
     ]
    }
   ],
   "source": [
    "print(fit)"
   ]
  },
  {
   "cell_type": "code",
   "execution_count": 7,
   "metadata": {},
   "outputs": [
    {
     "name": "stdout",
     "output_type": "stream",
     "text": [
      "1000\n",
      "(1000, 4, 110)\n"
     ]
    }
   ],
   "source": [
    "print(fit.num_draws)\n",
    "print(fit.draws().shape)"
   ]
  },
  {
   "cell_type": "code",
   "execution_count": 8,
   "metadata": {},
   "outputs": [
    {
     "name": "stdout",
     "output_type": "stream",
     "text": [
      "b (4000, 3)\n",
      "lambda (4000, 50)\n",
      "m_pred (4000, 50)\n"
     ]
    }
   ],
   "source": [
    "for key, val in fit.stan_variables().items():\n",
    "    print(key, val.shape)"
   ]
  },
  {
   "cell_type": "code",
   "execution_count": 9,
   "metadata": {},
   "outputs": [
    {
     "data": {
      "text/html": [
       "<div>\n",
       "<style scoped>\n",
       "    .dataframe tbody tr th:only-of-type {\n",
       "        vertical-align: middle;\n",
       "    }\n",
       "\n",
       "    .dataframe tbody tr th {\n",
       "        vertical-align: top;\n",
       "    }\n",
       "\n",
       "    .dataframe thead th {\n",
       "        text-align: right;\n",
       "    }\n",
       "</style>\n",
       "<table border=\"1\" class=\"dataframe\">\n",
       "  <thead>\n",
       "    <tr style=\"text-align: right;\">\n",
       "      <th></th>\n",
       "      <th>Mean</th>\n",
       "      <th>MCSE</th>\n",
       "      <th>StdDev</th>\n",
       "      <th>5%</th>\n",
       "      <th>50%</th>\n",
       "      <th>95%</th>\n",
       "      <th>N_Eff</th>\n",
       "      <th>N_Eff/s</th>\n",
       "      <th>R_hat</th>\n",
       "    </tr>\n",
       "    <tr>\n",
       "      <th>name</th>\n",
       "      <th></th>\n",
       "      <th></th>\n",
       "      <th></th>\n",
       "      <th></th>\n",
       "      <th></th>\n",
       "      <th></th>\n",
       "      <th></th>\n",
       "      <th></th>\n",
       "      <th></th>\n",
       "    </tr>\n",
       "  </thead>\n",
       "  <tbody>\n",
       "    <tr>\n",
       "      <th>lp__</th>\n",
       "      <td>6896.63</td>\n",
       "      <td>0.033438</td>\n",
       "      <td>1.19197</td>\n",
       "      <td>6894.300</td>\n",
       "      <td>6896.91</td>\n",
       "      <td>6897.90</td>\n",
       "      <td>1270.7</td>\n",
       "      <td>1680.82</td>\n",
       "      <td>1.00087</td>\n",
       "    </tr>\n",
       "    <tr>\n",
       "      <th>b[1]</th>\n",
       "      <td>3.60</td>\n",
       "      <td>0.002600</td>\n",
       "      <td>0.09300</td>\n",
       "      <td>3.400</td>\n",
       "      <td>3.60</td>\n",
       "      <td>3.70</td>\n",
       "      <td>1234.0</td>\n",
       "      <td>1632.00</td>\n",
       "      <td>1.00000</td>\n",
       "    </tr>\n",
       "    <tr>\n",
       "      <th>b[2]</th>\n",
       "      <td>0.26</td>\n",
       "      <td>0.000990</td>\n",
       "      <td>0.04000</td>\n",
       "      <td>0.200</td>\n",
       "      <td>0.26</td>\n",
       "      <td>0.33</td>\n",
       "      <td>1620.0</td>\n",
       "      <td>2143.00</td>\n",
       "      <td>1.00000</td>\n",
       "    </tr>\n",
       "    <tr>\n",
       "      <th>b[3]</th>\n",
       "      <td>0.29</td>\n",
       "      <td>0.004100</td>\n",
       "      <td>0.14000</td>\n",
       "      <td>0.048</td>\n",
       "      <td>0.29</td>\n",
       "      <td>0.52</td>\n",
       "      <td>1225.0</td>\n",
       "      <td>1621.00</td>\n",
       "      <td>1.00000</td>\n",
       "    </tr>\n",
       "    <tr>\n",
       "      <th>lambda[1]</th>\n",
       "      <td>3.70</td>\n",
       "      <td>0.001300</td>\n",
       "      <td>0.04700</td>\n",
       "      <td>3.600</td>\n",
       "      <td>3.70</td>\n",
       "      <td>3.80</td>\n",
       "      <td>1364.0</td>\n",
       "      <td>1804.00</td>\n",
       "      <td>1.00000</td>\n",
       "    </tr>\n",
       "    <tr>\n",
       "      <th>...</th>\n",
       "      <td>...</td>\n",
       "      <td>...</td>\n",
       "      <td>...</td>\n",
       "      <td>...</td>\n",
       "      <td>...</td>\n",
       "      <td>...</td>\n",
       "      <td>...</td>\n",
       "      <td>...</td>\n",
       "      <td>...</td>\n",
       "    </tr>\n",
       "    <tr>\n",
       "      <th>m_pred[46]</th>\n",
       "      <td>42.00</td>\n",
       "      <td>0.110000</td>\n",
       "      <td>6.60000</td>\n",
       "      <td>32.000</td>\n",
       "      <td>42.00</td>\n",
       "      <td>53.00</td>\n",
       "      <td>3420.0</td>\n",
       "      <td>4524.00</td>\n",
       "      <td>1.00000</td>\n",
       "    </tr>\n",
       "    <tr>\n",
       "      <th>m_pred[47]</th>\n",
       "      <td>39.00</td>\n",
       "      <td>0.120000</td>\n",
       "      <td>6.60000</td>\n",
       "      <td>28.000</td>\n",
       "      <td>39.00</td>\n",
       "      <td>50.00</td>\n",
       "      <td>2880.0</td>\n",
       "      <td>3809.00</td>\n",
       "      <td>1.00000</td>\n",
       "    </tr>\n",
       "    <tr>\n",
       "      <th>m_pred[48]</th>\n",
       "      <td>45.00</td>\n",
       "      <td>0.110000</td>\n",
       "      <td>6.90000</td>\n",
       "      <td>34.000</td>\n",
       "      <td>44.00</td>\n",
       "      <td>56.00</td>\n",
       "      <td>3795.0</td>\n",
       "      <td>5020.00</td>\n",
       "      <td>1.00000</td>\n",
       "    </tr>\n",
       "    <tr>\n",
       "      <th>m_pred[49]</th>\n",
       "      <td>41.00</td>\n",
       "      <td>0.100000</td>\n",
       "      <td>6.60000</td>\n",
       "      <td>31.000</td>\n",
       "      <td>41.00</td>\n",
       "      <td>53.00</td>\n",
       "      <td>4073.0</td>\n",
       "      <td>5387.00</td>\n",
       "      <td>1.00000</td>\n",
       "    </tr>\n",
       "    <tr>\n",
       "      <th>m_pred[50]</th>\n",
       "      <td>54.00</td>\n",
       "      <td>0.130000</td>\n",
       "      <td>7.60000</td>\n",
       "      <td>42.000</td>\n",
       "      <td>53.00</td>\n",
       "      <td>67.00</td>\n",
       "      <td>3601.0</td>\n",
       "      <td>4763.00</td>\n",
       "      <td>1.00000</td>\n",
       "    </tr>\n",
       "  </tbody>\n",
       "</table>\n",
       "<p>104 rows × 9 columns</p>\n",
       "</div>"
      ],
      "text/plain": [
       "               Mean      MCSE   StdDev        5%      50%      95%   N_Eff  \\\n",
       "name                                                                         \n",
       "lp__        6896.63  0.033438  1.19197  6894.300  6896.91  6897.90  1270.7   \n",
       "b[1]           3.60  0.002600  0.09300     3.400     3.60     3.70  1234.0   \n",
       "b[2]           0.26  0.000990  0.04000     0.200     0.26     0.33  1620.0   \n",
       "b[3]           0.29  0.004100  0.14000     0.048     0.29     0.52  1225.0   \n",
       "lambda[1]      3.70  0.001300  0.04700     3.600     3.70     3.80  1364.0   \n",
       "...             ...       ...      ...       ...      ...      ...     ...   \n",
       "m_pred[46]    42.00  0.110000  6.60000    32.000    42.00    53.00  3420.0   \n",
       "m_pred[47]    39.00  0.120000  6.60000    28.000    39.00    50.00  2880.0   \n",
       "m_pred[48]    45.00  0.110000  6.90000    34.000    44.00    56.00  3795.0   \n",
       "m_pred[49]    41.00  0.100000  6.60000    31.000    41.00    53.00  4073.0   \n",
       "m_pred[50]    54.00  0.130000  7.60000    42.000    53.00    67.00  3601.0   \n",
       "\n",
       "            N_Eff/s    R_hat  \n",
       "name                          \n",
       "lp__        1680.82  1.00087  \n",
       "b[1]        1632.00  1.00000  \n",
       "b[2]        2143.00  1.00000  \n",
       "b[3]        1621.00  1.00000  \n",
       "lambda[1]   1804.00  1.00000  \n",
       "...             ...      ...  \n",
       "m_pred[46]  4524.00  1.00000  \n",
       "m_pred[47]  3809.00  1.00000  \n",
       "m_pred[48]  5020.00  1.00000  \n",
       "m_pred[49]  5387.00  1.00000  \n",
       "m_pred[50]  4763.00  1.00000  \n",
       "\n",
       "[104 rows x 9 columns]"
      ]
     },
     "execution_count": 9,
     "metadata": {},
     "output_type": "execute_result"
    }
   ],
   "source": [
    "fit_summary = fit.summary()\n",
    "fit_summary"
   ]
  },
  {
   "cell_type": "code",
   "execution_count": 10,
   "metadata": {},
   "outputs": [
    {
     "data": {
      "text/html": [
       "<div>\n",
       "<style scoped>\n",
       "    .dataframe tbody tr th:only-of-type {\n",
       "        vertical-align: middle;\n",
       "    }\n",
       "\n",
       "    .dataframe tbody tr th {\n",
       "        vertical-align: top;\n",
       "    }\n",
       "\n",
       "    .dataframe thead th {\n",
       "        text-align: right;\n",
       "    }\n",
       "</style>\n",
       "<table border=\"1\" class=\"dataframe\">\n",
       "  <thead>\n",
       "    <tr style=\"text-align: right;\">\n",
       "      <th></th>\n",
       "      <th>Mean</th>\n",
       "      <th>MCSE</th>\n",
       "      <th>StdDev</th>\n",
       "      <th>5%</th>\n",
       "      <th>50%</th>\n",
       "      <th>95%</th>\n",
       "      <th>N_Eff</th>\n",
       "      <th>N_Eff/s</th>\n",
       "      <th>R_hat</th>\n",
       "    </tr>\n",
       "    <tr>\n",
       "      <th>name</th>\n",
       "      <th></th>\n",
       "      <th></th>\n",
       "      <th></th>\n",
       "      <th></th>\n",
       "      <th></th>\n",
       "      <th></th>\n",
       "      <th></th>\n",
       "      <th></th>\n",
       "      <th></th>\n",
       "    </tr>\n",
       "  </thead>\n",
       "  <tbody>\n",
       "  </tbody>\n",
       "</table>\n",
       "</div>"
      ],
      "text/plain": [
       "Empty DataFrame\n",
       "Columns: [Mean, MCSE, StdDev, 5%, 50%, 95%, N_Eff, N_Eff/s, R_hat]\n",
       "Index: []"
      ]
     },
     "execution_count": 10,
     "metadata": {},
     "output_type": "execute_result"
    }
   ],
   "source": [
    "fit_summary[fit_summary[\"R_hat\"] >= 1.1]"
   ]
  },
  {
   "cell_type": "code",
   "execution_count": 11,
   "metadata": {},
   "outputs": [
    {
     "name": "stderr",
     "output_type": "stream",
     "text": [
      "INFO:cmdstanpy:Processing csv files: /tmp/tmpletlia3l/model5-6b-202010271137-1-3d1ukbc6.csv, /tmp/tmpletlia3l/model5-6b-202010271137-2-wswtwyis.csv, /tmp/tmpletlia3l/model5-6b-202010271137-3-ne1g1nie.csv, /tmp/tmpletlia3l/model5-6b-202010271137-4-ov2a80u8.csv\n",
      "\n",
      "Checking sampler transitions treedepth.\n",
      "Treedepth satisfactory for all transitions.\n",
      "\n",
      "Checking sampler transitions for divergences.\n",
      "No divergent transitions found.\n",
      "\n",
      "Checking E-BFMI - sampler transitions HMC potential energy.\n",
      "E-BFMI satisfactory for all transitions.\n",
      "\n",
      "Effective sample size satisfactory.\n",
      "\n",
      "Split R-hat values satisfactory all parameters.\n",
      "\n",
      "Processing complete, no problems detected.\n"
     ]
    },
    {
     "name": "stdout",
     "output_type": "stream",
     "text": [
      "Processing csv files: /tmp/tmpletlia3l/model5-6b-202010271137-1-3d1ukbc6.csv, /tmp/tmpletlia3l/model5-6b-202010271137-2-wswtwyis.csv, /tmp/tmpletlia3l/model5-6b-202010271137-3-ne1g1nie.csv, /tmp/tmpletlia3l/model5-6b-202010271137-4-ov2a80u8.csv\n",
      "\n",
      "Checking sampler transitions treedepth.\n",
      "Treedepth satisfactory for all transitions.\n",
      "\n",
      "Checking sampler transitions for divergences.\n",
      "No divergent transitions found.\n",
      "\n",
      "Checking E-BFMI - sampler transitions HMC potential energy.\n",
      "E-BFMI satisfactory for all transitions.\n",
      "\n",
      "Effective sample size satisfactory.\n",
      "\n",
      "Split R-hat values satisfactory all parameters.\n",
      "\n",
      "Processing complete, no problems detected.\n"
     ]
    }
   ],
   "source": [
    "print(fit.diagnose())"
   ]
  },
  {
   "cell_type": "markdown",
   "metadata": {},
   "source": [
    "# Plot the result\n",
    "\n",
    "This is the contents of exercise (5)."
   ]
  },
  {
   "cell_type": "code",
   "execution_count": 12,
   "metadata": {},
   "outputs": [],
   "source": [
    "m_pred_percentiles = np.percentile(fit.stan_variable(\"m_pred\"), [10.0, 50.0, 90.0], axis=0)"
   ]
  },
  {
   "cell_type": "code",
   "execution_count": 13,
   "metadata": {},
   "outputs": [
    {
     "data": {
      "image/png": "[encoded data removed]",
      "text/plain": [
       "<Figure size 576x576 with 1 Axes>"
      ]
     },
     "metadata": {
      "needs_background": "light"
     },
     "output_type": "display_data"
    }
   ],
   "source": [
    "# exercise (5)\n",
    "# observation vs. prediction\n",
    "# Apparently, the model does not work well.\n",
    "\n",
    "fig = plt.figure(figsize=(8, 8))\n",
    "ax = fig.add_subplot(1, 1, 1)\n",
    "\n",
    "idx0 = np.where(df[\"A\"].values == 0)[0]\n",
    "idx1 = np.where(df[\"A\"].values == 1)[0]\n",
    "\n",
    "ax.errorbar(\n",
    "    x=df[\"M\"].values[idx0], \n",
    "    y=m_pred_percentiles[1][idx0], \n",
    "    yerr=np.abs(m_pred_percentiles[[0, 2]][:, idx0] - m_pred_percentiles[1][idx0]),\n",
    "    fmt='o',\n",
    "    markersize=10,\n",
    "    markeredgecolor='k',\n",
    "    label=\"A=0\"\n",
    ")\n",
    "\n",
    "ax.errorbar(\n",
    "    x=df[\"M\"].values[idx1], \n",
    "    y=m_pred_percentiles[1][idx1], \n",
    "    yerr=np.abs(m_pred_percentiles[[0, 2]][:, idx1] - m_pred_percentiles[1][idx1]),\n",
    "    fmt='^',\n",
    "    markersize=10,\n",
    "    markeredgecolor='k',\n",
    "    label=\"A=1\"\n",
    ")\n",
    "\n",
    "ax.legend()\n",
    "ax.plot([10.0, 90.0], [10.0, 90.0], 'k--')\n",
    "ax.set_aspect(\"equal\")\n",
    "ax.set_xlabel(\"observed\")\n",
    "ax.set_ylabel(\"predicted\")\n",
    "fig.show()"
   ]
  }
 ],
 "metadata": {
  "kernelspec": {
   "display_name": "Python 3",
   "language": "python",
   "name": "python3"
  },
  "language_info": {
   "codemirror_mode": {
    "name": "ipython",
    "version": 3
   },
   "file_extension": ".py",
   "mimetype": "text/x-python",
   "name": "python",
   "nbconvert_exporter": "python",
   "pygments_lexer": "ipython3",
   "version": "3.8.5"
  }
 },
 "nbformat": 4,
 "nbformat_minor": 4
}
