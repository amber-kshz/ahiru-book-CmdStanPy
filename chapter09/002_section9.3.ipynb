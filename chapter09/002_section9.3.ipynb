{
 "cells": [
  {
   "cell_type": "code",
   "execution_count": 1,
   "metadata": {},
   "outputs": [],
   "source": [
    "import numpy as np\n",
    "import pandas as pd\n",
    "import time\n",
    "from cmdstanpy import CmdStanModel"
   ]
  },
  {
   "cell_type": "markdown",
   "metadata": {},
   "source": [
    "# Section 9.3.1"
   ]
  },
  {
   "cell_type": "code",
   "execution_count": 2,
   "metadata": {},
   "outputs": [
    {
     "name": "stdout",
     "output_type": "stream",
     "text": [
      "32\n"
     ]
    },
    {
     "data": {
      "text/html": [
       "<div>\n",
       "<style scoped>\n",
       "    .dataframe tbody tr th:only-of-type {\n",
       "        vertical-align: middle;\n",
       "    }\n",
       "\n",
       "    .dataframe tbody tr th {\n",
       "        vertical-align: top;\n",
       "    }\n",
       "\n",
       "    .dataframe thead th {\n",
       "        text-align: right;\n",
       "    }\n",
       "</style>\n",
       "<table border=\"1\" class=\"dataframe\">\n",
       "  <thead>\n",
       "    <tr style=\"text-align: right;\">\n",
       "      <th></th>\n",
       "      <th>Y1</th>\n",
       "      <th>Y2</th>\n",
       "    </tr>\n",
       "  </thead>\n",
       "  <tbody>\n",
       "    <tr>\n",
       "      <th>0</th>\n",
       "      <td>9.2</td>\n",
       "      <td>2.56</td>\n",
       "    </tr>\n",
       "    <tr>\n",
       "      <th>1</th>\n",
       "      <td>9.8</td>\n",
       "      <td>1.99</td>\n",
       "    </tr>\n",
       "    <tr>\n",
       "      <th>2</th>\n",
       "      <td>9.4</td>\n",
       "      <td>2.40</td>\n",
       "    </tr>\n",
       "    <tr>\n",
       "      <th>3</th>\n",
       "      <td>9.2</td>\n",
       "      <td>2.27</td>\n",
       "    </tr>\n",
       "    <tr>\n",
       "      <th>4</th>\n",
       "      <td>8.1</td>\n",
       "      <td>3.68</td>\n",
       "    </tr>\n",
       "  </tbody>\n",
       "</table>\n",
       "</div>"
      ],
      "text/plain": [
       "    Y1    Y2\n",
       "0  9.2  2.56\n",
       "1  9.8  1.99\n",
       "2  9.4  2.40\n",
       "3  9.2  2.27\n",
       "4  8.1  3.68"
      ]
     },
     "execution_count": 2,
     "metadata": {},
     "output_type": "execute_result"
    }
   ],
   "source": [
    "df = pd.read_csv(\"data/data-mvn.txt\")\n",
    "print(len(df))\n",
    "df.head(5)"
   ]
  },
  {
   "cell_type": "code",
   "execution_count": 3,
   "metadata": {},
   "outputs": [],
   "source": [
    "data = {\n",
    "    \"N\": len(df),\n",
    "    \"D\": 2,\n",
    "    \"Y\": df.values\n",
    "}"
   ]
  },
  {
   "cell_type": "code",
   "execution_count": 4,
   "metadata": {},
   "outputs": [
    {
     "name": "stderr",
     "output_type": "stream",
     "text": [
      "INFO:cmdstanpy:compiling stan program, exe file: /workdir/chapter09/model/model9-2\n",
      "INFO:cmdstanpy:compiler options: stanc_options=None, cpp_options=None\n",
      "INFO:cmdstanpy:compiled model file: /workdir/chapter09/model/model9-2\n"
     ]
    },
    {
     "name": "stdout",
     "output_type": "stream",
     "text": [
      "CmdStanModel: name=model9-2\n",
      "\t stan_file=/workdir/chapter09/model/model9-2.stan\n",
      "\t exe_file=/workdir/chapter09/model/model9-2\n",
      "\t compiler_optons=stanc_options=None, cpp_options=None\n"
     ]
    }
   ],
   "source": [
    "model9_2 = CmdStanModel(stan_file=\"model/model9-2.stan\")\n",
    "print(model9_2)"
   ]
  },
  {
   "cell_type": "code",
   "execution_count": 5,
   "metadata": {},
   "outputs": [
    {
     "name": "stderr",
     "output_type": "stream",
     "text": [
      "INFO:cmdstanpy:compiling stan program, exe file: /workdir/chapter09/model/model9-2b\n",
      "INFO:cmdstanpy:compiler options: stanc_options=None, cpp_options=None\n",
      "INFO:cmdstanpy:compiled model file: /workdir/chapter09/model/model9-2b\n"
     ]
    },
    {
     "name": "stdout",
     "output_type": "stream",
     "text": [
      "CmdStanModel: name=model9-2b\n",
      "\t stan_file=/workdir/chapter09/model/model9-2b.stan\n",
      "\t exe_file=/workdir/chapter09/model/model9-2b\n",
      "\t compiler_optons=stanc_options=None, cpp_options=None\n"
     ]
    }
   ],
   "source": [
    "model9_2b = CmdStanModel(stan_file=\"model/model9-2b.stan\")\n",
    "print(model9_2b)"
   ]
  },
  {
   "cell_type": "code",
   "execution_count": 6,
   "metadata": {},
   "outputs": [
    {
     "name": "stderr",
     "output_type": "stream",
     "text": [
      "INFO:cmdstanpy:start chain 1\n",
      "INFO:cmdstanpy:start chain 2\n",
      "INFO:cmdstanpy:start chain 3\n",
      "INFO:cmdstanpy:start chain 4\n",
      "INFO:cmdstanpy:finish chain 1\n",
      "INFO:cmdstanpy:finish chain 2\n",
      "INFO:cmdstanpy:finish chain 4\n",
      "INFO:cmdstanpy:finish chain 3\n"
     ]
    },
    {
     "name": "stdout",
     "output_type": "stream",
     "text": [
      "2.1235032081604004\n",
      "mu : [9.19676403 2.560516  ]\n",
      "cov : [[ 0.42274567 -0.30185758]\n",
      " [-0.30185758  0.29166966]]\n"
     ]
    }
   ],
   "source": [
    "time_start = time.time()\n",
    "fit9_2 = model9_2.sample(data=data)\n",
    "time_finish = time.time()\n",
    "print(time_finish - time_start)\n",
    "\n",
    "print(\"mu :\", fit9_2.stan_variable(\"mu\").mean(axis=0))\n",
    "print(\"cov :\", fit9_2.stan_variable(\"cov\").mean(axis=0))"
   ]
  },
  {
   "cell_type": "code",
   "execution_count": 7,
   "metadata": {},
   "outputs": [
    {
     "name": "stderr",
     "output_type": "stream",
     "text": [
      "INFO:cmdstanpy:start chain 1\n",
      "INFO:cmdstanpy:start chain 2\n",
      "INFO:cmdstanpy:start chain 3\n",
      "INFO:cmdstanpy:start chain 4\n",
      "INFO:cmdstanpy:finish chain 1\n",
      "INFO:cmdstanpy:finish chain 4\n",
      "INFO:cmdstanpy:finish chain 2\n",
      "INFO:cmdstanpy:finish chain 3\n"
     ]
    },
    {
     "name": "stdout",
     "output_type": "stream",
     "text": [
      "1.2698426246643066\n",
      "mu : [9.1896983  2.56563048]\n",
      "cov : [[ 0.41948408 -0.29851711]\n",
      " [-0.29851711  0.28852004]]\n"
     ]
    }
   ],
   "source": [
    "time_start = time.time()\n",
    "fit9_2b = model9_2b.sample(data=data)\n",
    "time_finish = time.time()\n",
    "print(time_finish - time_start)\n",
    "\n",
    "print(\"mu :\", fit9_2b.stan_variable(\"mu\").mean(axis=0))\n",
    "print(\"cov :\", fit9_2b.stan_variable(\"cov\").mean(axis=0))"
   ]
  },
  {
   "cell_type": "markdown",
   "metadata": {},
   "source": [
    "# Section 9.3.2"
   ]
  },
  {
   "cell_type": "code",
   "execution_count": 8,
   "metadata": {},
   "outputs": [
    {
     "name": "stdout",
     "output_type": "stream",
     "text": [
      "50\n"
     ]
    },
    {
     "data": {
      "text/html": [
       "<div>\n",
       "<style scoped>\n",
       "    .dataframe tbody tr th:only-of-type {\n",
       "        vertical-align: middle;\n",
       "    }\n",
       "\n",
       "    .dataframe tbody tr th {\n",
       "        vertical-align: top;\n",
       "    }\n",
       "\n",
       "    .dataframe thead th {\n",
       "        text-align: right;\n",
       "    }\n",
       "</style>\n",
       "<table border=\"1\" class=\"dataframe\">\n",
       "  <thead>\n",
       "    <tr style=\"text-align: right;\">\n",
       "      <th></th>\n",
       "      <th>A</th>\n",
       "      <th>Score</th>\n",
       "      <th>X3</th>\n",
       "      <th>X4</th>\n",
       "      <th>Y</th>\n",
       "    </tr>\n",
       "  </thead>\n",
       "  <tbody>\n",
       "    <tr>\n",
       "      <th>0</th>\n",
       "      <td>0</td>\n",
       "      <td>69</td>\n",
       "      <td>-0.56</td>\n",
       "      <td>1.20</td>\n",
       "      <td>0.286</td>\n",
       "    </tr>\n",
       "    <tr>\n",
       "      <th>1</th>\n",
       "      <td>1</td>\n",
       "      <td>145</td>\n",
       "      <td>-0.23</td>\n",
       "      <td>0.67</td>\n",
       "      <td>0.196</td>\n",
       "    </tr>\n",
       "    <tr>\n",
       "      <th>2</th>\n",
       "      <td>0</td>\n",
       "      <td>125</td>\n",
       "      <td>1.56</td>\n",
       "      <td>0.98</td>\n",
       "      <td>0.261</td>\n",
       "    </tr>\n",
       "    <tr>\n",
       "      <th>3</th>\n",
       "      <td>1</td>\n",
       "      <td>86</td>\n",
       "      <td>0.07</td>\n",
       "      <td>1.91</td>\n",
       "      <td>0.109</td>\n",
       "    </tr>\n",
       "    <tr>\n",
       "      <th>4</th>\n",
       "      <td>1</td>\n",
       "      <td>158</td>\n",
       "      <td>0.13</td>\n",
       "      <td>0.97</td>\n",
       "      <td>0.230</td>\n",
       "    </tr>\n",
       "  </tbody>\n",
       "</table>\n",
       "</div>"
      ],
      "text/plain": [
       "   A  Score    X3    X4      Y\n",
       "0  0     69 -0.56  1.20  0.286\n",
       "1  1    145 -0.23  0.67  0.196\n",
       "2  0    125  1.56  0.98  0.261\n",
       "3  1     86  0.07  1.91  0.109\n",
       "4  1    158  0.13  0.97  0.230"
      ]
     },
     "execution_count": 8,
     "metadata": {},
     "output_type": "execute_result"
    }
   ],
   "source": [
    "df = pd.read_csv(\"data/data-attendance-5.txt\")\n",
    "print(len(df))\n",
    "df.head(5)"
   ]
  },
  {
   "cell_type": "code",
   "execution_count": 9,
   "metadata": {},
   "outputs": [],
   "source": [
    "X = df.values[:, :4]\n",
    "X[:, 1] = X[:, 1] / 200\n",
    "\n",
    "data = {\n",
    "    \"N\": len(df),\n",
    "    \"D\": df.shape[1] - 1,\n",
    "    \"X\": X,\n",
    "    \"Y\": df[\"Y\"].values\n",
    "}"
   ]
  },
  {
   "cell_type": "code",
   "execution_count": 10,
   "metadata": {},
   "outputs": [
    {
     "name": "stderr",
     "output_type": "stream",
     "text": [
      "INFO:cmdstanpy:compiling stan program, exe file: /workdir/chapter09/model/model9-3\n",
      "INFO:cmdstanpy:compiler options: stanc_options=None, cpp_options=None\n",
      "INFO:cmdstanpy:compiled model file: /workdir/chapter09/model/model9-3\n"
     ]
    },
    {
     "name": "stdout",
     "output_type": "stream",
     "text": [
      "CmdStanModel: name=model9-3\n",
      "\t stan_file=/workdir/chapter09/model/model9-3.stan\n",
      "\t exe_file=/workdir/chapter09/model/model9-3\n",
      "\t compiler_optons=stanc_options=None, cpp_options=None\n"
     ]
    }
   ],
   "source": [
    "model9_3 = CmdStanModel(stan_file=\"model/model9-3.stan\")\n",
    "print(model9_3)"
   ]
  },
  {
   "cell_type": "code",
   "execution_count": 11,
   "metadata": {},
   "outputs": [
    {
     "name": "stderr",
     "output_type": "stream",
     "text": [
      "INFO:cmdstanpy:start chain 1\n",
      "INFO:cmdstanpy:start chain 2\n",
      "INFO:cmdstanpy:start chain 3\n",
      "INFO:cmdstanpy:start chain 4\n",
      "INFO:cmdstanpy:finish chain 2\n",
      "INFO:cmdstanpy:finish chain 1\n",
      "INFO:cmdstanpy:finish chain 3\n",
      "INFO:cmdstanpy:finish chain 4\n"
     ]
    },
    {
     "name": "stdout",
     "output_type": "stream",
     "text": [
      "0.33545875549316406\n"
     ]
    }
   ],
   "source": [
    "time_start = time.time()\n",
    "fit9_3 = model9_3.sample(data=data)\n",
    "time_finish = time.time()\n",
    "print(time_finish - time_start)"
   ]
  },
  {
   "cell_type": "code",
   "execution_count": 12,
   "metadata": {},
   "outputs": [
    {
     "name": "stdout",
     "output_type": "stream",
     "text": [
      "b : (4000, 4)\n",
      "sigma : (4000,)\n",
      "mu : (4000, 50)\n"
     ]
    }
   ],
   "source": [
    "for k, v in fit9_3.stan_variables().items():\n",
    "    print(k, \":\", v.shape)"
   ]
  }
 ],
 "metadata": {
  "kernelspec": {
   "display_name": "Python 3",
   "language": "python",
   "name": "python3"
  },
  "language_info": {
   "codemirror_mode": {
    "name": "ipython",
    "version": 3
   },
   "file_extension": ".py",
   "mimetype": "text/x-python",
   "name": "python",
   "nbconvert_exporter": "python",
   "pygments_lexer": "ipython3",
   "version": "3.8.5"
  }
 },
 "nbformat": 4,
 "nbformat_minor": 4
}
