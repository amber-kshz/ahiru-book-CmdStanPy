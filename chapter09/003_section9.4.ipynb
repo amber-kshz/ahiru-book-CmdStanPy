{
 "cells": [
  {
   "cell_type": "code",
   "execution_count": 1,
   "metadata": {},
   "outputs": [],
   "source": [
    "import pandas as pd\n",
    "import time\n",
    "from cmdstanpy import CmdStanModel\n",
    "from collections import Counter"
   ]
  },
  {
   "cell_type": "markdown",
   "metadata": {},
   "source": [
    "# Section 9.4.1"
   ]
  },
  {
   "cell_type": "code",
   "execution_count": 2,
   "metadata": {},
   "outputs": [
    {
     "name": "stdout",
     "output_type": "stream",
     "text": [
      "200\n"
     ]
    },
    {
     "data": {
      "text/html": [
       "<div>\n",
       "<style scoped>\n",
       "    .dataframe tbody tr th:only-of-type {\n",
       "        vertical-align: middle;\n",
       "    }\n",
       "\n",
       "    .dataframe tbody tr th {\n",
       "        vertical-align: top;\n",
       "    }\n",
       "\n",
       "    .dataframe thead th {\n",
       "        text-align: right;\n",
       "    }\n",
       "</style>\n",
       "<table border=\"1\" class=\"dataframe\">\n",
       "  <thead>\n",
       "    <tr style=\"text-align: right;\">\n",
       "      <th></th>\n",
       "      <th>Face</th>\n",
       "    </tr>\n",
       "  </thead>\n",
       "  <tbody>\n",
       "    <tr>\n",
       "      <th>0</th>\n",
       "      <td>1</td>\n",
       "    </tr>\n",
       "    <tr>\n",
       "      <th>1</th>\n",
       "      <td>2</td>\n",
       "    </tr>\n",
       "    <tr>\n",
       "      <th>2</th>\n",
       "      <td>6</td>\n",
       "    </tr>\n",
       "    <tr>\n",
       "      <th>3</th>\n",
       "      <td>5</td>\n",
       "    </tr>\n",
       "    <tr>\n",
       "      <th>4</th>\n",
       "      <td>4</td>\n",
       "    </tr>\n",
       "  </tbody>\n",
       "</table>\n",
       "</div>"
      ],
      "text/plain": [
       "   Face\n",
       "0     1\n",
       "1     2\n",
       "2     6\n",
       "3     5\n",
       "4     4"
      ]
     },
     "execution_count": 2,
     "metadata": {},
     "output_type": "execute_result"
    }
   ],
   "source": [
    "df = pd.read_csv(\"data/data-dice.txt\")\n",
    "print(len(df))\n",
    "df.head(5)"
   ]
  },
  {
   "cell_type": "code",
   "execution_count": 3,
   "metadata": {},
   "outputs": [
    {
     "name": "stderr",
     "output_type": "stream",
     "text": [
      "INFO:cmdstanpy:found newer exe file, not recompiling\n",
      "INFO:cmdstanpy:compiled model file: /workdir/chapter09/model/model9-4\n",
      "INFO:cmdstanpy:start chain 1\n",
      "INFO:cmdstanpy:start chain 2\n",
      "INFO:cmdstanpy:start chain 3\n",
      "INFO:cmdstanpy:start chain 4\n"
     ]
    },
    {
     "name": "stdout",
     "output_type": "stream",
     "text": [
      "CmdStanModel: name=model9-4\n",
      "\t stan_file=/workdir/chapter09/model/model9-4.stan\n",
      "\t exe_file=/workdir/chapter09/model/model9-4\n",
      "\t compiler_optons=stanc_options=None, cpp_options=None\n"
     ]
    },
    {
     "name": "stderr",
     "output_type": "stream",
     "text": [
      "INFO:cmdstanpy:finish chain 2\n",
      "INFO:cmdstanpy:finish chain 3\n",
      "INFO:cmdstanpy:finish chain 1\n",
      "INFO:cmdstanpy:finish chain 4\n"
     ]
    },
    {
     "name": "stdout",
     "output_type": "stream",
     "text": [
      "Sampling time : 0.5985410213470459\n",
      "posterior mean of theta :  [0.10715113 0.36885211 0.1012979  0.25248734 0.09716799 0.07304352]\n"
     ]
    }
   ],
   "source": [
    "model9_4 = CmdStanModel(stan_file=\"model/model9-4.stan\")\n",
    "print(model9_4)\n",
    "\n",
    "data = {\n",
    "    \"N\": len(df),\n",
    "    \"K\": 6,\n",
    "    \"Y\": df[\"Face\"].values\n",
    "}\n",
    "\n",
    "time_start = time.time()\n",
    "fit9_4 = model9_4.sample(data=data)\n",
    "time_finish = time.time()\n",
    "print(\"Sampling time :\", time_finish - time_start)\n",
    "print(\"posterior mean of theta : \", fit9_4.stan_variable(\"theta\").mean(axis=0))"
   ]
  },
  {
   "cell_type": "code",
   "execution_count": 4,
   "metadata": {},
   "outputs": [
    {
     "name": "stderr",
     "output_type": "stream",
     "text": [
      "INFO:cmdstanpy:compiling stan program, exe file: /workdir/chapter09/model/model9-5\n",
      "INFO:cmdstanpy:compiler options: stanc_options=None, cpp_options=None\n",
      "INFO:cmdstanpy:compiled model file: /workdir/chapter09/model/model9-5\n",
      "INFO:cmdstanpy:start chain 1\n",
      "INFO:cmdstanpy:start chain 2\n",
      "INFO:cmdstanpy:start chain 3\n",
      "INFO:cmdstanpy:start chain 4\n",
      "INFO:cmdstanpy:finish chain 3\n",
      "INFO:cmdstanpy:finish chain 2\n",
      "INFO:cmdstanpy:finish chain 1\n",
      "INFO:cmdstanpy:finish chain 4\n"
     ]
    },
    {
     "name": "stdout",
     "output_type": "stream",
     "text": [
      "CmdStanModel: name=model9-5\n",
      "\t stan_file=/workdir/chapter09/model/model9-5.stan\n",
      "\t exe_file=/workdir/chapter09/model/model9-5\n",
      "\t compiler_optons=stanc_options=None, cpp_options=None\n",
      "Sampling time : 0.18422770500183105\n",
      "posterior mean of theta :  [0.10696098 0.36902726 0.10155099 0.25263283 0.09696019 0.07286775]\n"
     ]
    }
   ],
   "source": [
    "model9_5 = CmdStanModel(stan_file=\"model/model9-5.stan\")\n",
    "print(model9_5)\n",
    "\n",
    "\n",
    "cntr = Counter(df[\"Face\"].values)\n",
    "data = {\n",
    "    \"K\": 6,\n",
    "    \"Y\": [cntr[i+1] for i in range(6)]\n",
    "}\n",
    "\n",
    "time_start = time.time()\n",
    "fit9_5 = model9_5.sample(data=data)\n",
    "time_finish = time.time()\n",
    "print(\"Sampling time :\", time_finish - time_start)\n",
    "print(\"posterior mean of theta : \", fit9_5.stan_variable(\"theta\").mean(axis=0))"
   ]
  }
 ],
 "metadata": {
  "kernelspec": {
   "display_name": "Python 3",
   "language": "python",
   "name": "python3"
  },
  "language_info": {
   "codemirror_mode": {
    "name": "ipython",
    "version": 3
   },
   "file_extension": ".py",
   "mimetype": "text/x-python",
   "name": "python",
   "nbconvert_exporter": "python",
   "pygments_lexer": "ipython3",
   "version": "3.8.5"
  }
 },
 "nbformat": 4,
 "nbformat_minor": 4
}
