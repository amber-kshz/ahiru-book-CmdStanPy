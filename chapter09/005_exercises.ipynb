{
 "cells": [
  {
   "cell_type": "code",
   "execution_count": 1,
   "metadata": {},
   "outputs": [],
   "source": [
    "import numpy as np\n",
    "import pandas as pd\n",
    "import time\n",
    "from cmdstanpy import CmdStanModel"
   ]
  },
  {
   "cell_type": "markdown",
   "metadata": {},
   "source": [
    "# Exercise (1)"
   ]
  },
  {
   "cell_type": "code",
   "execution_count": 2,
   "metadata": {},
   "outputs": [
    {
     "name": "stdout",
     "output_type": "stream",
     "text": [
      "A        50\n",
      "Score    50\n",
      "Y        50\n",
      "dtype: int64\n"
     ]
    },
    {
     "data": {
      "text/html": [
       "<div>\n",
       "<style scoped>\n",
       "    .dataframe tbody tr th:only-of-type {\n",
       "        vertical-align: middle;\n",
       "    }\n",
       "\n",
       "    .dataframe tbody tr th {\n",
       "        vertical-align: top;\n",
       "    }\n",
       "\n",
       "    .dataframe thead th {\n",
       "        text-align: right;\n",
       "    }\n",
       "</style>\n",
       "<table border=\"1\" class=\"dataframe\">\n",
       "  <thead>\n",
       "    <tr style=\"text-align: right;\">\n",
       "      <th></th>\n",
       "      <th>A</th>\n",
       "      <th>Score</th>\n",
       "      <th>Y</th>\n",
       "    </tr>\n",
       "  </thead>\n",
       "  <tbody>\n",
       "    <tr>\n",
       "      <th>0</th>\n",
       "      <td>0</td>\n",
       "      <td>69</td>\n",
       "      <td>0.286</td>\n",
       "    </tr>\n",
       "    <tr>\n",
       "      <th>1</th>\n",
       "      <td>1</td>\n",
       "      <td>145</td>\n",
       "      <td>0.196</td>\n",
       "    </tr>\n",
       "    <tr>\n",
       "      <th>2</th>\n",
       "      <td>0</td>\n",
       "      <td>125</td>\n",
       "      <td>0.261</td>\n",
       "    </tr>\n",
       "    <tr>\n",
       "      <th>3</th>\n",
       "      <td>1</td>\n",
       "      <td>86</td>\n",
       "      <td>0.109</td>\n",
       "    </tr>\n",
       "    <tr>\n",
       "      <th>4</th>\n",
       "      <td>1</td>\n",
       "      <td>158</td>\n",
       "      <td>0.230</td>\n",
       "    </tr>\n",
       "  </tbody>\n",
       "</table>\n",
       "</div>"
      ],
      "text/plain": [
       "   A  Score      Y\n",
       "0  0     69  0.286\n",
       "1  1    145  0.196\n",
       "2  0    125  0.261\n",
       "3  1     86  0.109\n",
       "4  1    158  0.230"
      ]
     },
     "execution_count": 2,
     "metadata": {},
     "output_type": "execute_result"
    }
   ],
   "source": [
    "df1 = pd.read_csv(\"../chapter05/data/data-attendance-1.txt\")\n",
    "print(df1.count())\n",
    "df1.head(5)"
   ]
  },
  {
   "cell_type": "code",
   "execution_count": 3,
   "metadata": {},
   "outputs": [
    {
     "name": "stderr",
     "output_type": "stream",
     "text": [
      "INFO:cmdstanpy:found newer exe file, not recompiling\n",
      "INFO:cmdstanpy:compiled model file: /workdir/chapter05/model/model5-3\n",
      "INFO:cmdstanpy:start chain 1\n",
      "INFO:cmdstanpy:start chain 2\n",
      "INFO:cmdstanpy:start chain 3\n",
      "INFO:cmdstanpy:start chain 4\n"
     ]
    },
    {
     "name": "stdout",
     "output_type": "stream",
     "text": [
      "CmdStanModel: name=model5-3\n",
      "\t stan_file=/workdir/chapter05/model/model5-3.stan\n",
      "\t exe_file=/workdir/chapter05/model/model5-3\n",
      "\t compiler_optons=stanc_options=None, cpp_options=None\n"
     ]
    },
    {
     "name": "stderr",
     "output_type": "stream",
     "text": [
      "INFO:cmdstanpy:finish chain 3\n",
      "INFO:cmdstanpy:finish chain 1\n",
      "INFO:cmdstanpy:finish chain 4\n",
      "INFO:cmdstanpy:finish chain 2\n"
     ]
    },
    {
     "name": "stdout",
     "output_type": "stream",
     "text": [
      "Sampling time : 0.5099966526031494\n"
     ]
    }
   ],
   "source": [
    "data1_1 = {\n",
    "    \"N\": len(df1),\n",
    "    \"A\": df1[\"A\"].values,\n",
    "    \"Score\": df1[\"Score\"].values/200.0,\n",
    "    \"Y\": df1[\"Y\"].values\n",
    "}\n",
    "\n",
    "model1_1 = CmdStanModel(stan_file=\"../chapter05/model/model5-3.stan\")\n",
    "print(model1_1)\n",
    "\n",
    "time_start = time.time()\n",
    "fit1_1 = model1_1.sample(data=data1_1)\n",
    "time_finish = time.time()\n",
    "print(\"Sampling time :\", time_finish - time_start)"
   ]
  },
  {
   "cell_type": "code",
   "execution_count": 4,
   "metadata": {},
   "outputs": [
    {
     "data": {
      "text/html": [
       "<div>\n",
       "<style scoped>\n",
       "    .dataframe tbody tr th:only-of-type {\n",
       "        vertical-align: middle;\n",
       "    }\n",
       "\n",
       "    .dataframe tbody tr th {\n",
       "        vertical-align: top;\n",
       "    }\n",
       "\n",
       "    .dataframe thead th {\n",
       "        text-align: right;\n",
       "    }\n",
       "</style>\n",
       "<table border=\"1\" class=\"dataframe\">\n",
       "  <thead>\n",
       "    <tr style=\"text-align: right;\">\n",
       "      <th></th>\n",
       "      <th>Mean</th>\n",
       "      <th>MCSE</th>\n",
       "      <th>StdDev</th>\n",
       "      <th>5%</th>\n",
       "      <th>50%</th>\n",
       "      <th>95%</th>\n",
       "      <th>N_Eff</th>\n",
       "      <th>N_Eff/s</th>\n",
       "      <th>R_hat</th>\n",
       "    </tr>\n",
       "    <tr>\n",
       "      <th>name</th>\n",
       "      <th></th>\n",
       "      <th></th>\n",
       "      <th></th>\n",
       "      <th></th>\n",
       "      <th></th>\n",
       "      <th></th>\n",
       "      <th></th>\n",
       "      <th></th>\n",
       "      <th></th>\n",
       "    </tr>\n",
       "  </thead>\n",
       "  <tbody>\n",
       "    <tr>\n",
       "      <th>b1</th>\n",
       "      <td>0.124567</td>\n",
       "      <td>0.000847</td>\n",
       "      <td>0.033527</td>\n",
       "      <td>0.071547</td>\n",
       "      <td>0.124413</td>\n",
       "      <td>0.180730</td>\n",
       "      <td>1565.03</td>\n",
       "      <td>1809.29</td>\n",
       "      <td>1.00028</td>\n",
       "    </tr>\n",
       "    <tr>\n",
       "      <th>b2</th>\n",
       "      <td>-0.143845</td>\n",
       "      <td>0.000303</td>\n",
       "      <td>0.015243</td>\n",
       "      <td>-0.169409</td>\n",
       "      <td>-0.143577</td>\n",
       "      <td>-0.119465</td>\n",
       "      <td>2534.49</td>\n",
       "      <td>2930.05</td>\n",
       "      <td>1.00061</td>\n",
       "    </tr>\n",
       "    <tr>\n",
       "      <th>b3</th>\n",
       "      <td>0.323057</td>\n",
       "      <td>0.001328</td>\n",
       "      <td>0.052846</td>\n",
       "      <td>0.233088</td>\n",
       "      <td>0.323508</td>\n",
       "      <td>0.408083</td>\n",
       "      <td>1584.44</td>\n",
       "      <td>1831.72</td>\n",
       "      <td>1.00017</td>\n",
       "    </tr>\n",
       "  </tbody>\n",
       "</table>\n",
       "</div>"
      ],
      "text/plain": [
       "          Mean      MCSE    StdDev        5%       50%       95%    N_Eff  \\\n",
       "name                                                                        \n",
       "b1    0.124567  0.000847  0.033527  0.071547  0.124413  0.180730  1565.03   \n",
       "b2   -0.143845  0.000303  0.015243 -0.169409 -0.143577 -0.119465  2534.49   \n",
       "b3    0.323057  0.001328  0.052846  0.233088  0.323508  0.408083  1584.44   \n",
       "\n",
       "      N_Eff/s    R_hat  \n",
       "name                    \n",
       "b1    1809.29  1.00028  \n",
       "b2    2930.05  1.00061  \n",
       "b3    1831.72  1.00017  "
      ]
     },
     "execution_count": 4,
     "metadata": {},
     "output_type": "execute_result"
    }
   ],
   "source": [
    "fit1_1.summary().loc[[\"b1\", \"b2\", \"b3\"]]"
   ]
  },
  {
   "cell_type": "code",
   "execution_count": 5,
   "metadata": {},
   "outputs": [
    {
     "name": "stderr",
     "output_type": "stream",
     "text": [
      "INFO:cmdstanpy:compiling stan program, exe file: /workdir/chapter09/model/exercise9-1\n",
      "INFO:cmdstanpy:compiler options: stanc_options=None, cpp_options=None\n",
      "INFO:cmdstanpy:compiled model file: /workdir/chapter09/model/exercise9-1\n",
      "INFO:cmdstanpy:start chain 1\n",
      "INFO:cmdstanpy:start chain 2\n",
      "INFO:cmdstanpy:start chain 3\n",
      "INFO:cmdstanpy:start chain 4\n"
     ]
    },
    {
     "name": "stdout",
     "output_type": "stream",
     "text": [
      "CmdStanModel: name=exercise9-1\n",
      "\t stan_file=/workdir/chapter09/model/exercise9-1.stan\n",
      "\t exe_file=/workdir/chapter09/model/exercise9-1\n",
      "\t compiler_optons=stanc_options=None, cpp_options=None\n"
     ]
    },
    {
     "name": "stderr",
     "output_type": "stream",
     "text": [
      "INFO:cmdstanpy:finish chain 1\n",
      "INFO:cmdstanpy:finish chain 2\n",
      "INFO:cmdstanpy:finish chain 4\n",
      "INFO:cmdstanpy:finish chain 3\n"
     ]
    },
    {
     "name": "stdout",
     "output_type": "stream",
     "text": [
      "Sampling time : 0.3684258460998535\n"
     ]
    }
   ],
   "source": [
    "X = np.zeros((len(df1), 3))\n",
    "X[:, 0] = np.ones(len(df1))\n",
    "X[:, 1] = df1[\"A\"].values\n",
    "X[:, 2] = df1[\"Score\"].values / 200\n",
    "\n",
    "data1_2 = {\n",
    "    \"N\": len(df1),\n",
    "    \"D\": 3,\n",
    "    \"X\": X,\n",
    "    \"Y\": df1[\"Y\"].values\n",
    "}\n",
    "\n",
    "model1_2 = CmdStanModel(stan_file=\"model/exercise9-1.stan\")\n",
    "print(model1_2)\n",
    "\n",
    "time_start = time.time()\n",
    "fit1_2 = model1_2.sample(data=data1_2)\n",
    "time_finish = time.time()\n",
    "print(\"Sampling time :\", time_finish - time_start)"
   ]
  },
  {
   "cell_type": "code",
   "execution_count": 6,
   "metadata": {},
   "outputs": [
    {
     "data": {
      "text/html": [
       "<div>\n",
       "<style scoped>\n",
       "    .dataframe tbody tr th:only-of-type {\n",
       "        vertical-align: middle;\n",
       "    }\n",
       "\n",
       "    .dataframe tbody tr th {\n",
       "        vertical-align: top;\n",
       "    }\n",
       "\n",
       "    .dataframe thead th {\n",
       "        text-align: right;\n",
       "    }\n",
       "</style>\n",
       "<table border=\"1\" class=\"dataframe\">\n",
       "  <thead>\n",
       "    <tr style=\"text-align: right;\">\n",
       "      <th></th>\n",
       "      <th>Mean</th>\n",
       "      <th>MCSE</th>\n",
       "      <th>StdDev</th>\n",
       "      <th>5%</th>\n",
       "      <th>50%</th>\n",
       "      <th>95%</th>\n",
       "      <th>N_Eff</th>\n",
       "      <th>N_Eff/s</th>\n",
       "      <th>R_hat</th>\n",
       "    </tr>\n",
       "    <tr>\n",
       "      <th>name</th>\n",
       "      <th></th>\n",
       "      <th></th>\n",
       "      <th></th>\n",
       "      <th></th>\n",
       "      <th></th>\n",
       "      <th></th>\n",
       "      <th></th>\n",
       "      <th></th>\n",
       "      <th></th>\n",
       "    </tr>\n",
       "  </thead>\n",
       "  <tbody>\n",
       "    <tr>\n",
       "      <th>b[1]</th>\n",
       "      <td>0.12</td>\n",
       "      <td>0.00078</td>\n",
       "      <td>0.034</td>\n",
       "      <td>0.068</td>\n",
       "      <td>0.12</td>\n",
       "      <td>0.18</td>\n",
       "      <td>1917.0</td>\n",
       "      <td>3101.0</td>\n",
       "      <td>1.0</td>\n",
       "    </tr>\n",
       "    <tr>\n",
       "      <th>b[2]</th>\n",
       "      <td>-0.14</td>\n",
       "      <td>0.00031</td>\n",
       "      <td>0.015</td>\n",
       "      <td>-0.170</td>\n",
       "      <td>-0.14</td>\n",
       "      <td>-0.12</td>\n",
       "      <td>2385.0</td>\n",
       "      <td>3859.0</td>\n",
       "      <td>1.0</td>\n",
       "    </tr>\n",
       "    <tr>\n",
       "      <th>b[3]</th>\n",
       "      <td>0.32</td>\n",
       "      <td>0.00120</td>\n",
       "      <td>0.054</td>\n",
       "      <td>0.240</td>\n",
       "      <td>0.33</td>\n",
       "      <td>0.41</td>\n",
       "      <td>1952.0</td>\n",
       "      <td>3159.0</td>\n",
       "      <td>1.0</td>\n",
       "    </tr>\n",
       "  </tbody>\n",
       "</table>\n",
       "</div>"
      ],
      "text/plain": [
       "      Mean     MCSE  StdDev     5%   50%   95%   N_Eff  N_Eff/s  R_hat\n",
       "name                                                                  \n",
       "b[1]  0.12  0.00078   0.034  0.068  0.12  0.18  1917.0   3101.0    1.0\n",
       "b[2] -0.14  0.00031   0.015 -0.170 -0.14 -0.12  2385.0   3859.0    1.0\n",
       "b[3]  0.32  0.00120   0.054  0.240  0.33  0.41  1952.0   3159.0    1.0"
      ]
     },
     "execution_count": 6,
     "metadata": {},
     "output_type": "execute_result"
    }
   ],
   "source": [
    "fit1_2.summary().loc[[\"b[1]\", \"b[2]\", \"b[3]\"]]"
   ]
  },
  {
   "cell_type": "markdown",
   "metadata": {},
   "source": [
    "# Exercise (2)"
   ]
  },
  {
   "cell_type": "code",
   "execution_count": 7,
   "metadata": {},
   "outputs": [
    {
     "name": "stdout",
     "output_type": "stream",
     "text": [
      "PersonID    50\n",
      "A           50\n",
      "Score       50\n",
      "M           50\n",
      "Y           50\n",
      "dtype: int64\n"
     ]
    },
    {
     "data": {
      "text/html": [
       "<div>\n",
       "<style scoped>\n",
       "    .dataframe tbody tr th:only-of-type {\n",
       "        vertical-align: middle;\n",
       "    }\n",
       "\n",
       "    .dataframe tbody tr th {\n",
       "        vertical-align: top;\n",
       "    }\n",
       "\n",
       "    .dataframe thead th {\n",
       "        text-align: right;\n",
       "    }\n",
       "</style>\n",
       "<table border=\"1\" class=\"dataframe\">\n",
       "  <thead>\n",
       "    <tr style=\"text-align: right;\">\n",
       "      <th></th>\n",
       "      <th>PersonID</th>\n",
       "      <th>A</th>\n",
       "      <th>Score</th>\n",
       "      <th>M</th>\n",
       "      <th>Y</th>\n",
       "    </tr>\n",
       "  </thead>\n",
       "  <tbody>\n",
       "    <tr>\n",
       "      <th>0</th>\n",
       "      <td>1</td>\n",
       "      <td>0</td>\n",
       "      <td>69</td>\n",
       "      <td>43</td>\n",
       "      <td>38</td>\n",
       "    </tr>\n",
       "    <tr>\n",
       "      <th>1</th>\n",
       "      <td>2</td>\n",
       "      <td>1</td>\n",
       "      <td>145</td>\n",
       "      <td>56</td>\n",
       "      <td>40</td>\n",
       "    </tr>\n",
       "    <tr>\n",
       "      <th>2</th>\n",
       "      <td>3</td>\n",
       "      <td>0</td>\n",
       "      <td>125</td>\n",
       "      <td>32</td>\n",
       "      <td>24</td>\n",
       "    </tr>\n",
       "    <tr>\n",
       "      <th>3</th>\n",
       "      <td>4</td>\n",
       "      <td>1</td>\n",
       "      <td>86</td>\n",
       "      <td>45</td>\n",
       "      <td>33</td>\n",
       "    </tr>\n",
       "    <tr>\n",
       "      <th>4</th>\n",
       "      <td>5</td>\n",
       "      <td>1</td>\n",
       "      <td>158</td>\n",
       "      <td>33</td>\n",
       "      <td>23</td>\n",
       "    </tr>\n",
       "  </tbody>\n",
       "</table>\n",
       "</div>"
      ],
      "text/plain": [
       "   PersonID  A  Score   M   Y\n",
       "0         1  0     69  43  38\n",
       "1         2  1    145  56  40\n",
       "2         3  0    125  32  24\n",
       "3         4  1     86  45  33\n",
       "4         5  1    158  33  23"
      ]
     },
     "execution_count": 7,
     "metadata": {},
     "output_type": "execute_result"
    }
   ],
   "source": [
    "df2 = pd.read_csv(\"../chapter05/data/data-attendance-2.txt\")\n",
    "print(df2.count())\n",
    "df2.head(5)"
   ]
  },
  {
   "cell_type": "code",
   "execution_count": 8,
   "metadata": {},
   "outputs": [
    {
     "name": "stderr",
     "output_type": "stream",
     "text": [
      "INFO:cmdstanpy:found newer exe file, not recompiling\n",
      "INFO:cmdstanpy:compiled model file: /workdir/chapter05/model/model5-6b\n",
      "INFO:cmdstanpy:start chain 1\n",
      "INFO:cmdstanpy:start chain 2\n",
      "INFO:cmdstanpy:start chain 3\n",
      "INFO:cmdstanpy:start chain 4\n"
     ]
    },
    {
     "name": "stdout",
     "output_type": "stream",
     "text": [
      "CmdStanModel: name=model5-6b\n",
      "\t stan_file=/workdir/chapter05/model/model5-6b.stan\n",
      "\t exe_file=/workdir/chapter05/model/model5-6b\n",
      "\t compiler_optons=stanc_options=None, cpp_options=None\n"
     ]
    },
    {
     "name": "stderr",
     "output_type": "stream",
     "text": [
      "INFO:cmdstanpy:finish chain 2\n",
      "INFO:cmdstanpy:finish chain 3\n",
      "INFO:cmdstanpy:finish chain 1\n",
      "INFO:cmdstanpy:finish chain 4\n"
     ]
    },
    {
     "name": "stdout",
     "output_type": "stream",
     "text": [
      "Sampling time : 0.4942924976348877\n"
     ]
    }
   ],
   "source": [
    "data2_1 = {\n",
    "    \"N\" : len(df2),\n",
    "    \"A\" : df2[\"A\"].values,\n",
    "    \"Score\" : df2[\"Score\"].values/200,\n",
    "    \"M\" : df2[\"M\"].values,\n",
    "}\n",
    "\n",
    "model2_1 = CmdStanModel(stan_file=\"../chapter05/model/model5-6b.stan\")\n",
    "print(model2_1)\n",
    "\n",
    "time_start = time.time()\n",
    "fit2_1 = model2_1.sample(data=data2_1)\n",
    "time_finish = time.time()\n",
    "print(\"Sampling time :\", time_finish - time_start)"
   ]
  },
  {
   "cell_type": "code",
   "execution_count": 9,
   "metadata": {},
   "outputs": [
    {
     "data": {
      "text/html": [
       "<div>\n",
       "<style scoped>\n",
       "    .dataframe tbody tr th:only-of-type {\n",
       "        vertical-align: middle;\n",
       "    }\n",
       "\n",
       "    .dataframe tbody tr th {\n",
       "        vertical-align: top;\n",
       "    }\n",
       "\n",
       "    .dataframe thead th {\n",
       "        text-align: right;\n",
       "    }\n",
       "</style>\n",
       "<table border=\"1\" class=\"dataframe\">\n",
       "  <thead>\n",
       "    <tr style=\"text-align: right;\">\n",
       "      <th></th>\n",
       "      <th>Mean</th>\n",
       "      <th>MCSE</th>\n",
       "      <th>StdDev</th>\n",
       "      <th>5%</th>\n",
       "      <th>50%</th>\n",
       "      <th>95%</th>\n",
       "      <th>N_Eff</th>\n",
       "      <th>N_Eff/s</th>\n",
       "      <th>R_hat</th>\n",
       "    </tr>\n",
       "    <tr>\n",
       "      <th>name</th>\n",
       "      <th></th>\n",
       "      <th></th>\n",
       "      <th></th>\n",
       "      <th></th>\n",
       "      <th></th>\n",
       "      <th></th>\n",
       "      <th></th>\n",
       "      <th></th>\n",
       "      <th></th>\n",
       "    </tr>\n",
       "  </thead>\n",
       "  <tbody>\n",
       "    <tr>\n",
       "      <th>b[1]</th>\n",
       "      <td>3.60</td>\n",
       "      <td>0.00260</td>\n",
       "      <td>0.094</td>\n",
       "      <td>3.40</td>\n",
       "      <td>3.60</td>\n",
       "      <td>3.70</td>\n",
       "      <td>1321.0</td>\n",
       "      <td>1738.0</td>\n",
       "      <td>1.0</td>\n",
       "    </tr>\n",
       "    <tr>\n",
       "      <th>b[2]</th>\n",
       "      <td>0.27</td>\n",
       "      <td>0.00097</td>\n",
       "      <td>0.041</td>\n",
       "      <td>0.20</td>\n",
       "      <td>0.27</td>\n",
       "      <td>0.33</td>\n",
       "      <td>1780.0</td>\n",
       "      <td>2342.0</td>\n",
       "      <td>1.0</td>\n",
       "    </tr>\n",
       "    <tr>\n",
       "      <th>b[3]</th>\n",
       "      <td>0.29</td>\n",
       "      <td>0.00400</td>\n",
       "      <td>0.150</td>\n",
       "      <td>0.05</td>\n",
       "      <td>0.29</td>\n",
       "      <td>0.53</td>\n",
       "      <td>1348.0</td>\n",
       "      <td>1774.0</td>\n",
       "      <td>1.0</td>\n",
       "    </tr>\n",
       "  </tbody>\n",
       "</table>\n",
       "</div>"
      ],
      "text/plain": [
       "      Mean     MCSE  StdDev    5%   50%   95%   N_Eff  N_Eff/s  R_hat\n",
       "name                                                                 \n",
       "b[1]  3.60  0.00260   0.094  3.40  3.60  3.70  1321.0   1738.0    1.0\n",
       "b[2]  0.27  0.00097   0.041  0.20  0.27  0.33  1780.0   2342.0    1.0\n",
       "b[3]  0.29  0.00400   0.150  0.05  0.29  0.53  1348.0   1774.0    1.0"
      ]
     },
     "execution_count": 9,
     "metadata": {},
     "output_type": "execute_result"
    }
   ],
   "source": [
    "fit2_1.summary().loc[[\"b[1]\", \"b[2]\", \"b[3]\"]]"
   ]
  },
  {
   "cell_type": "code",
   "execution_count": 10,
   "metadata": {},
   "outputs": [
    {
     "name": "stderr",
     "output_type": "stream",
     "text": [
      "INFO:cmdstanpy:compiling stan program, exe file: /workdir/chapter09/model/exercise9-2\n",
      "INFO:cmdstanpy:compiler options: stanc_options=None, cpp_options=None\n",
      "INFO:cmdstanpy:compiled model file: /workdir/chapter09/model/exercise9-2\n",
      "INFO:cmdstanpy:start chain 1\n",
      "INFO:cmdstanpy:start chain 2\n",
      "INFO:cmdstanpy:start chain 3\n",
      "INFO:cmdstanpy:start chain 4\n"
     ]
    },
    {
     "name": "stdout",
     "output_type": "stream",
     "text": [
      "CmdStanModel: name=exercise9-2\n",
      "\t stan_file=/workdir/chapter09/model/exercise9-2.stan\n",
      "\t exe_file=/workdir/chapter09/model/exercise9-2\n",
      "\t compiler_optons=stanc_options=None, cpp_options=None\n"
     ]
    },
    {
     "name": "stderr",
     "output_type": "stream",
     "text": [
      "INFO:cmdstanpy:finish chain 4\n",
      "INFO:cmdstanpy:finish chain 3\n",
      "INFO:cmdstanpy:finish chain 2\n",
      "INFO:cmdstanpy:finish chain 1\n"
     ]
    },
    {
     "name": "stdout",
     "output_type": "stream",
     "text": [
      "Sampling time : 0.4086613655090332\n"
     ]
    }
   ],
   "source": [
    "X = np.zeros((len(df2), 3))\n",
    "X[:, 0] = np.ones(len(df2))\n",
    "X[:, 1] = df2[\"A\"].values\n",
    "X[:, 2] = df2[\"Score\"].values / 200\n",
    "\n",
    "data2_2 = {\n",
    "    \"N\" : len(df2),\n",
    "    \"D\": 3,\n",
    "    \"X\": X,\n",
    "    \"M\" : df2[\"M\"].values,\n",
    "}\n",
    "\n",
    "model2_2 = CmdStanModel(stan_file=\"model/exercise9-2.stan\")\n",
    "print(model2_2)\n",
    "\n",
    "time_start = time.time()\n",
    "fit2_2 = model2_2.sample(data=data2_2)\n",
    "time_finish = time.time()\n",
    "print(\"Sampling time :\", time_finish - time_start)"
   ]
  },
  {
   "cell_type": "code",
   "execution_count": 11,
   "metadata": {},
   "outputs": [
    {
     "data": {
      "text/html": [
       "<div>\n",
       "<style scoped>\n",
       "    .dataframe tbody tr th:only-of-type {\n",
       "        vertical-align: middle;\n",
       "    }\n",
       "\n",
       "    .dataframe tbody tr th {\n",
       "        vertical-align: top;\n",
       "    }\n",
       "\n",
       "    .dataframe thead th {\n",
       "        text-align: right;\n",
       "    }\n",
       "</style>\n",
       "<table border=\"1\" class=\"dataframe\">\n",
       "  <thead>\n",
       "    <tr style=\"text-align: right;\">\n",
       "      <th></th>\n",
       "      <th>Mean</th>\n",
       "      <th>MCSE</th>\n",
       "      <th>StdDev</th>\n",
       "      <th>5%</th>\n",
       "      <th>50%</th>\n",
       "      <th>95%</th>\n",
       "      <th>N_Eff</th>\n",
       "      <th>N_Eff/s</th>\n",
       "      <th>R_hat</th>\n",
       "    </tr>\n",
       "    <tr>\n",
       "      <th>name</th>\n",
       "      <th></th>\n",
       "      <th></th>\n",
       "      <th></th>\n",
       "      <th></th>\n",
       "      <th></th>\n",
       "      <th></th>\n",
       "      <th></th>\n",
       "      <th></th>\n",
       "      <th></th>\n",
       "    </tr>\n",
       "  </thead>\n",
       "  <tbody>\n",
       "    <tr>\n",
       "      <th>b[1]</th>\n",
       "      <td>3.60</td>\n",
       "      <td>0.0028</td>\n",
       "      <td>0.097</td>\n",
       "      <td>3.400</td>\n",
       "      <td>3.60</td>\n",
       "      <td>3.70</td>\n",
       "      <td>1217.0</td>\n",
       "      <td>1726.0</td>\n",
       "      <td>1.0</td>\n",
       "    </tr>\n",
       "    <tr>\n",
       "      <th>b[2]</th>\n",
       "      <td>0.26</td>\n",
       "      <td>0.0010</td>\n",
       "      <td>0.040</td>\n",
       "      <td>0.200</td>\n",
       "      <td>0.26</td>\n",
       "      <td>0.33</td>\n",
       "      <td>1508.0</td>\n",
       "      <td>2139.0</td>\n",
       "      <td>1.0</td>\n",
       "    </tr>\n",
       "    <tr>\n",
       "      <th>b[3]</th>\n",
       "      <td>0.29</td>\n",
       "      <td>0.0040</td>\n",
       "      <td>0.150</td>\n",
       "      <td>0.061</td>\n",
       "      <td>0.29</td>\n",
       "      <td>0.54</td>\n",
       "      <td>1307.0</td>\n",
       "      <td>1854.0</td>\n",
       "      <td>1.0</td>\n",
       "    </tr>\n",
       "  </tbody>\n",
       "</table>\n",
       "</div>"
      ],
      "text/plain": [
       "      Mean    MCSE  StdDev     5%   50%   95%   N_Eff  N_Eff/s  R_hat\n",
       "name                                                                 \n",
       "b[1]  3.60  0.0028   0.097  3.400  3.60  3.70  1217.0   1726.0    1.0\n",
       "b[2]  0.26  0.0010   0.040  0.200  0.26  0.33  1508.0   2139.0    1.0\n",
       "b[3]  0.29  0.0040   0.150  0.061  0.29  0.54  1307.0   1854.0    1.0"
      ]
     },
     "execution_count": 11,
     "metadata": {},
     "output_type": "execute_result"
    }
   ],
   "source": [
    "fit2_2.summary().loc[[\"b[1]\", \"b[2]\", \"b[3]\"]]"
   ]
  },
  {
   "cell_type": "markdown",
   "metadata": {},
   "source": [
    "# Exercise (4)"
   ]
  },
  {
   "cell_type": "code",
   "execution_count": 12,
   "metadata": {},
   "outputs": [
    {
     "name": "stdout",
     "output_type": "stream",
     "text": [
      "300\n"
     ]
    },
    {
     "data": {
      "text/html": [
       "<div>\n",
       "<style scoped>\n",
       "    .dataframe tbody tr th:only-of-type {\n",
       "        vertical-align: middle;\n",
       "    }\n",
       "\n",
       "    .dataframe tbody tr th {\n",
       "        vertical-align: top;\n",
       "    }\n",
       "\n",
       "    .dataframe thead th {\n",
       "        text-align: right;\n",
       "    }\n",
       "</style>\n",
       "<table border=\"1\" class=\"dataframe\">\n",
       "  <thead>\n",
       "    <tr style=\"text-align: right;\">\n",
       "      <th></th>\n",
       "      <th>X</th>\n",
       "      <th>Y</th>\n",
       "      <th>KID</th>\n",
       "      <th>GID</th>\n",
       "    </tr>\n",
       "  </thead>\n",
       "  <tbody>\n",
       "    <tr>\n",
       "      <th>0</th>\n",
       "      <td>7</td>\n",
       "      <td>457</td>\n",
       "      <td>1</td>\n",
       "      <td>1</td>\n",
       "    </tr>\n",
       "    <tr>\n",
       "      <th>1</th>\n",
       "      <td>10</td>\n",
       "      <td>482</td>\n",
       "      <td>1</td>\n",
       "      <td>1</td>\n",
       "    </tr>\n",
       "    <tr>\n",
       "      <th>2</th>\n",
       "      <td>16</td>\n",
       "      <td>518</td>\n",
       "      <td>1</td>\n",
       "      <td>1</td>\n",
       "    </tr>\n",
       "    <tr>\n",
       "      <th>3</th>\n",
       "      <td>25</td>\n",
       "      <td>535</td>\n",
       "      <td>1</td>\n",
       "      <td>1</td>\n",
       "    </tr>\n",
       "    <tr>\n",
       "      <th>4</th>\n",
       "      <td>5</td>\n",
       "      <td>427</td>\n",
       "      <td>1</td>\n",
       "      <td>1</td>\n",
       "    </tr>\n",
       "  </tbody>\n",
       "</table>\n",
       "</div>"
      ],
      "text/plain": [
       "    X    Y  KID  GID\n",
       "0   7  457    1    1\n",
       "1  10  482    1    1\n",
       "2  16  518    1    1\n",
       "3  25  535    1    1\n",
       "4   5  427    1    1"
      ]
     },
     "execution_count": 12,
     "metadata": {},
     "output_type": "execute_result"
    }
   ],
   "source": [
    "df4 = pd.read_csv(\"../chapter08/data/data-salary-3.txt\")\n",
    "print(len(df4))\n",
    "df4.head(5)"
   ]
  },
  {
   "cell_type": "code",
   "execution_count": 13,
   "metadata": {},
   "outputs": [],
   "source": [
    "K2G = [0] * df4.nunique()[\"KID\"]\n",
    "tmp = df4.groupby(by=\"KID\").first()[\"GID\"]\n",
    "for KID, GID in zip(tmp.index, tmp.values):\n",
    "    K2G[KID-1] = int(GID)  # if it is not cast to int, \"x is not json serializable\" error occurs\n",
    "\n",
    "data4 = {\n",
    "    \"N\": len(df4),\n",
    "    \"G\": int(df4.nunique()[\"GID\"]),\n",
    "    \"K\": int(df4.nunique()[\"KID\"]),\n",
    "    \"X\": df4[\"X\"].values,\n",
    "    \"Y\": df4[\"Y\"].values,\n",
    "    \"KID\": df4[\"KID\"].values,\n",
    "    \"K2G\": K2G\n",
    "}"
   ]
  },
  {
   "cell_type": "code",
   "execution_count": 14,
   "metadata": {},
   "outputs": [
    {
     "name": "stderr",
     "output_type": "stream",
     "text": [
      "INFO:cmdstanpy:found newer exe file, not recompiling\n",
      "INFO:cmdstanpy:compiled model file: /workdir/chapter08/model/model8-5\n",
      "INFO:cmdstanpy:start chain 1\n",
      "INFO:cmdstanpy:start chain 2\n",
      "INFO:cmdstanpy:start chain 3\n",
      "INFO:cmdstanpy:start chain 4\n"
     ]
    },
    {
     "name": "stdout",
     "output_type": "stream",
     "text": [
      "CmdStanModel: name=model8-5\n",
      "\t stan_file=/workdir/chapter08/model/model8-5.stan\n",
      "\t exe_file=/workdir/chapter08/model/model8-5\n",
      "\t compiler_optons=stanc_options=None, cpp_options=None\n"
     ]
    },
    {
     "name": "stderr",
     "output_type": "stream",
     "text": [
      "INFO:cmdstanpy:finish chain 4\n",
      "INFO:cmdstanpy:finish chain 3\n",
      "INFO:cmdstanpy:finish chain 1\n",
      "INFO:cmdstanpy:finish chain 2\n"
     ]
    },
    {
     "name": "stdout",
     "output_type": "stream",
     "text": [
      "Sampling time : 13.45053744316101\n"
     ]
    }
   ],
   "source": [
    "model4_1 = CmdStanModel(stan_file=\"../chapter08/model/model8-5.stan\")\n",
    "print(model4_1)\n",
    "\n",
    "time_start = time.time()\n",
    "fit4_1 = model4_1.sample(data=data4)\n",
    "time_finish = time.time()\n",
    "print(\"Sampling time :\", time_finish - time_start)"
   ]
  },
  {
   "cell_type": "code",
   "execution_count": 15,
   "metadata": {},
   "outputs": [
    {
     "name": "stderr",
     "output_type": "stream",
     "text": [
      "INFO:cmdstanpy:compiling stan program, exe file: /workdir/chapter09/model/exercise9-4\n",
      "INFO:cmdstanpy:compiler options: stanc_options=None, cpp_options=None\n",
      "INFO:cmdstanpy:compiled model file: /workdir/chapter09/model/exercise9-4\n",
      "INFO:cmdstanpy:start chain 1\n",
      "INFO:cmdstanpy:start chain 2\n",
      "INFO:cmdstanpy:start chain 3\n",
      "INFO:cmdstanpy:start chain 4\n"
     ]
    },
    {
     "name": "stdout",
     "output_type": "stream",
     "text": [
      "CmdStanModel: name=exercise9-4\n",
      "\t stan_file=/workdir/chapter09/model/exercise9-4.stan\n",
      "\t exe_file=/workdir/chapter09/model/exercise9-4\n",
      "\t compiler_optons=stanc_options=None, cpp_options=None\n"
     ]
    },
    {
     "name": "stderr",
     "output_type": "stream",
     "text": [
      "INFO:cmdstanpy:finish chain 4\n",
      "INFO:cmdstanpy:finish chain 2\n",
      "INFO:cmdstanpy:finish chain 1\n",
      "INFO:cmdstanpy:finish chain 3\n"
     ]
    },
    {
     "name": "stdout",
     "output_type": "stream",
     "text": [
      "Sampling time : 5.429476261138916\n"
     ]
    }
   ],
   "source": [
    "model4_2 = CmdStanModel(stan_file=\"model/exercise9-4.stan\")\n",
    "print(model4_2)\n",
    "\n",
    "time_start = time.time()\n",
    "fit4_2 = model4_2.sample(data=data4)\n",
    "time_finish = time.time()\n",
    "print(\"Sampling time :\", time_finish - time_start)"
   ]
  }
 ],
 "metadata": {
  "kernelspec": {
   "display_name": "Python 3",
   "language": "python",
   "name": "python3"
  },
  "language_info": {
   "codemirror_mode": {
    "name": "ipython",
    "version": 3
   },
   "file_extension": ".py",
   "mimetype": "text/x-python",
   "name": "python",
   "nbconvert_exporter": "python",
   "pygments_lexer": "ipython3",
   "version": "3.8.5"
  }
 },
 "nbformat": 4,
 "nbformat_minor": 4
}
