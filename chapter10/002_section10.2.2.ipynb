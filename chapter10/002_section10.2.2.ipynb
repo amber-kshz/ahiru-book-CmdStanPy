{
 "cells": [
  {
   "cell_type": "code",
   "execution_count": 1,
   "metadata": {},
   "outputs": [],
   "source": [
    "import numpy as np\n",
    "import pandas as pd\n",
    "from cmdstanpy import CmdStanModel\n",
    "from itertools import islice"
   ]
  },
  {
   "cell_type": "markdown",
   "metadata": {},
   "source": [
    "# Load data"
   ]
  },
  {
   "cell_type": "code",
   "execution_count": 2,
   "metadata": {},
   "outputs": [
    {
     "name": "stdout",
     "output_type": "stream",
     "text": [
      "6231\n"
     ]
    },
    {
     "data": {
      "text/html": [
       "<div>\n",
       "<style scoped>\n",
       "    .dataframe tbody tr th:only-of-type {\n",
       "        vertical-align: middle;\n",
       "    }\n",
       "\n",
       "    .dataframe tbody tr th {\n",
       "        vertical-align: top;\n",
       "    }\n",
       "\n",
       "    .dataframe thead th {\n",
       "        text-align: right;\n",
       "    }\n",
       "</style>\n",
       "<table border=\"1\" class=\"dataframe\">\n",
       "  <thead>\n",
       "    <tr style=\"text-align: right;\">\n",
       "      <th></th>\n",
       "      <th>Loser</th>\n",
       "      <th>Winner</th>\n",
       "    </tr>\n",
       "  </thead>\n",
       "  <tbody>\n",
       "    <tr>\n",
       "      <th>0</th>\n",
       "      <td>22</td>\n",
       "      <td>83</td>\n",
       "    </tr>\n",
       "    <tr>\n",
       "      <th>1</th>\n",
       "      <td>39</td>\n",
       "      <td>27</td>\n",
       "    </tr>\n",
       "    <tr>\n",
       "      <th>2</th>\n",
       "      <td>47</td>\n",
       "      <td>105</td>\n",
       "    </tr>\n",
       "    <tr>\n",
       "      <th>3</th>\n",
       "      <td>1</td>\n",
       "      <td>7</td>\n",
       "    </tr>\n",
       "    <tr>\n",
       "      <th>4</th>\n",
       "      <td>45</td>\n",
       "      <td>81</td>\n",
       "    </tr>\n",
       "  </tbody>\n",
       "</table>\n",
       "</div>"
      ],
      "text/plain": [
       "   Loser  Winner\n",
       "0     22      83\n",
       "1     39      27\n",
       "2     47     105\n",
       "3      1       7\n",
       "4     45      81"
      ]
     },
     "execution_count": 2,
     "metadata": {},
     "output_type": "execute_result"
    }
   ],
   "source": [
    "df = pd.read_csv(\"data/data-shogi-player.txt\")\n",
    "print(len(df))\n",
    "df.head(5)"
   ]
  },
  {
   "cell_type": "markdown",
   "metadata": {},
   "source": [
    "# Run Stan"
   ]
  },
  {
   "cell_type": "code",
   "execution_count": 3,
   "metadata": {},
   "outputs": [
    {
     "name": "stderr",
     "output_type": "stream",
     "text": [
      "INFO:cmdstanpy:compiling stan program, exe file: /workdir/chapter10/model/model10-4\n",
      "INFO:cmdstanpy:compiler options: stanc_options=None, cpp_options=None\n",
      "INFO:cmdstanpy:compiled model file: /workdir/chapter10/model/model10-4\n"
     ]
    }
   ],
   "source": [
    "model = CmdStanModel(stan_file=\"model/model10-4.stan\")"
   ]
  },
  {
   "cell_type": "code",
   "execution_count": 4,
   "metadata": {},
   "outputs": [
    {
     "data": {
      "text/plain": [
       "166"
      ]
     },
     "execution_count": 4,
     "metadata": {},
     "output_type": "execute_result"
    }
   ],
   "source": [
    "set_players = set().union(df[\"Winner\"].values).union(df[\"Loser\"].values)\n",
    "len(set_players)"
   ]
  },
  {
   "cell_type": "code",
   "execution_count": 5,
   "metadata": {},
   "outputs": [],
   "source": [
    "data = {\n",
    "    \"N\": len(set_players),\n",
    "    \"G\": len(df),\n",
    "    \"LW\": df.values\n",
    "}"
   ]
  },
  {
   "cell_type": "code",
   "execution_count": 6,
   "metadata": {},
   "outputs": [
    {
     "name": "stderr",
     "output_type": "stream",
     "text": [
      "Chain 1 - warmup:   0%|          | 0/1 [00:00<?, ?it/s]\n",
      "Chain 2 - warmup:   0%|          | 0/1 [00:00<?, ?it/s]\u001b[A\n",
      "\n",
      "Chain 1 - warmup:   0%|          | 0/1 [00:00<?, ?it/s]\u001b[A\u001b[A\n",
      "Chain 2 - warmup:   0%|          | 0/1 [00:00<?, ?it/s]\u001b[A\n",
      "\n",
      "\n",
      "Chain 4 - warmup:   0%|          | 0/1 [00:00<?, ?it/s]\u001b[A\u001b[A\u001b[A\n",
      "\n",
      "Chain 3 - warmup:   0%|          | 0/1 [00:00<?, ?it/s]\u001b[A\u001b[A\n",
      "\n",
      "\n",
      "Chain 1 - warmup:   0%|          | 0/2000 [00:00<?, ?it/s]\u001b[A\u001b[A\n",
      "Chain 2 - warmup:   0%|          | 0/2000 [00:00<?, ?it/s]\u001b[A\n",
      "\n",
      "Chain 3 - warmup:   0%|          | 0/2000 [00:00<?, ?it/s]\u001b[A\u001b[A\n",
      "\n",
      "\n",
      "Chain 4 - warmup:   0%|          | 0/2000 [00:00<?, ?it/s]\u001b[A\u001b[A\u001b[A\n",
      "\n",
      "Chain 3 - warmup:   5%|▌         | 100/2000 [01:08<21:34,  1.47it/s]\u001b[A\u001b[A\n",
      "Chain 2 - warmup:   5%|▌         | 100/2000 [01:14<23:43,  1.34it/s]\u001b[A\n",
      "\n",
      "\n",
      "Chain 1 - warmup:   5%|▌         | 100/2000 [01:18<24:54,  1.27it/s]\u001b[A\u001b[A\u001b[A\n",
      "\n",
      "\n",
      "Chain 4 - warmup:  10%|█         | 200/2000 [02:12<21:09,  1.42it/s]\u001b[A\u001b[A\u001b[A\n",
      "\n",
      "Chain 3 - warmup:  10%|█         | 200/2000 [02:17<20:34,  1.46it/s]\u001b[A\u001b[A\n",
      "Chain 1 - warmup:  10%|█         | 200/2000 [02:23<22:20,  1.34it/s]\u001b[A\n",
      "\n",
      "\n",
      "Chain 4 - warmup:  15%|█▌        | 300/2000 [03:05<18:26,  1.54it/s]\u001b[A\u001b[A\u001b[A\n",
      "\n",
      "Chain 3 - warmup:  15%|█▌        | 300/2000 [03:05<17:40,  1.60it/s]\u001b[A\u001b[A\n",
      "Chain 1 - warmup:  15%|█▌        | 300/2000 [03:13<19:02,  1.49it/s]\u001b[A\n",
      "Chain 2 - warmup:  20%|██        | 400/2000 [03:50<15:30,  1.72it/s]\u001b[A\n",
      "\n",
      "Chain 3 - warmup:  20%|██        | 400/2000 [03:51<15:16,  1.75it/s]\u001b[A\u001b[A\n",
      "\n",
      "\n",
      "Chain 1 - warmup:  20%|██        | 400/2000 [04:01<16:22,  1.63it/s]\u001b[A\u001b[A\u001b[A\n",
      "Chain 2 - warmup:  25%|██▌       | 500/2000 [04:36<13:39,  1.83it/s]\u001b[A\n",
      "\n",
      "Chain 3 - warmup:  25%|██▌       | 500/2000 [04:38<13:36,  1.84it/s]\u001b[A\u001b[A\n",
      "\n",
      "\n",
      "Chain 1 - warmup:  25%|██▌       | 500/2000 [04:47<14:10,  1.76it/s]\u001b[A\u001b[A\u001b[A\n",
      "Chain 2 - warmup:  30%|███       | 600/2000 [05:16<11:44,  1.99it/s]\u001b[A\n",
      "\n",
      "Chain 3 - warmup:  30%|███       | 600/2000 [05:20<11:49,  1.97it/s]\u001b[A\u001b[A\n",
      "\n",
      "\n",
      "Chain 1 - warmup:  30%|███       | 600/2000 [05:33<12:31,  1.86it/s]\u001b[A\u001b[A\u001b[A\n",
      "Chain 2 - warmup:  35%|███▌      | 700/2000 [05:58<10:21,  2.09it/s]\u001b[A\n",
      "\n",
      "\n",
      "Chain 4 - warmup:  35%|███▌      | 700/2000 [06:05<10:39,  2.03it/s]\u001b[A\u001b[A\u001b[A\n",
      "\n",
      "Chain 1 - warmup:  35%|███▌      | 700/2000 [06:15<10:50,  2.00it/s]\u001b[A\u001b[A\n",
      "Chain 2 - warmup:  40%|████      | 800/2000 [06:42<09:20,  2.14it/s]\u001b[A\n",
      "\n",
      "\n",
      "Chain 4 - warmup:  40%|████      | 800/2000 [06:51<09:37,  2.08it/s]\u001b[A\u001b[A\u001b[A\n",
      "\n",
      "Chain 1 - warmup:  40%|████      | 800/2000 [06:57<09:32,  2.09it/s]\u001b[A\u001b[A\n",
      "Chain 2 - warmup:  45%|████▌     | 900/2000 [07:23<08:14,  2.22it/s]\u001b[A\n",
      "\n",
      "\n",
      "Chain 4 - warmup:  45%|████▌     | 900/2000 [07:28<08:12,  2.23it/s]\u001b[A\u001b[A\u001b[A\n",
      "\n",
      "Chain 1 - warmup:  45%|████▌     | 900/2000 [07:40<08:28,  2.16it/s]\u001b[A\u001b[A\n",
      "Chain 2 - warmup:  50%|█████     | 1000/2000 [08:08<07:29,  2.22it/s]\u001b[A\n",
      "Chain 2 - sample:  50%|█████     | 1000/2000 [08:08<07:29,  2.22it/s]\u001b[A\n",
      "Chain 2 - sample:  50%|█████     | 1001/2000 [08:08<06:40,  2.50it/s]\u001b[A\n",
      "\n",
      "\n",
      "Chain 4 - warmup:  50%|█████     | 1000/2000 [08:10<07:19,  2.28it/s]\u001b[A\u001b[A\u001b[A\n",
      "\n",
      "\n",
      "Chain 4 - sample:  50%|█████     | 1000/2000 [08:10<07:19,  2.28it/s]\u001b[A\u001b[A\u001b[A\n",
      "\n",
      "\n",
      "Chain 4 - sample:  50%|█████     | 1001/2000 [08:10<07:40,  2.17it/s]\u001b[A\u001b[A\u001b[A\n",
      "\n",
      "Chain 3 - warmup:  50%|█████     | 1000/2000 [08:15<07:30,  2.22it/s]\u001b[A\u001b[A\n",
      "\n",
      "Chain 3 - sample:  50%|█████     | 1000/2000 [08:16<07:30,  2.22it/s]\u001b[A\u001b[A\n",
      "\n",
      "Chain 1 - sample:  50%|█████     | 1001/2000 [08:26<07:55,  2.10it/s]\u001b[A\u001b[A\n",
      "Chain 2 - sample:  55%|█████▌    | 1100/2000 [08:59<06:28,  2.31it/s]\u001b[A\n",
      "\n",
      "\n",
      "Chain 4 - sample:  55%|█████▌    | 1100/2000 [09:00<07:07,  2.11it/s]\u001b[A\u001b[A\u001b[A\n",
      "\n",
      "Chain 1 - sample:  55%|█████▌    | 1100/2000 [09:16<07:16,  2.06it/s]\u001b[A\u001b[A\n",
      "Chain 2 - sample:  60%|██████    | 1200/2000 [09:49<06:02,  2.21it/s]\u001b[A\n",
      "\n",
      "\n",
      "Chain 4 - sample:  60%|██████    | 1200/2000 [09:51<06:26,  2.07it/s]\u001b[A\u001b[A\u001b[A\n",
      "\n",
      "Chain 1 - sample:  60%|██████    | 1200/2000 [10:07<06:34,  2.03it/s]\u001b[A\u001b[A\n",
      "Chain 2 - sample:  65%|██████▌   | 1300/2000 [10:40<05:30,  2.12it/s]\u001b[A\n",
      "\n",
      "\n",
      "Chain 4 - sample:  65%|██████▌   | 1300/2000 [10:42<05:44,  2.03it/s]\u001b[A\u001b[A\u001b[A\n",
      "\n",
      "Chain 1 - sample:  65%|██████▌   | 1300/2000 [10:58<05:49,  2.01it/s]\u001b[A\u001b[A\n",
      "Chain 2 - sample:  70%|███████   | 1400/2000 [11:31<04:50,  2.07it/s]\u001b[A\n",
      "\n",
      "\n",
      "Chain 4 - sample:  70%|███████   | 1400/2000 [11:33<04:59,  2.00it/s]\u001b[A\u001b[A\u001b[A\n",
      "\n",
      "Chain 1 - sample:  70%|███████   | 1400/2000 [11:51<05:04,  1.97it/s]\u001b[A\u001b[A\n",
      "Chain 2 - sample:  75%|███████▌  | 1500/2000 [12:24<04:08,  2.01it/s]\u001b[A\n",
      "\n",
      "\n",
      "Chain 4 - sample:  75%|███████▌  | 1500/2000 [12:26<04:13,  1.98it/s]\u001b[A\u001b[A\u001b[A\n",
      "\n",
      "Chain 1 - sample:  75%|███████▌  | 1500/2000 [12:42<04:14,  1.97it/s]\u001b[A\u001b[A\n",
      "Chain 2 - sample:  80%|████████  | 1600/2000 [13:14<03:19,  2.01it/s]\u001b[A\n",
      "\n",
      "\n",
      "Chain 4 - sample:  80%|████████  | 1600/2000 [13:16<03:22,  1.98it/s]\u001b[A\u001b[A\u001b[A\n",
      "\n",
      "Chain 1 - sample:  80%|████████  | 1600/2000 [13:32<03:22,  1.97it/s]\u001b[A\u001b[A\n",
      "Chain 2 - sample:  85%|████████▌ | 1700/2000 [14:03<02:28,  2.02it/s]\u001b[A\n",
      "\n",
      "\n",
      "Chain 4 - sample:  85%|████████▌ | 1700/2000 [14:05<02:29,  2.00it/s]\u001b[A\u001b[A\u001b[A\n",
      "\n",
      "Chain 1 - sample:  85%|████████▌ | 1700/2000 [14:21<02:30,  2.00it/s]\u001b[A\u001b[A\n",
      "Chain 2 - sample:  90%|█████████ | 1800/2000 [14:51<01:38,  2.03it/s]\u001b[A\n",
      "\n",
      "\n",
      "Chain 4 - sample:  90%|█████████ | 1800/2000 [14:53<01:39,  2.02it/s]\u001b[A\u001b[A\u001b[A\n",
      "\n",
      "Chain 1 - sample:  90%|█████████ | 1800/2000 [15:09<01:39,  2.02it/s]\u001b[A\u001b[A\n",
      "Chain 2 - sample:  95%|█████████▌| 1900/2000 [15:41<00:49,  2.03it/s]\u001b[A\n",
      "\n",
      "\n",
      "Chain 4 - sample:  95%|█████████▌| 1900/2000 [15:43<00:49,  2.02it/s]\u001b[A\u001b[A\u001b[A\n",
      "\n",
      "Chain 1 - sample:  95%|█████████▌| 1900/2000 [16:00<00:49,  2.01it/s]\u001b[A\u001b[A\n",
      "Chain 2 - sample: 100%|██████████| 2000/2000 [16:31<00:00,  2.01it/s]\u001b[A\n",
      "Chain 2 -   done: 100%|██████████| 2000/2000 [16:32<00:00,  2.01it/s]\u001b[A\n",
      "\n",
      "\n",
      "Chain 4 - sample: 100%|██████████| 2000/2000 [16:33<00:00,  2.01it/s]\u001b[A\u001b[A\u001b[A\n",
      "\n",
      "\n",
      "Chain 4 -   done: 100%|██████████| 2000/2000 [16:34<00:00,  2.01it/s]\u001b[A\u001b[A\u001b[A\n",
      "\n",
      "Chain 3 - sample: 100%|██████████| 2000/2000 [16:41<00:00,  2.01it/s]\u001b[A\u001b[A\n",
      "\n",
      "Chain 1 -   done: 100%|██████████| 2000/2000 [16:47<00:00,  1.98it/s]\u001b[A\u001b[A\n",
      "Chain 2 -   done: 100%|██████████| 2000/2000 [16:47<00:00,  1.99it/s]\n",
      "Chain 3 -   done: 100%|██████████| 2000/2000 [16:47<00:00,  1.99it/s]\n",
      "Chain 4 -   done: 100%|██████████| 2000/2000 [16:47<00:00,  1.99it/s]\n"
     ]
    }
   ],
   "source": [
    "fit = model.sample(data=data, show_progress=True)"
   ]
  },
  {
   "cell_type": "code",
   "execution_count": 11,
   "metadata": {},
   "outputs": [
    {
     "data": {
      "text/html": [
       "<div>\n",
       "<style scoped>\n",
       "    .dataframe tbody tr th:only-of-type {\n",
       "        vertical-align: middle;\n",
       "    }\n",
       "\n",
       "    .dataframe tbody tr th {\n",
       "        vertical-align: top;\n",
       "    }\n",
       "\n",
       "    .dataframe thead th {\n",
       "        text-align: right;\n",
       "    }\n",
       "</style>\n",
       "<table border=\"1\" class=\"dataframe\">\n",
       "  <thead>\n",
       "    <tr style=\"text-align: right;\">\n",
       "      <th></th>\n",
       "      <th>Mean</th>\n",
       "      <th>MCSE</th>\n",
       "      <th>StdDev</th>\n",
       "      <th>5%</th>\n",
       "      <th>50%</th>\n",
       "      <th>95%</th>\n",
       "      <th>N_Eff</th>\n",
       "      <th>N_Eff/s</th>\n",
       "      <th>R_hat</th>\n",
       "    </tr>\n",
       "    <tr>\n",
       "      <th>name</th>\n",
       "      <th></th>\n",
       "      <th></th>\n",
       "      <th></th>\n",
       "      <th></th>\n",
       "      <th></th>\n",
       "      <th></th>\n",
       "      <th></th>\n",
       "      <th></th>\n",
       "      <th></th>\n",
       "    </tr>\n",
       "  </thead>\n",
       "  <tbody>\n",
       "  </tbody>\n",
       "</table>\n",
       "</div>"
      ],
      "text/plain": [
       "Empty DataFrame\n",
       "Columns: [Mean, MCSE, StdDev, 5%, 50%, 95%, N_Eff, N_Eff/s, R_hat]\n",
       "Index: []"
      ]
     },
     "execution_count": 11,
     "metadata": {},
     "output_type": "execute_result"
    }
   ],
   "source": [
    "summary = fit.summary()\n",
    "summary[summary[\"R_hat\"] >= 1.1]"
   ]
  },
  {
   "cell_type": "markdown",
   "metadata": {},
   "source": [
    "# Show result"
   ]
  },
  {
   "cell_type": "code",
   "execution_count": 7,
   "metadata": {},
   "outputs": [],
   "source": [
    "players = dict()\n",
    "with open(\"data/data-shogi-player-name.txt\") as f:\n",
    "    for line in islice(f, 1, None):\n",
    "        tmp = line.strip().split(\"\\t\")\n",
    "        players[int(tmp[2])] = tmp[1]"
   ]
  },
  {
   "cell_type": "code",
   "execution_count": 8,
   "metadata": {},
   "outputs": [],
   "source": [
    "pf = np.median(fit.stan_variable(\"mu\"), axis=0)\n",
    "s_pf = np.median(fit.stan_variable(\"s_pf\"), axis=0)"
   ]
  },
  {
   "cell_type": "code",
   "execution_count": 9,
   "metadata": {},
   "outputs": [
    {
     "name": "stdout",
     "output_type": "stream",
     "text": [
      "47 羽生善治 1.863785 0.836843\n",
      "105 渡辺明 1.610375 1.0213299999999998\n",
      "134 豊島将之 1.33272 0.975645\n",
      "78 行方尚史 1.29928 0.7833034999999999\n",
      "65 郷田真隆 1.2862749999999998 0.9419329999999999\n",
      "130 糸谷哲郎 1.25749 1.225095\n",
      "52 佐藤康光 1.252625 0.989267\n",
      "53 森内俊之 1.17283 1.2390850000000002\n",
      "77 久保利明 1.1164100000000001 0.857098\n",
      "59 屋敷伸之 1.1016249999999999 0.7951945\n"
     ]
    }
   ],
   "source": [
    "for i in islice(np.argsort(-pf), 0, 10):\n",
    "    print(i+1, players[i+1], pf[i], s_pf[i])"
   ]
  },
  {
   "cell_type": "code",
   "execution_count": 10,
   "metadata": {},
   "outputs": [
    {
     "name": "stdout",
     "output_type": "stream",
     "text": [
      "155 藤森哲也 1.2644950000000001\n",
      "53 森内俊之 1.2390850000000002\n",
      "130 糸谷哲郎 1.225095\n",
      "86 松本佳介 1.20546\n",
      "99 山本真也 1.19767\n",
      "71 深浦康市 1.193835\n",
      "116 横山泰明 1.1872500000000001\n",
      "51 神崎健二 1.15542\n",
      "140 田中悠一 1.152065\n",
      "109 橋本崇載 1.151125\n"
     ]
    }
   ],
   "source": [
    "for i in islice(np.argsort(-s_pf), 0, 10):\n",
    "    print(i+1, players[i+1], s_pf[i])"
   ]
  }
 ],
 "metadata": {
  "kernelspec": {
   "display_name": "Python 3",
   "language": "python",
   "name": "python3"
  },
  "language_info": {
   "codemirror_mode": {
    "name": "ipython",
    "version": 3
   },
   "file_extension": ".py",
   "mimetype": "text/x-python",
   "name": "python",
   "nbconvert_exporter": "python",
   "pygments_lexer": "ipython3",
   "version": "3.8.5"
  }
 },
 "nbformat": 4,
 "nbformat_minor": 4
}
