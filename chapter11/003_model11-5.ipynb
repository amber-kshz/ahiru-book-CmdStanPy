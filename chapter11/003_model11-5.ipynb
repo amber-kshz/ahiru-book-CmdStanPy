{
 "cells": [
  {
   "cell_type": "code",
   "execution_count": 1,
   "metadata": {},
   "outputs": [],
   "source": [
    "import pandas as pd\n",
    "import seaborn as sns\n",
    "from cmdstanpy import CmdStanModel\n",
    "from matplotlib import pyplot as plt"
   ]
  },
  {
   "cell_type": "markdown",
   "metadata": {},
   "source": [
    "# Load and plot"
   ]
  },
  {
   "cell_type": "code",
   "execution_count": 2,
   "metadata": {},
   "outputs": [
    {
     "name": "stdout",
     "output_type": "stream",
     "text": [
      "100\n"
     ]
    },
    {
     "data": {
      "text/html": [
       "<div>\n",
       "<style scoped>\n",
       "    .dataframe tbody tr th:only-of-type {\n",
       "        vertical-align: middle;\n",
       "    }\n",
       "\n",
       "    .dataframe tbody tr th {\n",
       "        vertical-align: top;\n",
       "    }\n",
       "\n",
       "    .dataframe thead th {\n",
       "        text-align: right;\n",
       "    }\n",
       "</style>\n",
       "<table border=\"1\" class=\"dataframe\">\n",
       "  <thead>\n",
       "    <tr style=\"text-align: right;\">\n",
       "      <th></th>\n",
       "      <th>Y</th>\n",
       "    </tr>\n",
       "  </thead>\n",
       "  <tbody>\n",
       "    <tr>\n",
       "      <th>0</th>\n",
       "      <td>-0.84</td>\n",
       "    </tr>\n",
       "    <tr>\n",
       "      <th>1</th>\n",
       "      <td>-0.35</td>\n",
       "    </tr>\n",
       "    <tr>\n",
       "      <th>2</th>\n",
       "      <td>2.34</td>\n",
       "    </tr>\n",
       "    <tr>\n",
       "      <th>3</th>\n",
       "      <td>0.11</td>\n",
       "    </tr>\n",
       "    <tr>\n",
       "      <th>4</th>\n",
       "      <td>0.19</td>\n",
       "    </tr>\n",
       "  </tbody>\n",
       "</table>\n",
       "</div>"
      ],
      "text/plain": [
       "      Y\n",
       "0 -0.84\n",
       "1 -0.35\n",
       "2  2.34\n",
       "3  0.11\n",
       "4  0.19"
      ]
     },
     "execution_count": 2,
     "metadata": {},
     "output_type": "execute_result"
    }
   ],
   "source": [
    "df = pd.read_csv(\"data/data-mix1.txt\")\n",
    "print(len(df))\n",
    "df.head(5)"
   ]
  },
  {
   "cell_type": "code",
   "execution_count": 3,
   "metadata": {},
   "outputs": [
    {
     "data": {
      "image/png": "[encoded data removed]",
      "text/plain": [
       "<Figure size 576x432 with 1 Axes>"
      ]
     },
     "metadata": {
      "needs_background": "light"
     },
     "output_type": "display_data"
    }
   ],
   "source": [
    "fig = plt.figure(figsize=(8, 6))\n",
    "ax = fig.add_subplot(1, 1, 1)\n",
    "sns.histplot(ax=ax, x=df[\"Y\"], stat=\"density\", fill=False, color=\"k\")\n",
    "sns.kdeplot(ax=ax, x=df[\"Y\"], fill=True, color=\"C0\")\n",
    "fig.show()"
   ]
  },
  {
   "cell_type": "markdown",
   "metadata": {},
   "source": [
    "# Run Stan"
   ]
  },
  {
   "cell_type": "code",
   "execution_count": 4,
   "metadata": {},
   "outputs": [
    {
     "name": "stderr",
     "output_type": "stream",
     "text": [
      "INFO:cmdstanpy:found newer exe file, not recompiling\n",
      "INFO:cmdstanpy:compiled model file: /workdir/chapter11/model/model11-5\n"
     ]
    },
    {
     "name": "stdout",
     "output_type": "stream",
     "text": [
      "CmdStanModel: name=model11-5\n",
      "\t stan_file=/workdir/chapter11/model/model11-5.stan\n",
      "\t exe_file=/workdir/chapter11/model/model11-5\n",
      "\t compiler_optons=stanc_options=None, cpp_options=None\n"
     ]
    }
   ],
   "source": [
    "model = CmdStanModel(stan_file=\"model/model11-5.stan\")\n",
    "print(model)"
   ]
  },
  {
   "cell_type": "code",
   "execution_count": 5,
   "metadata": {},
   "outputs": [
    {
     "name": "stderr",
     "output_type": "stream",
     "text": [
      "INFO:cmdstanpy:start chain 1\n",
      "INFO:cmdstanpy:start chain 2\n",
      "INFO:cmdstanpy:start chain 3\n",
      "INFO:cmdstanpy:start chain 4\n",
      "INFO:cmdstanpy:finish chain 3\n",
      "INFO:cmdstanpy:finish chain 1\n",
      "INFO:cmdstanpy:finish chain 4\n",
      "INFO:cmdstanpy:finish chain 2\n"
     ]
    }
   ],
   "source": [
    "# without initial value, it sometimes fail to converge\n",
    "fit = model.sample(\n",
    "    data={\n",
    "        \"N\": len(df),\n",
    "        \"Y\": df[\"Y\"].values\n",
    "    },\n",
    "    inits={\n",
    "        \"mu\": [0.0, 6.0]\n",
    "    }\n",
    ")"
   ]
  },
  {
   "cell_type": "code",
   "execution_count": 6,
   "metadata": {},
   "outputs": [
    {
     "data": {
      "text/html": [
       "<div>\n",
       "<style scoped>\n",
       "    .dataframe tbody tr th:only-of-type {\n",
       "        vertical-align: middle;\n",
       "    }\n",
       "\n",
       "    .dataframe tbody tr th {\n",
       "        vertical-align: top;\n",
       "    }\n",
       "\n",
       "    .dataframe thead th {\n",
       "        text-align: right;\n",
       "    }\n",
       "</style>\n",
       "<table border=\"1\" class=\"dataframe\">\n",
       "  <thead>\n",
       "    <tr style=\"text-align: right;\">\n",
       "      <th></th>\n",
       "      <th>Mean</th>\n",
       "      <th>MCSE</th>\n",
       "      <th>StdDev</th>\n",
       "      <th>5%</th>\n",
       "      <th>50%</th>\n",
       "      <th>95%</th>\n",
       "      <th>N_Eff</th>\n",
       "      <th>N_Eff/s</th>\n",
       "      <th>R_hat</th>\n",
       "    </tr>\n",
       "    <tr>\n",
       "      <th>name</th>\n",
       "      <th></th>\n",
       "      <th></th>\n",
       "      <th></th>\n",
       "      <th></th>\n",
       "      <th></th>\n",
       "      <th></th>\n",
       "      <th></th>\n",
       "      <th></th>\n",
       "      <th></th>\n",
       "    </tr>\n",
       "  </thead>\n",
       "  <tbody>\n",
       "    <tr>\n",
       "      <th>lp__</th>\n",
       "      <td>-248.37400</td>\n",
       "      <td>0.043625</td>\n",
       "      <td>1.738970</td>\n",
       "      <td>-251.687000</td>\n",
       "      <td>-248.013000</td>\n",
       "      <td>-246.258000</td>\n",
       "      <td>1588.97</td>\n",
       "      <td>1355.780</td>\n",
       "      <td>1.00038</td>\n",
       "    </tr>\n",
       "    <tr>\n",
       "      <th>a</th>\n",
       "      <td>0.54127</td>\n",
       "      <td>0.002364</td>\n",
       "      <td>0.079101</td>\n",
       "      <td>0.395743</td>\n",
       "      <td>0.548139</td>\n",
       "      <td>0.656303</td>\n",
       "      <td>1119.86</td>\n",
       "      <td>955.509</td>\n",
       "      <td>1.00304</td>\n",
       "    </tr>\n",
       "    <tr>\n",
       "      <th>mu[1]</th>\n",
       "      <td>-0.05000</td>\n",
       "      <td>0.004800</td>\n",
       "      <td>0.230000</td>\n",
       "      <td>-0.430000</td>\n",
       "      <td>-0.048000</td>\n",
       "      <td>0.330000</td>\n",
       "      <td>2389.00</td>\n",
       "      <td>2038.000</td>\n",
       "      <td>1.00000</td>\n",
       "    </tr>\n",
       "    <tr>\n",
       "      <th>mu[2]</th>\n",
       "      <td>5.70000</td>\n",
       "      <td>0.021000</td>\n",
       "      <td>0.680000</td>\n",
       "      <td>4.400000</td>\n",
       "      <td>5.800000</td>\n",
       "      <td>6.700000</td>\n",
       "      <td>1099.00</td>\n",
       "      <td>938.000</td>\n",
       "      <td>1.00000</td>\n",
       "    </tr>\n",
       "    <tr>\n",
       "      <th>sigma[1]</th>\n",
       "      <td>1.30000</td>\n",
       "      <td>0.004800</td>\n",
       "      <td>0.190000</td>\n",
       "      <td>1.000000</td>\n",
       "      <td>1.300000</td>\n",
       "      <td>1.600000</td>\n",
       "      <td>1588.00</td>\n",
       "      <td>1355.000</td>\n",
       "      <td>1.00000</td>\n",
       "    </tr>\n",
       "    <tr>\n",
       "      <th>sigma[2]</th>\n",
       "      <td>2.50000</td>\n",
       "      <td>0.014000</td>\n",
       "      <td>0.490000</td>\n",
       "      <td>1.800000</td>\n",
       "      <td>2.400000</td>\n",
       "      <td>3.400000</td>\n",
       "      <td>1187.00</td>\n",
       "      <td>1013.000</td>\n",
       "      <td>1.00000</td>\n",
       "    </tr>\n",
       "  </tbody>\n",
       "</table>\n",
       "</div>"
      ],
      "text/plain": [
       "               Mean      MCSE    StdDev          5%         50%         95%  \\\n",
       "name                                                                          \n",
       "lp__     -248.37400  0.043625  1.738970 -251.687000 -248.013000 -246.258000   \n",
       "a           0.54127  0.002364  0.079101    0.395743    0.548139    0.656303   \n",
       "mu[1]      -0.05000  0.004800  0.230000   -0.430000   -0.048000    0.330000   \n",
       "mu[2]       5.70000  0.021000  0.680000    4.400000    5.800000    6.700000   \n",
       "sigma[1]    1.30000  0.004800  0.190000    1.000000    1.300000    1.600000   \n",
       "sigma[2]    2.50000  0.014000  0.490000    1.800000    2.400000    3.400000   \n",
       "\n",
       "            N_Eff   N_Eff/s    R_hat  \n",
       "name                                  \n",
       "lp__      1588.97  1355.780  1.00038  \n",
       "a         1119.86   955.509  1.00304  \n",
       "mu[1]     2389.00  2038.000  1.00000  \n",
       "mu[2]     1099.00   938.000  1.00000  \n",
       "sigma[1]  1588.00  1355.000  1.00000  \n",
       "sigma[2]  1187.00  1013.000  1.00000  "
      ]
     },
     "execution_count": 6,
     "metadata": {},
     "output_type": "execute_result"
    }
   ],
   "source": [
    "fit.summary()"
   ]
  }
 ],
 "metadata": {
  "kernelspec": {
   "display_name": "Python 3",
   "language": "python",
   "name": "python3"
  },
  "language_info": {
   "codemirror_mode": {
    "name": "ipython",
    "version": 3
   },
   "file_extension": ".py",
   "mimetype": "text/x-python",
   "name": "python",
   "nbconvert_exporter": "python",
   "pygments_lexer": "ipython3",
   "version": "3.8.5"
  }
 },
 "nbformat": 4,
 "nbformat_minor": 4
}
